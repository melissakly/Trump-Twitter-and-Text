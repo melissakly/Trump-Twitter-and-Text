{
 "cells": [
  {
   "cell_type": "markdown",
   "metadata": {},
   "source": [
    "# Project 1: Trump, Twitter, and Text\n",
    "\n",
    "Welcome to the first project of DS100! In this project, we will work with the Twitter API in order to analyze Donald Trump's tweets.\n",
    "\n",
    "**The project checkpoint is due 11:59pm Tuesday, Sept. 26.** The checkpoint is graded on *completeness*, not correctness. You must complete Questions 1-4 in order to get full credit for the checkpoint.\n",
    "\n",
    "**The entire project is due 11:59pm Tuesday, Oct 3.**\n",
    "\n",
    "*Fair warning:* This project involves significantly more challenging pandas operations than the previous homeworks. We strongly suggest you start early.\n",
    "\n",
    "**Grading:**\n",
    "\n",
    "The checkpoint is worth **10%** of the overall project grade and is graded on completeness.\n",
    "\n",
    "However, the final submission of the project will be graded on **correctness**.\n",
    "\n",
    "**Fun:**\n",
    "\n",
    "We intended this project to be fun! You will analyze actual data from the Twitter API — no precooked dataset this time around. You will also draw conclusions about the current (and often controversial) US President's tweet behavior. If you find yourself getting frustrated or stuck on one problem for too long, we suggest coming into office hours and working with friends in the class.\n",
    "\n",
    "With that in mind, let's get started!"
   ]
  },
  {
   "cell_type": "code",
   "execution_count": 798,
   "metadata": {},
   "outputs": [
    {
     "name": "stdout",
     "output_type": "stream",
     "text": [
      "=====================================================================\n",
      "Assignment: Project 1\n",
      "OK, version v1.12.10\n",
      "=====================================================================\n",
      "\n"
     ]
    }
   ],
   "source": [
    "# Run this cell to set up your notebook\n",
    "import csv\n",
    "import numpy as np\n",
    "import pandas as pd\n",
    "import matplotlib.pyplot as plt\n",
    "%matplotlib inline\n",
    "plt.style.use('fivethirtyeight')\n",
    "import seaborn as sns\n",
    "sns.set()\n",
    "sns.set_context(\"talk\")\n",
    "import re\n",
    "\n",
    "from IPython.display import display, Latex, Markdown\n",
    "from client.api.notebook import Notebook\n",
    "ok = Notebook('proj1.ok')"
   ]
  },
  {
   "cell_type": "code",
   "execution_count": 799,
   "metadata": {},
   "outputs": [
    {
     "name": "stdout",
     "output_type": "stream",
     "text": [
      "Successfully logged in as melissakly@berkeley.edu\n"
     ]
    }
   ],
   "source": [
    "# Log into OkPy. You may have to change this to ok.auth(force=True) if you run into\n",
    "# an OAuthError\n",
    "#ok.auth(force=True)\n",
    "ok.auth()"
   ]
  },
  {
   "cell_type": "markdown",
   "metadata": {},
   "source": [
    "\n",
    "<br/><br/><br/>\n",
    "\n",
    "# Getting the dataset\n",
    "\n",
    "---\n",
    "\n",
    "Since we'll be looking at Twitter data, we need to download the data from Twitter!\n",
    "\n",
    "Twitter provides an API for downloading tweet data in large batches.  The `tweepy` package makes it fairly easy to use."
   ]
  },
  {
   "cell_type": "markdown",
   "metadata": {},
   "source": [
    "#### Setup\n",
    "Install `tweepy`, if you don't already have it.  (Be sure to activate your Conda environment for the class first.  Then run `pip install tweepy`.)"
   ]
  },
  {
   "cell_type": "code",
   "execution_count": 88,
   "metadata": {
    "collapsed": true
   },
   "outputs": [],
   "source": [
    "## Make sure you are in your ds100 conda environment.\n",
    "## Uncomment the following line to install tweepy\n",
    "# !pip install tweepy"
   ]
  },
  {
   "cell_type": "code",
   "execution_count": 89,
   "metadata": {
    "collapsed": true
   },
   "outputs": [],
   "source": [
    "# The following should run\n",
    "import tweepy"
   ]
  },
  {
   "cell_type": "markdown",
   "metadata": {},
   "source": [
    "There are instructions on using `tweepy` [here](http://tweepy.readthedocs.io/en/v3.5.0/getting_started.html), but we will give you example code.\n",
    "\n",
    "Twitter requires you to have authentication keys to access their API.  To get your keys, you'll have to sign up as a Twitter developer.  The next question will walk you through this process."
   ]
  },
  {
   "cell_type": "markdown",
   "metadata": {},
   "source": [
    "---\n",
    "<br/><br/>\n",
    "\n",
    "## Question 1\n",
    "\n",
    "Follow the instructions below to get your Twitter API keys.  Read the instructions completely before starting.\n",
    "\n",
    "1. [Create a Twitter account](https://twitter.com).  You can use an existing account if you have one.\n",
    "2. Under account settings, add your phone number to the account.\n",
    "3. [Create a Twitter developer account](https://dev.twitter.com/resources/signup).  Attach it to your Twitter account.\n",
    "4. Once you're logged into your developer account, [create an application for this assignment](https://apps.twitter.com/app/new).  You can call it whatever you want, and you can write any URL when it asks for a web site.\n",
    "5. On the page for that application, find your Consumer Key and Consumer Secret.\n",
    "6. On the same page, create an Access Token.  Record the resulting Access Token and Access Token Secret.\n",
    "7. Edit the file [keys.json](keys.json) and replace the placeholders with your keys.  Don't turn in that file."
   ]
  },
  {
   "cell_type": "markdown",
   "metadata": {},
   "source": [
    "\n",
    "## WARNING (Please Read) !!!!\n",
    "\n",
    "\n",
    "### Protect your Twitter Keys\n",
    "<span style=\"color:red\">\n",
    "If someone has your authentication keys, they can access your Twitter account and post as you!  So don't give them to anyone, and **don't write them down in this notebook**. \n",
    "</span>\n",
    "The usual way to store sensitive information like this is to put it in a separate file and read it programmatically.  That way, you can share the rest of your code without sharing your keys.  That's why we're asking you to put your keys in `keys.json` for this assignment.\n",
    "\n",
    "\n",
    "### Avoid making too many API calls.\n",
    "\n",
    "<span style=\"color:red\">\n",
    "Twitter limits developers to a certain rate of requests for data.  If you make too many requests in a short period of time, you'll have to wait awhile (around 15 minutes) before you can make more.  </span> \n",
    "So carefully follow the code examples you see and don't rerun cells without thinking.  Instead, always save the data you've collected to a file.  We've provided templates to help you do that.\n",
    "\n",
    "\n",
    "### Be careful about which functions you call!\n",
    "\n",
    "<span style=\"color:red\">\n",
    "This API can retweet tweets, follow and unfollow people, and modify your twitter settings.  Be careful which functions you invoke! </span> One of your instructors accidentally re-tweeted some tweets because that instructor typed `retweet` instead of `retweet_count`. \n",
    "</span>\n"
   ]
  },
  {
   "cell_type": "code",
   "execution_count": 90,
   "metadata": {
    "collapsed": true
   },
   "outputs": [],
   "source": [
    "import json\n",
    "key_file = 'keys.json'\n",
    "# Loading your keys from keys.json (which you should have filled\n",
    "# in in question 1):\n",
    "with open(key_file) as f:\n",
    "    keys = json.load(f)\n",
    "# if you print or view the contents of keys be sure to delete the cell!"
   ]
  },
  {
   "cell_type": "markdown",
   "metadata": {},
   "source": [
    "This cell tests the Twitter authentication. It should run without errors or warnings and display your Twitter username."
   ]
  },
  {
   "cell_type": "code",
   "execution_count": 91,
   "metadata": {},
   "outputs": [
    {
     "name": "stdout",
     "output_type": "stream",
     "text": [
      "Your username is: iloveds100\n"
     ]
    }
   ],
   "source": [
    "import tweepy\n",
    "from tweepy import TweepError\n",
    "import logging\n",
    "\n",
    "try:\n",
    "    auth = tweepy.OAuthHandler(keys[\"consumer_key\"], keys[\"consumer_secret\"])\n",
    "    auth.set_access_token(keys[\"access_token\"], keys[\"access_token_secret\"])\n",
    "    api = tweepy.API(auth)\n",
    "    print(\"Your username is:\", api.auth.get_username())\n",
    "except TweepError as e:\n",
    "    logging.warning(\"There was a Tweepy error. Double check your API keys and try again.\")\n",
    "    logging.warning(e)"
   ]
  },
  {
   "cell_type": "markdown",
   "metadata": {},
   "source": [
    "---\n",
    "<br/><br/>\n",
    "\n",
    "\n",
    "## Question 2\n",
    "\n",
    "In the example below, we have loaded some tweets by @BerkeleyData.  Run it and read the code."
   ]
  },
  {
   "cell_type": "code",
   "execution_count": 92,
   "metadata": {
    "collapsed": true
   },
   "outputs": [],
   "source": [
    "from pathlib import Path\n",
    "\n",
    "ds_tweets_save_path = \"BerkeleyData_recent_tweets.pkl\"\n",
    "# Guarding against attempts to download the data multiple\n",
    "# times:\n",
    "if not Path(ds_tweets_save_path).is_file():\n",
    "    # Obtaining twitter keys\n",
    "    import json\n",
    "    key_file = 'keys.json'\n",
    "    # Loading your keys from keys.json (which you should have filled\n",
    "    # in in question 1):\n",
    "    with open(key_file) as f:\n",
    "        keys = json.load(f)\n",
    "    \n",
    "    # Authenticating:\n",
    "    import tweepy\n",
    "    auth = tweepy.OAuthHandler(keys[\"consumer_key\"], keys[\"consumer_secret\"])\n",
    "    auth.set_access_token(keys[\"access_token\"], keys[\"access_token_secret\"])\n",
    "    api = tweepy.API(auth)\n",
    "\n",
    "    # Getting as many recent tweets by @BerkeleyData as Twitter will let us have:\n",
    "    example_tweets = list(tweepy.Cursor(api.user_timeline, id=\"BerkeleyData\").items())\n",
    "\n",
    "    # Saving the tweets to a file as \"pickled\" objects:\n",
    "    with open(ds_tweets_save_path, \"wb\") as f:\n",
    "        import pickle\n",
    "        pickle.dump(example_tweets, f)\n",
    "\n",
    "# Re-loading the results:\n",
    "with open(ds_tweets_save_path, \"rb\") as f:\n",
    "    import pickle\n",
    "    example_tweets = pickle.load(f)"
   ]
  },
  {
   "cell_type": "markdown",
   "metadata": {},
   "source": [
    "Assuming everything ran correctly you should be able to look at the first tweet by running the cell below:"
   ]
  },
  {
   "cell_type": "code",
   "execution_count": 93,
   "metadata": {
    "scrolled": true
   },
   "outputs": [
    {
     "name": "stdout",
     "output_type": "stream",
     "text": [
      "{'contributors': None,\n",
      " 'coordinates': None,\n",
      " 'created_at': 'Fri Sep 15 16:30:36 +0000 2017',\n",
      " 'entities': {'hashtags': [{'indices': [56, 72], 'text': 'machinelearning'}],\n",
      "              'symbols': [],\n",
      "              'urls': [{'display_url': 'bit.ly/2wOlDcJ',\n",
      "                        'expanded_url': 'http://bit.ly/2wOlDcJ',\n",
      "                        'indices': [106, 129],\n",
      "                        'url': 'https://t.co/poQtalGvNn'}],\n",
      "              'user_mentions': [{'id': 22873424,\n",
      "                                 'id_str': '22873424',\n",
      "                                 'indices': [130, 140],\n",
      "                                 'name': 'CIO.com',\n",
      "                                 'screen_name': 'CIOonline'}]},\n",
      " 'favorite_count': 3,\n",
      " 'favorited': False,\n",
      " 'geo': None,\n",
      " 'id': 908729774100578304,\n",
      " 'id_str': '908729774100578304',\n",
      " 'in_reply_to_screen_name': None,\n",
      " 'in_reply_to_status_id': None,\n",
      " 'in_reply_to_status_id_str': None,\n",
      " 'in_reply_to_user_id': None,\n",
      " 'in_reply_to_user_id_str': None,\n",
      " 'is_quote_status': False,\n",
      " 'lang': 'en',\n",
      " 'place': None,\n",
      " 'possibly_sensitive': False,\n",
      " 'retweet_count': 3,\n",
      " 'retweeted': False,\n",
      " 'source': '<a href=\"http://www.hootsuite.com\" rel=\"nofollow\">Hootsuite</a>',\n",
      " 'text': 'What exactly is machine learning? Here’s a look at what '\n",
      "         '#machinelearning is and how it can be used today: '\n",
      "         'https://t.co/poQtalGvNn @CIOonline',\n",
      " 'truncated': False,\n",
      " 'user': {'contributors_enabled': False,\n",
      "          'created_at': 'Thu Feb 28 14:37:26 +0000 2013',\n",
      "          'default_profile': False,\n",
      "          'default_profile_image': False,\n",
      "          'description': 'An online Master of Information and Data Science '\n",
      "                         '(MIDS) degree from the UC Berkeley School of '\n",
      "                         'Information. Learn more at: http://t.co/zf6gfBWovQ',\n",
      "          'entities': {'description': {'urls': [{'display_url': 'bit.ly/tBerkeleyData',\n",
      "                                                 'expanded_url': 'http://bit.ly/tBerkeleyData',\n",
      "                                                 'indices': [122, 144],\n",
      "                                                 'url': 'http://t.co/zf6gfBWovQ'}]},\n",
      "                       'url': {'urls': [{'display_url': 'datascience.berkeley.edu',\n",
      "                                         'expanded_url': 'http://datascience.berkeley.edu',\n",
      "                                         'indices': [0, 22],\n",
      "                                         'url': 'http://t.co/S79Ul3oCaa'}]}},\n",
      "          'favourites_count': 46,\n",
      "          'follow_request_sent': False,\n",
      "          'followers_count': 10158,\n",
      "          'following': False,\n",
      "          'friends_count': 403,\n",
      "          'geo_enabled': False,\n",
      "          'has_extended_profile': False,\n",
      "          'id': 1227698863,\n",
      "          'id_str': '1227698863',\n",
      "          'is_translation_enabled': False,\n",
      "          'is_translator': False,\n",
      "          'lang': 'en',\n",
      "          'listed_count': 459,\n",
      "          'location': 'Berkeley, CA',\n",
      "          'name': 'datascience@berkeley',\n",
      "          'notifications': False,\n",
      "          'profile_background_color': 'CCCCCC',\n",
      "          'profile_background_image_url': 'http://pbs.twimg.com/profile_background_images/378800000096571211/5f9ba86a5d2b87c2c48544133c25b092.jpeg',\n",
      "          'profile_background_image_url_https': 'https://pbs.twimg.com/profile_background_images/378800000096571211/5f9ba86a5d2b87c2c48544133c25b092.jpeg',\n",
      "          'profile_background_tile': False,\n",
      "          'profile_banner_url': 'https://pbs.twimg.com/profile_banners/1227698863/1502212054',\n",
      "          'profile_image_url': 'http://pbs.twimg.com/profile_images/894968224973897728/lI8iiF3J_normal.jpg',\n",
      "          'profile_image_url_https': 'https://pbs.twimg.com/profile_images/894968224973897728/lI8iiF3J_normal.jpg',\n",
      "          'profile_link_color': '5173B6',\n",
      "          'profile_sidebar_border_color': 'FFFFFF',\n",
      "          'profile_sidebar_fill_color': 'DDEEF6',\n",
      "          'profile_text_color': '333333',\n",
      "          'profile_use_background_image': True,\n",
      "          'protected': False,\n",
      "          'screen_name': 'BerkeleyData',\n",
      "          'statuses_count': 2186,\n",
      "          'time_zone': 'Eastern Time (US & Canada)',\n",
      "          'translator_type': 'none',\n",
      "          'url': 'http://t.co/S79Ul3oCaa',\n",
      "          'utc_offset': -14400,\n",
      "          'verified': False}}\n"
     ]
    }
   ],
   "source": [
    "# Looking at one tweet object, which has type Status: \n",
    "from pprint import pprint # ...to get a more easily-readable view.\n",
    "pprint(example_tweets[0]._json)"
   ]
  },
  {
   "cell_type": "markdown",
   "metadata": {
    "collapsed": true
   },
   "source": [
    "### What you need to do. \n",
    "\n",
    "Re-factor the above code fragment into reusable snippets below.  You should not need to make major modifications; this is mostly an exercise in understanding the above code block. "
   ]
  },
  {
   "cell_type": "code",
   "execution_count": 94,
   "metadata": {
    "collapsed": true,
    "tags": [
     "student"
    ]
   },
   "outputs": [],
   "source": [
    "def load_keys(path):\n",
    "    \"\"\"Loads your Twitter authentication keys from a file on disk.\n",
    "    \n",
    "    Args:\n",
    "        path (str): The path to your key file.  The file should\n",
    "          be in JSON format and look like this (but filled in):\n",
    "            {\n",
    "                \"consumer_key\": \"<your Consumer Key here>\",\n",
    "                \"consumer_secret\":  \"<your Consumer Secret here>\",\n",
    "                \"access_token\": \"<your Access Token here>\",\n",
    "                \"access_token_secret\": \"<your Access Token Secret here>\"\n",
    "            }\n",
    "    \n",
    "    Returns:\n",
    "        dict: A dictionary mapping key names (like \"consumer_key\") to\n",
    "          key values.\"\"\"\n",
    "    with open(path) as f:\n",
    "        keys = json.load(f)\n",
    "    return keys"
   ]
  },
  {
   "cell_type": "code",
   "execution_count": 95,
   "metadata": {
    "collapsed": true,
    "tags": [
     "student"
    ]
   },
   "outputs": [],
   "source": [
    "def download_recent_tweets_by_user(user_account_name, keys):\n",
    "    \"\"\"Downloads tweets by one Twitter user.\n",
    "\n",
    "    Args:\n",
    "        user_account_name (str): The name of the Twitter account\n",
    "          whose tweets will be downloaded.\n",
    "        keys (dict): A Python dictionary with Twitter authentication\n",
    "          keys (strings), like this (but filled in):\n",
    "            {\n",
    "                \"consumer_key\": \"<your Consumer Key here>\",\n",
    "                \"consumer_secret\":  \"<your Consumer Secret here>\",\n",
    "                \"access_token\": \"<your Access Token here>\",\n",
    "                \"access_token_secret\": \"<your Access Token Secret here>\"\n",
    "            }\n",
    "\n",
    "    Returns:\n",
    "        list: A list of Status objects, each representing one tweet.\"\"\"\n",
    "    import tweepy\n",
    "    auth = tweepy.OAuthHandler(keys[\"consumer_key\"], keys[\"consumer_secret\"])\n",
    "    auth.set_access_token(keys[\"access_token\"], keys[\"access_token_secret\"])\n",
    "    api = tweepy.API(auth)\n",
    "    example_tweets = list(tweepy.Cursor(api.user_timeline, id=user_account_name).items())\n",
    "    return example_tweets"
   ]
  },
  {
   "cell_type": "code",
   "execution_count": 96,
   "metadata": {
    "collapsed": true,
    "tags": [
     "student"
    ]
   },
   "outputs": [],
   "source": [
    "def save_tweets(tweets, path):\n",
    "    \"\"\"Saves a list of tweets to a file in the local filesystem.\n",
    "    \n",
    "    This function makes no guarantee about the format of the saved\n",
    "    tweets, **except** that calling load_tweets(path) after\n",
    "    save_tweets(tweets, path) will produce the same list of tweets\n",
    "    and that only the file at the given path is used to store the\n",
    "    tweets.  (That means you can implement this function however\n",
    "    you want, as long as saving and loading works!)\n",
    "\n",
    "    Args:\n",
    "        tweets (list): A list of tweet objects (of type Status) to\n",
    "          be saved.\n",
    "        path (str): The place where the tweets will be saved.\n",
    "\n",
    "    Returns:\n",
    "        None\"\"\"\n",
    "    with open(path, \"wb\") as f:\n",
    "        import pickle\n",
    "        pickle.dump(tweets, f)"
   ]
  },
  {
   "cell_type": "code",
   "execution_count": 97,
   "metadata": {
    "collapsed": true,
    "tags": [
     "student"
    ]
   },
   "outputs": [],
   "source": [
    "def load_tweets(path):\n",
    "    \"\"\"Loads tweets that have previously been saved.\n",
    "    \n",
    "    Calling load_tweets(path) after save_tweets(tweets, path)\n",
    "    will produce the same list of tweets.\n",
    "    \n",
    "    Args:\n",
    "        path (str): The place where the tweets were be saved.\n",
    "\n",
    "    Returns:\n",
    "        list: A list of Status objects, each representing one tweet.\"\"\"\n",
    "    with open(path, \"rb\") as f:\n",
    "        import pickle\n",
    "        e_tweets = pickle.load(f)\n",
    "    return e_tweets"
   ]
  },
  {
   "cell_type": "code",
   "execution_count": 98,
   "metadata": {
    "collapsed": true,
    "tags": [
     "student"
    ]
   },
   "outputs": [],
   "source": [
    "def get_tweets_with_cache(user_account_name, keys_path):\n",
    "    \"\"\"Get recent tweets from one user, loading from a disk cache if available.\n",
    "    \n",
    "    The first time you call this function, it will download tweets by\n",
    "    a user.  Subsequent calls will not re-download the tweets; instead\n",
    "    they'll load the tweets from a save file in your local filesystem.\n",
    "    All this is done using the functions you defined in the previous cell.\n",
    "    This has benefits and drawbacks that often appear when you cache data:\n",
    "    \n",
    "    +: Using this function will prevent extraneous usage of the Twitter API.\n",
    "    +: You will get your data much faster after the first time it's called.\n",
    "    -: If you really want to re-download the tweets (say, to get newer ones,\n",
    "       or because you screwed up something in the previous cell and your\n",
    "       tweets aren't what you wanted), you'll have to find the save file\n",
    "       (which will look like <something>_recent_tweets.pkl) and delete it.\n",
    "    \n",
    "    Args:\n",
    "        user_account_name (str): The Twitter handle of a user, without the @.\n",
    "        keys_path (str): The path to a JSON keys file in your filesystem.\n",
    "    \"\"\"\n",
    "    from pathlib import Path\n",
    "    ds_tweets_save_path = user_account_name + \"_recent_tweets.pkl\"\n",
    "    #savepath = user_account_name + \"_recent_tweets.pkl\"\n",
    "    if not Path(ds_tweets_save_path).is_file():\n",
    "        key = load_keys(keys_path)\n",
    "        p = download_recent_tweets_by_user(user_account_name, key)\n",
    "        save_tweets(p, ds_tweets_save_path)\n",
    "    return load_tweets(ds_tweets_save_path)"
   ]
  },
  {
   "cell_type": "markdown",
   "metadata": {},
   "source": [
    "If everything was implemented correctly you should be able to obtain roughly the last 3000 tweets by the `realdonaldtrump`."
   ]
  },
  {
   "cell_type": "code",
   "execution_count": 99,
   "metadata": {},
   "outputs": [
    {
     "name": "stdout",
     "output_type": "stream",
     "text": [
      "Number of tweets downloaded: 3221\n"
     ]
    }
   ],
   "source": [
    "# When you are done, run this cell to load @realdonaldtrump's tweets.\n",
    "# Note the function get_tweets_with_cache.  You may find it useful\n",
    "# later.\n",
    "trump_tweets = get_tweets_with_cache(\"realdonaldtrump\", key_file)\n",
    "print(\"Number of tweets downloaded:\", len(trump_tweets))"
   ]
  },
  {
   "cell_type": "markdown",
   "metadata": {},
   "source": [
    "---\n",
    "<br/><br/>\n",
    "\n",
    "## Question 3\n",
    "\n",
    "In this question you will extract important fields from the tweet objects and convert them into a Pandas dataframe for further analysis."
   ]
  },
  {
   "cell_type": "markdown",
   "metadata": {},
   "source": [
    "Each trump tweet is stored in a `tweepy.models.Status` object:"
   ]
  },
  {
   "cell_type": "code",
   "execution_count": 637,
   "metadata": {},
   "outputs": [
    {
     "data": {
      "text/plain": [
       "tweepy.models.Status"
      ]
     },
     "execution_count": 637,
     "metadata": {},
     "output_type": "execute_result"
    }
   ],
   "source": [
    "type(trump_tweets[0])"
   ]
  },
  {
   "cell_type": "markdown",
   "metadata": {},
   "source": [
    "We can list all the members of this object by looking at the private `__dict__` variable:"
   ]
  },
  {
   "cell_type": "code",
   "execution_count": 638,
   "metadata": {
    "scrolled": true
   },
   "outputs": [
    {
     "data": {
      "text/plain": [
       "['_json',\n",
       " 'created_at',\n",
       " 'id',\n",
       " 'id_str',\n",
       " 'text',\n",
       " 'truncated',\n",
       " 'entities',\n",
       " 'source',\n",
       " 'source_url',\n",
       " 'in_reply_to_status_id',\n",
       " 'in_reply_to_status_id_str',\n",
       " 'in_reply_to_user_id',\n",
       " 'in_reply_to_user_id_str',\n",
       " 'in_reply_to_screen_name',\n",
       " 'author',\n",
       " 'user',\n",
       " 'geo',\n",
       " 'coordinates',\n",
       " 'place',\n",
       " 'contributors',\n",
       " 'is_quote_status',\n",
       " 'retweet_count',\n",
       " 'favorite_count',\n",
       " 'favorited',\n",
       " 'retweeted',\n",
       " 'possibly_sensitive',\n",
       " 'lang']"
      ]
     },
     "execution_count": 638,
     "metadata": {},
     "output_type": "execute_result"
    }
   ],
   "source": [
    "list(trump_tweets[0].__dict__.keys())"
   ]
  },
  {
   "cell_type": "markdown",
   "metadata": {},
   "source": [
    "Therefore we can extract a field simply by reading its value:"
   ]
  },
  {
   "cell_type": "code",
   "execution_count": 639,
   "metadata": {},
   "outputs": [
    {
     "data": {
      "text/plain": [
       "'Thank you @ShopFloorNAM. An honor to be with you today. Great news! Manufacturers report record-high economic optim… https://t.co/HtmHsey6kk'"
      ]
     },
     "execution_count": 639,
     "metadata": {},
     "output_type": "execute_result"
    }
   ],
   "source": [
    "trump_tweets[0].text"
   ]
  },
  {
   "cell_type": "markdown",
   "metadata": {},
   "source": [
    "### What you need to do\n",
    "\n",
    "Construct a DataFrame called `trump`. The index of the dataframe should be the ID of each tweet (looks something like `907698529606541312`). It should have these columns:\n",
    "\n",
    "- `time`: The time the tweet was created.\n",
    "- `source`: The source device of the tweet.\n",
    "- `text`: The text of the tweet.\n",
    "- `retweet_count`: The retweet count of the tweet. "
   ]
  },
  {
   "cell_type": "code",
   "execution_count": 640,
   "metadata": {},
   "outputs": [
    {
     "data": {
      "text/plain": [
       "913856413541138432"
      ]
     },
     "execution_count": 640,
     "metadata": {},
     "output_type": "execute_result"
    }
   ],
   "source": [
    "trump_tweets[0].id"
   ]
  },
  {
   "cell_type": "code",
   "execution_count": 641,
   "metadata": {},
   "outputs": [
    {
     "data": {
      "text/plain": [
       "'Twitter for iPhone'"
      ]
     },
     "execution_count": 641,
     "metadata": {},
     "output_type": "execute_result"
    }
   ],
   "source": [
    "trump_tweets[0].source"
   ]
  },
  {
   "cell_type": "code",
   "execution_count": 642,
   "metadata": {},
   "outputs": [
    {
     "data": {
      "text/plain": [
       "'Thank you @ShopFloorNAM. An honor to be with you today. Great news! Manufacturers report record-high economic optim… https://t.co/HtmHsey6kk'"
      ]
     },
     "execution_count": 642,
     "metadata": {},
     "output_type": "execute_result"
    }
   ],
   "source": [
    "trump_tweets[0].text"
   ]
  },
  {
   "cell_type": "code",
   "execution_count": 643,
   "metadata": {},
   "outputs": [
    {
     "data": {
      "text/plain": [
       "2210"
      ]
     },
     "execution_count": 643,
     "metadata": {},
     "output_type": "execute_result"
    }
   ],
   "source": [
    "trump_tweets[0].retweet_count"
   ]
  },
  {
   "cell_type": "code",
   "execution_count": 644,
   "metadata": {},
   "outputs": [
    {
     "data": {
      "text/plain": [
       "array([0, 1, 2, 3, 4, 5, 6, 7, 8, 9])"
      ]
     },
     "execution_count": 644,
     "metadata": {},
     "output_type": "execute_result"
    }
   ],
   "source": [
    "np.arange(0, 10)"
   ]
  },
  {
   "cell_type": "code",
   "execution_count": 661,
   "metadata": {
    "scrolled": true,
    "tags": [
     "student"
    ]
   },
   "outputs": [
    {
     "data": {
      "text/html": [
       "<div>\n",
       "<style>\n",
       "    .dataframe thead tr:only-child th {\n",
       "        text-align: right;\n",
       "    }\n",
       "\n",
       "    .dataframe thead th {\n",
       "        text-align: left;\n",
       "    }\n",
       "\n",
       "    .dataframe tbody tr th {\n",
       "        vertical-align: top;\n",
       "    }\n",
       "</style>\n",
       "<table border=\"1\" class=\"dataframe\">\n",
       "  <thead>\n",
       "    <tr style=\"text-align: right;\">\n",
       "      <th></th>\n",
       "      <th>time</th>\n",
       "      <th>source</th>\n",
       "      <th>text</th>\n",
       "      <th>retweet_count</th>\n",
       "    </tr>\n",
       "    <tr>\n",
       "      <th>id</th>\n",
       "      <th></th>\n",
       "      <th></th>\n",
       "      <th></th>\n",
       "      <th></th>\n",
       "    </tr>\n",
       "  </thead>\n",
       "  <tbody>\n",
       "    <tr>\n",
       "      <th>913856413541138432</th>\n",
       "      <td>2017-09-29 20:02:02</td>\n",
       "      <td>Twitter for iPhone</td>\n",
       "      <td>Thank you @ShopFloorNAM. An honor to be with y...</td>\n",
       "      <td>2210</td>\n",
       "    </tr>\n",
       "    <tr>\n",
       "      <th>913821956625059840</th>\n",
       "      <td>2017-09-29 17:45:07</td>\n",
       "      <td>Media Studio</td>\n",
       "      <td>This week we came one step closer to reaching ...</td>\n",
       "      <td>5042</td>\n",
       "    </tr>\n",
       "    <tr>\n",
       "      <th>913760243770896389</th>\n",
       "      <td>2017-09-29 13:39:53</td>\n",
       "      <td>Twitter for iPhone</td>\n",
       "      <td>RECORD HIGH FOR S &amp;amp; P 500!</td>\n",
       "      <td>8025</td>\n",
       "    </tr>\n",
       "    <tr>\n",
       "      <th>913757869627133953</th>\n",
       "      <td>2017-09-29 13:30:27</td>\n",
       "      <td>Twitter for iPhone</td>\n",
       "      <td>Thank you to FEMA, our great Military &amp;amp; al...</td>\n",
       "      <td>9192</td>\n",
       "    </tr>\n",
       "    <tr>\n",
       "      <th>913724766208610304</th>\n",
       "      <td>2017-09-29 11:18:55</td>\n",
       "      <td>Twitter for iPhone</td>\n",
       "      <td>...The fact is that Puerto Rico has been destr...</td>\n",
       "      <td>8582</td>\n",
       "    </tr>\n",
       "  </tbody>\n",
       "</table>\n",
       "</div>"
      ],
      "text/plain": [
       "                                  time              source  \\\n",
       "id                                                           \n",
       "913856413541138432 2017-09-29 20:02:02  Twitter for iPhone   \n",
       "913821956625059840 2017-09-29 17:45:07        Media Studio   \n",
       "913760243770896389 2017-09-29 13:39:53  Twitter for iPhone   \n",
       "913757869627133953 2017-09-29 13:30:27  Twitter for iPhone   \n",
       "913724766208610304 2017-09-29 11:18:55  Twitter for iPhone   \n",
       "\n",
       "                                                                 text  \\\n",
       "id                                                                      \n",
       "913856413541138432  Thank you @ShopFloorNAM. An honor to be with y...   \n",
       "913821956625059840  This week we came one step closer to reaching ...   \n",
       "913760243770896389                     RECORD HIGH FOR S &amp; P 500!   \n",
       "913757869627133953  Thank you to FEMA, our great Military &amp; al...   \n",
       "913724766208610304  ...The fact is that Puerto Rico has been destr...   \n",
       "\n",
       "                    retweet_count  \n",
       "id                                 \n",
       "913856413541138432           2210  \n",
       "913821956625059840           5042  \n",
       "913760243770896389           8025  \n",
       "913757869627133953           9192  \n",
       "913724766208610304           8582  "
      ]
     },
     "execution_count": 661,
     "metadata": {},
     "output_type": "execute_result"
    }
   ],
   "source": [
    "trump = pd.DataFrame(columns = [\"time\", \"source\", \"text\", \"retweet_count\"])\n",
    "for i in np.arange(0, len(trump_tweets)):\n",
    "    trump.loc[i, 'id'] = trump_tweets[i].id_str\n",
    "    trump.loc[i, 'time'] = trump_tweets[i].created_at\n",
    "    trump.loc[i, 'source'] = trump_tweets[i].source\n",
    "    trump.loc[i, 'text'] = trump_tweets[i].text\n",
    "    trump.loc[i, 'retweet_count'] = trump_tweets[i].retweet_count\n",
    "\n",
    "trump = trump.astype({'retweet_count':'int64'})\n",
    "trump = trump.astype({'time':'<M8[ns]'})\n",
    "trump = trump.set_index(['id'])\n",
    "trump.head()"
   ]
  },
  {
   "cell_type": "code",
   "execution_count": 662,
   "metadata": {
    "tags": [
     "test",
     "q03"
    ]
   },
   "outputs": [
    {
     "name": "stdout",
     "output_type": "stream",
     "text": [
      "~~~~~~~~~~~~~~~~~~~~~~~~~~~~~~~~~~~~~~~~~~~~~~~~~~~~~~~~~~~~~~~~~~~~~\n",
      "Running tests\n",
      "\n",
      "---------------------------------------------------------------------\n",
      "Test summary\n",
      "    Passed: 1\n",
      "    Failed: 0\n",
      "[ooooooooook] 100.0% passed\n",
      "\n"
     ]
    },
    {
     "data": {
      "application/javascript": [
       "IPython.notebook.save_checkpoint();"
      ],
      "text/plain": [
       "<IPython.core.display.Javascript object>"
      ]
     },
     "metadata": {},
     "output_type": "display_data"
    },
    {
     "data": {
      "application/javascript": [
       "IPython.notebook.save_notebook();"
      ],
      "text/plain": [
       "<IPython.core.display.Javascript object>"
      ]
     },
     "metadata": {},
     "output_type": "display_data"
    },
    {
     "name": "stdout",
     "output_type": "stream",
     "text": [
      "Saving notebook... Saved 'proj1.ipynb'.\n",
      "Submit... 100% complete\n",
      "Submission successful for user: melissakly@berkeley.edu\n",
      "URL: https://okpy.org/cal/ds100/fa17/proj1_part1/submissions/v20zM0\n",
      "NOTE: this is only a backup. To submit your assignment, use:\n",
      "\tpython3 ok --submit\n",
      "\n"
     ]
    }
   ],
   "source": [
    "_ = ok.grade('q03')\n",
    "_ = ok.backup()"
   ]
  },
  {
   "cell_type": "markdown",
   "metadata": {},
   "source": [
    "Here are two important dates that we'll use in our analysis. `ELEC_DATE` is the date when Trump won the 2016 Presidential election, and `INAUG_DATE` is the date that Trump was sworn into office."
   ]
  },
  {
   "cell_type": "code",
   "execution_count": 648,
   "metadata": {
    "collapsed": true
   },
   "outputs": [],
   "source": [
    "from datetime import datetime\n",
    "\n",
    "ELEC_DATE = datetime(2016, 11, 8)\n",
    "INAUG_DATE = datetime(2017, 1, 20)"
   ]
  },
  {
   "cell_type": "markdown",
   "metadata": {},
   "source": [
    "Here are the first and last rows of your tweet data.\n",
    "\n",
    "You'll notice that the data contains tweets from before the election."
   ]
  },
  {
   "cell_type": "code",
   "execution_count": 649,
   "metadata": {},
   "outputs": [
    {
     "data": {
      "text/html": [
       "<div>\n",
       "<style>\n",
       "    .dataframe thead tr:only-child th {\n",
       "        text-align: right;\n",
       "    }\n",
       "\n",
       "    .dataframe thead th {\n",
       "        text-align: left;\n",
       "    }\n",
       "\n",
       "    .dataframe tbody tr th {\n",
       "        vertical-align: top;\n",
       "    }\n",
       "</style>\n",
       "<table border=\"1\" class=\"dataframe\">\n",
       "  <thead>\n",
       "    <tr style=\"text-align: right;\">\n",
       "      <th></th>\n",
       "      <th>time</th>\n",
       "      <th>source</th>\n",
       "      <th>text</th>\n",
       "      <th>retweet_count</th>\n",
       "    </tr>\n",
       "    <tr>\n",
       "      <th>id</th>\n",
       "      <th></th>\n",
       "      <th></th>\n",
       "      <th></th>\n",
       "      <th></th>\n",
       "    </tr>\n",
       "  </thead>\n",
       "  <tbody>\n",
       "    <tr>\n",
       "      <th>913856413541138432</th>\n",
       "      <td>2017-09-29 20:02:02</td>\n",
       "      <td>Twitter for iPhone</td>\n",
       "      <td>Thank you @ShopFloorNAM. An honor to be with y...</td>\n",
       "      <td>2210</td>\n",
       "    </tr>\n",
       "    <tr>\n",
       "      <th>759457253925785604</th>\n",
       "      <td>2016-07-30 18:34:54</td>\n",
       "      <td>Twitter for iPhone</td>\n",
       "      <td>#CrookedHillary https://t.co/xyoPFJmByp</td>\n",
       "      <td>10379</td>\n",
       "    </tr>\n",
       "  </tbody>\n",
       "</table>\n",
       "</div>"
      ],
      "text/plain": [
       "                                  time              source  \\\n",
       "id                                                           \n",
       "913856413541138432 2017-09-29 20:02:02  Twitter for iPhone   \n",
       "759457253925785604 2016-07-30 18:34:54  Twitter for iPhone   \n",
       "\n",
       "                                                                 text  \\\n",
       "id                                                                      \n",
       "913856413541138432  Thank you @ShopFloorNAM. An honor to be with y...   \n",
       "759457253925785604            #CrookedHillary https://t.co/xyoPFJmByp   \n",
       "\n",
       "                    retweet_count  \n",
       "id                                 \n",
       "913856413541138432           2210  \n",
       "759457253925785604          10379  "
      ]
     },
     "execution_count": 649,
     "metadata": {},
     "output_type": "execute_result"
    }
   ],
   "source": [
    "trump.iloc[[0, -1], :]"
   ]
  },
  {
   "cell_type": "markdown",
   "metadata": {},
   "source": [
    "## Question 4: Tweet Source Analysis\n",
    "\n",
    "In the following questions, we are going to find out the charateristics of Trump tweets and the devices used for the tweets.\n",
    "\n",
    "---\n",
    "<br/><br/>\n",
    "\n",
    "## Question 4a\n",
    "\n",
    "Find out the number of unique sources of the Trump tweets. Save the result in `num_sources`. \n",
    "\n",
    "Then, make a bar plot of the counts of different sources."
   ]
  },
  {
   "cell_type": "code",
   "execution_count": 650,
   "metadata": {
    "tags": [
     "student"
    ]
   },
   "outputs": [
    {
     "data": {
      "text/plain": [
       "<matplotlib.text.Text at 0x11e9cff28>"
      ]
     },
     "execution_count": 650,
     "metadata": {},
     "output_type": "execute_result"
    },
    {
     "data": {
      "image/png": "[encoded data removed]",
      "text/plain": [
       "<matplotlib.figure.Figure at 0x123e78940>"
      ]
     },
     "metadata": {},
     "output_type": "display_data"
    }
   ],
   "source": [
    "uniquesource = trump['source'].unique()\n",
    "num_sources = len(uniquesource)\n",
    "\n",
    "# make a bar plot here\n",
    "countsources = trump.groupby('source').size()\n",
    "count_sourcegraph = countsources.plot(kind='bar', title=\"Counts of Different Sources in Trump's Tweets\")\n",
    "count_sourcegraph.set_ylabel('Counts')\n",
    "count_sourcegraph.set_xlabel('Source')"
   ]
  },
  {
   "cell_type": "code",
   "execution_count": 651,
   "metadata": {
    "tags": [
     "test",
     "q04a"
    ]
   },
   "outputs": [
    {
     "name": "stdout",
     "output_type": "stream",
     "text": [
      "~~~~~~~~~~~~~~~~~~~~~~~~~~~~~~~~~~~~~~~~~~~~~~~~~~~~~~~~~~~~~~~~~~~~~\n",
      "Running tests\n",
      "\n",
      "---------------------------------------------------------------------\n",
      "Test summary\n",
      "    Passed: 1\n",
      "    Failed: 0\n",
      "[ooooooooook] 100.0% passed\n",
      "\n"
     ]
    },
    {
     "data": {
      "application/javascript": [
       "IPython.notebook.save_checkpoint();"
      ],
      "text/plain": [
       "<IPython.core.display.Javascript object>"
      ]
     },
     "metadata": {},
     "output_type": "display_data"
    },
    {
     "data": {
      "application/javascript": [
       "IPython.notebook.save_notebook();"
      ],
      "text/plain": [
       "<IPython.core.display.Javascript object>"
      ]
     },
     "metadata": {},
     "output_type": "display_data"
    },
    {
     "name": "stdout",
     "output_type": "stream",
     "text": [
      "Saving notebook... Saved 'proj1.ipynb'.\n",
      "Submit... 100% complete\n",
      "Submission successful for user: melissakly@berkeley.edu\n",
      "URL: https://okpy.org/cal/ds100/fa17/proj1_part1/submissions/VOGkzX\n",
      "NOTE: this is only a backup. To submit your assignment, use:\n",
      "\tpython3 ok --submit\n",
      "\n"
     ]
    }
   ],
   "source": [
    "_ = ok.grade('q04a')\n",
    "_ = ok.backup()"
   ]
  },
  {
   "cell_type": "markdown",
   "metadata": {},
   "source": [
    "As we can see from the plot above, Trump tweets are mostly from iPhone or Android. Is there a difference between his Tweet behavior between the two devices?\n",
    "\n",
    "We will attempt to answer this question in our subsequent analysis.\n",
    "\n",
    "First, we'll take a look at whether Trump's tweets from an Android come at different times than his tweets from an iPhone. Note that Twitter gives us his tweets in the [UTC timezone](https://www.wikiwand.com/en/List_of_UTC_time_offsets):"
   ]
  },
  {
   "cell_type": "code",
   "execution_count": 652,
   "metadata": {},
   "outputs": [
    {
     "name": "stdout",
     "output_type": "stream",
     "text": [
      "Fri Sep 29 20:02:02 +0000 2017\n"
     ]
    }
   ],
   "source": [
    "print(trump_tweets[0]._json['created_at'])"
   ]
  },
  {
   "cell_type": "markdown",
   "metadata": {},
   "source": [
    "We'll convert the tweet times to US Eastern Time, the timezone of New York and Washington D.C., since those are the places we would expect the most tweet activity from Trump."
   ]
  },
  {
   "cell_type": "code",
   "execution_count": 663,
   "metadata": {},
   "outputs": [
    {
     "data": {
      "text/html": [
       "<div>\n",
       "<style>\n",
       "    .dataframe thead tr:only-child th {\n",
       "        text-align: right;\n",
       "    }\n",
       "\n",
       "    .dataframe thead th {\n",
       "        text-align: left;\n",
       "    }\n",
       "\n",
       "    .dataframe tbody tr th {\n",
       "        vertical-align: top;\n",
       "    }\n",
       "</style>\n",
       "<table border=\"1\" class=\"dataframe\">\n",
       "  <thead>\n",
       "    <tr style=\"text-align: right;\">\n",
       "      <th></th>\n",
       "      <th>time</th>\n",
       "      <th>source</th>\n",
       "      <th>text</th>\n",
       "      <th>retweet_count</th>\n",
       "      <th>est_time</th>\n",
       "    </tr>\n",
       "    <tr>\n",
       "      <th>id</th>\n",
       "      <th></th>\n",
       "      <th></th>\n",
       "      <th></th>\n",
       "      <th></th>\n",
       "      <th></th>\n",
       "    </tr>\n",
       "  </thead>\n",
       "  <tbody>\n",
       "    <tr>\n",
       "      <th>913856413541138432</th>\n",
       "      <td>2017-09-29 20:02:02</td>\n",
       "      <td>Twitter for iPhone</td>\n",
       "      <td>Thank you @ShopFloorNAM. An honor to be with y...</td>\n",
       "      <td>2210</td>\n",
       "      <td>2017-09-29 16:02:02-04:00</td>\n",
       "    </tr>\n",
       "    <tr>\n",
       "      <th>913821956625059840</th>\n",
       "      <td>2017-09-29 17:45:07</td>\n",
       "      <td>Media Studio</td>\n",
       "      <td>This week we came one step closer to reaching ...</td>\n",
       "      <td>5042</td>\n",
       "      <td>2017-09-29 13:45:07-04:00</td>\n",
       "    </tr>\n",
       "    <tr>\n",
       "      <th>913760243770896389</th>\n",
       "      <td>2017-09-29 13:39:53</td>\n",
       "      <td>Twitter for iPhone</td>\n",
       "      <td>RECORD HIGH FOR S &amp;amp; P 500!</td>\n",
       "      <td>8025</td>\n",
       "      <td>2017-09-29 09:39:53-04:00</td>\n",
       "    </tr>\n",
       "    <tr>\n",
       "      <th>913757869627133953</th>\n",
       "      <td>2017-09-29 13:30:27</td>\n",
       "      <td>Twitter for iPhone</td>\n",
       "      <td>Thank you to FEMA, our great Military &amp;amp; al...</td>\n",
       "      <td>9192</td>\n",
       "      <td>2017-09-29 09:30:27-04:00</td>\n",
       "    </tr>\n",
       "    <tr>\n",
       "      <th>913724766208610304</th>\n",
       "      <td>2017-09-29 11:18:55</td>\n",
       "      <td>Twitter for iPhone</td>\n",
       "      <td>...The fact is that Puerto Rico has been destr...</td>\n",
       "      <td>8582</td>\n",
       "      <td>2017-09-29 07:18:55-04:00</td>\n",
       "    </tr>\n",
       "  </tbody>\n",
       "</table>\n",
       "</div>"
      ],
      "text/plain": [
       "                                  time              source  \\\n",
       "id                                                           \n",
       "913856413541138432 2017-09-29 20:02:02  Twitter for iPhone   \n",
       "913821956625059840 2017-09-29 17:45:07        Media Studio   \n",
       "913760243770896389 2017-09-29 13:39:53  Twitter for iPhone   \n",
       "913757869627133953 2017-09-29 13:30:27  Twitter for iPhone   \n",
       "913724766208610304 2017-09-29 11:18:55  Twitter for iPhone   \n",
       "\n",
       "                                                                 text  \\\n",
       "id                                                                      \n",
       "913856413541138432  Thank you @ShopFloorNAM. An honor to be with y...   \n",
       "913821956625059840  This week we came one step closer to reaching ...   \n",
       "913760243770896389                     RECORD HIGH FOR S &amp; P 500!   \n",
       "913757869627133953  Thank you to FEMA, our great Military &amp; al...   \n",
       "913724766208610304  ...The fact is that Puerto Rico has been destr...   \n",
       "\n",
       "                    retweet_count                  est_time  \n",
       "id                                                           \n",
       "913856413541138432           2210 2017-09-29 16:02:02-04:00  \n",
       "913821956625059840           5042 2017-09-29 13:45:07-04:00  \n",
       "913760243770896389           8025 2017-09-29 09:39:53-04:00  \n",
       "913757869627133953           9192 2017-09-29 09:30:27-04:00  \n",
       "913724766208610304           8582 2017-09-29 07:18:55-04:00  "
      ]
     },
     "execution_count": 663,
     "metadata": {},
     "output_type": "execute_result"
    }
   ],
   "source": [
    "trump['est_time'] = pd.Index(trump['time']).tz_localize(\"UTC\").tz_convert(\"US/Eastern\")\n",
    "trump.head()"
   ]
  },
  {
   "cell_type": "markdown",
   "metadata": {},
   "source": [
    "---\n",
    "<br/><br/>\n",
    "\n",
    "## Question 4b\n",
    "\n",
    "Use this data to make a line plot with two curves:\n",
    "\n",
    "1. The number of iPhone tweets vs. hour of the day, normalized over the hours of the day. For example, if there were 10 tweets at 1pm and 20 tweets at 2pm, the line plot should be 0, then 0.33 at 1pm, 0.66 at 2pm, then back to 0.\n",
    "2. The same curve for Android tweets.\n",
    "\n",
    "Put the two curves in the same plot. You should get a plot that looks like:\n",
    "\n",
    "![](device_hour.png)\n",
    "\n",
    "Hint: use `value_counts` with `normalization`"
   ]
  },
  {
   "cell_type": "code",
   "execution_count": 664,
   "metadata": {
    "tags": [
     "student",
     "written"
    ]
   },
   "outputs": [
    {
     "data": {
      "text/plain": [
       "<matplotlib.legend.Legend at 0x129b5d198>"
      ]
     },
     "execution_count": 664,
     "metadata": {},
     "output_type": "execute_result"
    },
    {
     "data": {
      "image/png": "[encoded data removed]",
      "text/plain": [
       "<matplotlib.figure.Figure at 0x129abd390>"
      ]
     },
     "metadata": {},
     "output_type": "display_data"
    }
   ],
   "source": [
    "### make your plot here\n",
    "getandroid = trump.loc[trump['source'] == 'Twitter for Android']\n",
    "getiphone = trump.loc[trump['source'] == 'Twitter for iPhone']\n",
    "\n",
    "num_android = getandroid['est_time'].dt.hour.value_counts(normalize = True)\n",
    "num_iphone = getiphone['est_time'].dt.hour.value_counts(normalize = True)\n",
    "plt.plot(num_iphone.sort_index())\n",
    "plt.plot(num_android.sort_index())\n",
    "plt.ylabel('fraction')\n",
    "plt.xlabel('hour')\n",
    "plt.legend(['iPhone', 'Android'])"
   ]
  },
  {
   "cell_type": "markdown",
   "metadata": {},
   "source": [
    "--- \n",
    "<br></br>\n",
    "\n",
    "## Question 4c\n",
    "What can you find out in the plot?"
   ]
  },
  {
   "cell_type": "code",
   "execution_count": 665,
   "metadata": {
    "tags": [
     "student",
     "written"
    ]
   },
   "outputs": [
    {
     "data": {
      "text/markdown": [
       "\n",
       "\n",
       "From this plot we can see that the tweets mostly start at 5AM and they peak at around 8 or 9AM. \n",
       "This makes sense because this is when people usually wake up and check their social media so he is likely to appear on their timeline.\n",
       "We also see a peak at hour 21 or 22 which is about 9 or 10PM and this is this time when people are checking their phones and social media before they go to sleep.\n",
       "We can also see that he has a preference of tweeting from an android during the morning and then during the afternoon \n",
       "he has a preference of the iPhone, but when it is evening he alternates between both. \n",
       "Tweets usually stop around midnight and there are little tweets from 12AM-4AM. \n",
       "\n"
      ],
      "text/plain": [
       "<IPython.core.display.Markdown object>"
      ]
     },
     "metadata": {},
     "output_type": "display_data"
    }
   ],
   "source": [
    "q4c_answer = r\"\"\"\n",
    "\n",
    "From this plot we can see that the tweets mostly start at 5AM and they peak at around 8 or 9AM. \n",
    "This makes sense because this is when people usually wake up and check their social media so he is likely to appear on their timeline.\n",
    "We also see a peak at hour 21 or 22 which is about 9 or 10PM and this is this time when people are checking their phones and social media before they go to sleep.\n",
    "We can also see that he has a preference of tweeting from an android during the morning and then during the afternoon \n",
    "he has a preference of the iPhone, but when it is evening he alternates between both. \n",
    "Tweets usually stop around midnight and there are little tweets from 12AM-4AM. \n",
    "\n",
    "\"\"\"\n",
    "\n",
    "display(Markdown(q4c_answer))"
   ]
  },
  {
   "cell_type": "markdown",
   "metadata": {},
   "source": [
    "--- \n",
    "<br></br>\n",
    "\n",
    "Let's now look at his tweet device usage over the entire time period we have in the dataset.\n",
    "\n",
    "Take a look at the code below and the plot it generates.\n",
    "\n",
    "You should be answer the following questions about this code. You don't have to write the answers down anywhere, but you'll need to make variations of this plot in later questions so understanding this code will help you greatly.\n",
    "\n",
    "1. What does `set_index` do here?\n",
    "1. What does `resample` do? What does the `'D'` argument do in `resample`?\n",
    "1. What does `unstack` do? What does the `level=0` argument do in unstack?\n",
    "1. Why does one call to `plot()` generate 7 lines?\n",
    "\n",
    "Feel free to copy this cell, play around with the code to see the intermediate result, then delete your cell after you're done.\n",
    "\n",
    "(**Also, all the questions in this project can be answered using this style of method chaining.** If you write `for` loops in this project, know that there is a better way.)"
   ]
  },
  {
   "cell_type": "code",
   "execution_count": 666,
   "metadata": {},
   "outputs": [
    {
     "data": {
      "text/plain": [
       "<matplotlib.text.Text at 0x12a628208>"
      ]
     },
     "execution_count": 666,
     "metadata": {},
     "output_type": "execute_result"
    },
    {
     "data": {
      "image/png": "[encoded data removed]",
      "text/plain": [
       "<matplotlib.figure.Figure at 0x12a5e4da0>"
      ]
     },
     "metadata": {},
     "output_type": "display_data"
    }
   ],
   "source": [
    "(trump.loc[:, ['est_time', 'source']]\n",
    " .set_index('est_time')\n",
    " .groupby('source')\n",
    " .resample('D')\n",
    " .size()\n",
    " .unstack(level=0)\n",
    " .plot()\n",
    ")\n",
    "plt.xlabel('time')\n",
    "plt.ylabel('count')"
   ]
  },
  {
   "cell_type": "markdown",
   "metadata": {},
   "source": [
    "## Question 4d\n",
    "\n",
    "One problem with the plot above is that it plots too many points to see overall trends in the device usage.\n",
    "\n",
    "Recreate the plot above, grouping by each month instead of each day. You may want to use the `figsize` argument to `plot` to make your plot larger."
   ]
  },
  {
   "cell_type": "code",
   "execution_count": 667,
   "metadata": {},
   "outputs": [
    {
     "data": {
      "text/html": [
       "<div>\n",
       "<style>\n",
       "    .dataframe thead tr:only-child th {\n",
       "        text-align: right;\n",
       "    }\n",
       "\n",
       "    .dataframe thead th {\n",
       "        text-align: left;\n",
       "    }\n",
       "\n",
       "    .dataframe tbody tr th {\n",
       "        vertical-align: top;\n",
       "    }\n",
       "</style>\n",
       "<table border=\"1\" class=\"dataframe\">\n",
       "  <thead>\n",
       "    <tr style=\"text-align: right;\">\n",
       "      <th></th>\n",
       "      <th>time</th>\n",
       "      <th>source</th>\n",
       "      <th>text</th>\n",
       "      <th>retweet_count</th>\n",
       "      <th>est_time</th>\n",
       "    </tr>\n",
       "    <tr>\n",
       "      <th>id</th>\n",
       "      <th></th>\n",
       "      <th></th>\n",
       "      <th></th>\n",
       "      <th></th>\n",
       "      <th></th>\n",
       "    </tr>\n",
       "  </thead>\n",
       "  <tbody>\n",
       "    <tr>\n",
       "      <th>913856413541138432</th>\n",
       "      <td>2017-09-29 20:02:02</td>\n",
       "      <td>Twitter for iPhone</td>\n",
       "      <td>Thank you @ShopFloorNAM. An honor to be with y...</td>\n",
       "      <td>2210</td>\n",
       "      <td>2017-09-29 16:02:02-04:00</td>\n",
       "    </tr>\n",
       "    <tr>\n",
       "      <th>913821956625059840</th>\n",
       "      <td>2017-09-29 17:45:07</td>\n",
       "      <td>Media Studio</td>\n",
       "      <td>This week we came one step closer to reaching ...</td>\n",
       "      <td>5042</td>\n",
       "      <td>2017-09-29 13:45:07-04:00</td>\n",
       "    </tr>\n",
       "    <tr>\n",
       "      <th>913760243770896389</th>\n",
       "      <td>2017-09-29 13:39:53</td>\n",
       "      <td>Twitter for iPhone</td>\n",
       "      <td>RECORD HIGH FOR S &amp;amp; P 500!</td>\n",
       "      <td>8025</td>\n",
       "      <td>2017-09-29 09:39:53-04:00</td>\n",
       "    </tr>\n",
       "    <tr>\n",
       "      <th>913757869627133953</th>\n",
       "      <td>2017-09-29 13:30:27</td>\n",
       "      <td>Twitter for iPhone</td>\n",
       "      <td>Thank you to FEMA, our great Military &amp;amp; al...</td>\n",
       "      <td>9192</td>\n",
       "      <td>2017-09-29 09:30:27-04:00</td>\n",
       "    </tr>\n",
       "    <tr>\n",
       "      <th>913724766208610304</th>\n",
       "      <td>2017-09-29 11:18:55</td>\n",
       "      <td>Twitter for iPhone</td>\n",
       "      <td>...The fact is that Puerto Rico has been destr...</td>\n",
       "      <td>8582</td>\n",
       "      <td>2017-09-29 07:18:55-04:00</td>\n",
       "    </tr>\n",
       "  </tbody>\n",
       "</table>\n",
       "</div>"
      ],
      "text/plain": [
       "                                  time              source  \\\n",
       "id                                                           \n",
       "913856413541138432 2017-09-29 20:02:02  Twitter for iPhone   \n",
       "913821956625059840 2017-09-29 17:45:07        Media Studio   \n",
       "913760243770896389 2017-09-29 13:39:53  Twitter for iPhone   \n",
       "913757869627133953 2017-09-29 13:30:27  Twitter for iPhone   \n",
       "913724766208610304 2017-09-29 11:18:55  Twitter for iPhone   \n",
       "\n",
       "                                                                 text  \\\n",
       "id                                                                      \n",
       "913856413541138432  Thank you @ShopFloorNAM. An honor to be with y...   \n",
       "913821956625059840  This week we came one step closer to reaching ...   \n",
       "913760243770896389                     RECORD HIGH FOR S &amp; P 500!   \n",
       "913757869627133953  Thank you to FEMA, our great Military &amp; al...   \n",
       "913724766208610304  ...The fact is that Puerto Rico has been destr...   \n",
       "\n",
       "                    retweet_count                  est_time  \n",
       "id                                                           \n",
       "913856413541138432           2210 2017-09-29 16:02:02-04:00  \n",
       "913821956625059840           5042 2017-09-29 13:45:07-04:00  \n",
       "913760243770896389           8025 2017-09-29 09:39:53-04:00  \n",
       "913757869627133953           9192 2017-09-29 09:30:27-04:00  \n",
       "913724766208610304           8582 2017-09-29 07:18:55-04:00  "
      ]
     },
     "execution_count": 667,
     "metadata": {},
     "output_type": "execute_result"
    }
   ],
   "source": [
    "trump.head()"
   ]
  },
  {
   "cell_type": "code",
   "execution_count": 668,
   "metadata": {
    "tags": [
     "student",
     "written"
    ]
   },
   "outputs": [
    {
     "data": {
      "text/plain": [
       "<matplotlib.text.Text at 0x129811550>"
      ]
     },
     "execution_count": 668,
     "metadata": {},
     "output_type": "execute_result"
    },
    {
     "data": {
      "image/png": "[encoded data removed]",
      "text/plain": [
       "<matplotlib.figure.Figure at 0x126a64b38>"
      ]
     },
     "metadata": {},
     "output_type": "display_data"
    }
   ],
   "source": [
    "### make your plot here \n",
    "(trump.loc[:, ['est_time', 'source']]\n",
    " .set_index('est_time')\n",
    " .groupby('source')\n",
    " .resample('M')\n",
    " .size()\n",
    " .unstack(level=0)\n",
    " .plot()\n",
    ")\n",
    "plt.xlabel('time')\n",
    "plt.ylabel('count')"
   ]
  },
  {
   "cell_type": "markdown",
   "metadata": {},
   "source": [
    "According to the plot, Trump's tweets come from many different sources. It turns out that many of his tweets were not from Trump himself but from his staff. [Take a look at this Verge article.](https://www.theverge.com/2017/3/29/15103504/donald-trump-iphone-using-switched-android)\n",
    "\n",
    "Does the data support the information in the article? What else do you find out about changes in Trump's tweets sources from the plot?"
   ]
  },
  {
   "cell_type": "code",
   "execution_count": 853,
   "metadata": {
    "tags": [
     "student",
     "written"
    ]
   },
   "outputs": [
    {
     "data": {
      "text/markdown": [
       "\n",
       "\n",
       "The article was posted on March 19, 2017 and reports that Trump just switched over from his android and \n",
       "started using his iPhone. On the graph we can see that this trend is true because the counts of tweeting from\n",
       "his android ceases at around March and then there is an increase in tweeting with an iPhone from March onwards.\n",
       "It is possible that many of his tweets are from his staff because from July-Nov we see that there are more counts of tweets\n",
       "from iPhone than Android, and since Trump hadn't gotten an iPhone until March, these July-Nov iPhone tweets\n",
       "could mainly be from staff. \n",
       "\n",
       "From the sources plot we can see that there is an increase in tweeting from Media Studo around June.\n",
       "We can also see that around March, Trump has allowed an increase in tweeting with twitter ads. \n",
       "Tweeting from his android also reached a great peak during Jan (the time of his inauguration).\n",
       "\n"
      ],
      "text/plain": [
       "<IPython.core.display.Markdown object>"
      ]
     },
     "metadata": {},
     "output_type": "display_data"
    }
   ],
   "source": [
    "q4d_answer = r\"\"\"\n",
    "\n",
    "The article was posted on March 19, 2017 and reports that Trump just switched over from his android and \n",
    "started using his iPhone. On the graph we can see that this trend is true because the counts of tweeting from\n",
    "his android ceases at around March and then there is an increase in tweeting with an iPhone from March onwards.\n",
    "It is possible that many of his tweets are from his staff because from July-Nov we see that there are more counts of tweets\n",
    "from iPhone than Android, and since Trump hadn't gotten an iPhone until March, these July-Nov iPhone tweets\n",
    "could mainly be from staff. \n",
    "\n",
    "From the sources plot we can see that there is an increase in tweeting from Media Studo around June.\n",
    "We can also see that around March, Trump has allowed an increase in tweeting with twitter ads. \n",
    "Tweeting from his android also reached a great peak during Jan (the time of his inauguration).\n",
    "\n",
    "\"\"\"\n",
    "\n",
    "display(Markdown(q4d_answer))"
   ]
  },
  {
   "cell_type": "markdown",
   "metadata": {},
   "source": [
    "What are some ways we can distinguish between tweets that came from Trump and tweets from his staff? Before, it was as easy as checked which device the tweet came from. Now, we have to rely on more sophisticated methods."
   ]
  },
  {
   "cell_type": "markdown",
   "metadata": {},
   "source": [
    "## Project Checkpoint Reached\n",
    "\n",
    "Congrats, you just reached the Project 1 checkpoint!\n",
    "\n",
    "Now, run the cell below to submit your assignment to OkPy. The autograder should email you shortly with your autograded score. The autograder will only run once every 30 minutes.\n",
    "\n",
    "Note that you'll probably get 0 points on Questions 5-8. Since you haven't gotten there yet, don't worry about missing those points.\n",
    "\n",
    "**Note that the checkpoint is graded on completeness. This means that we'll check whether you attempted to solve each question, not whether you've gotten them right. When you submit the final submission of the project, you can go back and revise your answers to Questions 1-4.**"
   ]
  },
  {
   "cell_type": "code",
   "execution_count": 670,
   "metadata": {},
   "outputs": [
    {
     "data": {
      "application/javascript": [
       "IPython.notebook.save_checkpoint();"
      ],
      "text/plain": [
       "<IPython.core.display.Javascript object>"
      ]
     },
     "metadata": {},
     "output_type": "display_data"
    },
    {
     "data": {
      "application/javascript": [
       "IPython.notebook.save_notebook();"
      ],
      "text/plain": [
       "<IPython.core.display.Javascript object>"
      ]
     },
     "metadata": {},
     "output_type": "display_data"
    },
    {
     "name": "stdout",
     "output_type": "stream",
     "text": [
      "Saving notebook... Saved 'proj1.ipynb'.\n",
      "Submit... 100% complete\n",
      "Submission successful for user: melissakly@berkeley.edu\n",
      "URL: https://okpy.org/cal/ds100/fa17/proj1_part1/submissions/xkMB03\n",
      "NOTE: this is only a backup. To submit your assignment, use:\n",
      "\tpython3 ok --submit\n",
      "\n"
     ]
    }
   ],
   "source": [
    "_ = ok.submit()"
   ]
  },
  {
   "cell_type": "markdown",
   "metadata": {},
   "source": [
    "---\n",
    "<br></br>\n",
    "\n",
    "## Question 5: Sentiment Analysis\n",
    "\n",
    "It turns out that we can use the words in Trump's tweets to calculate a measure of the sentiment of the tweet. For example, the sentence \"I love America!\" has positive sentiment, whereas the sentence \"I hate taxes!\" has a negative sentiment. In addition, some words have stronger positive / negative sentiment than others: \"I love America.\" is more positive than \"I like America.\"\n",
    "\n",
    "We will use the [VADER (Valence Aware Dictionary and sEntiment Reasoner)](https://github.com/cjhutto/vaderSentiment) lexicon to analyze the sentiment of Trump's tweets. VADER is a lexicon and rule-based sentiment analysis tool that is specifically attuned to sentiments expressed in social media which is great for our usage.\n",
    "\n",
    "The VADER lexicon gives the sentiment of individual words. Run the following cell to show the first few rows of the lexicon:"
   ]
  },
  {
   "cell_type": "code",
   "execution_count": 671,
   "metadata": {},
   "outputs": [
    {
     "name": "stdout",
     "output_type": "stream",
     "text": [
      "$:\t-1.5\t0.80623\t[-1, -1, -1, -1, -3, -1, -3, -1, -2, -1]\r\n",
      "%)\t-0.4\t1.0198\t[-1, 0, -1, 0, 0, -2, -1, 2, -1, 0]\r\n",
      "%-)\t-1.5\t1.43178\t[-2, 0, -2, -2, -1, 2, -2, -3, -2, -3]\r\n",
      "&-:\t-0.4\t1.42829\t[-3, -1, 0, 0, -1, -1, -1, 2, -1, 2]\r\n",
      "&:\t-0.7\t0.64031\t[0, -1, -1, -1, 1, -1, -1, -1, -1, -1]\r\n",
      "( '}{' )\t1.6\t0.66332\t[1, 2, 2, 1, 1, 2, 2, 1, 3, 1]\r\n",
      "(%\t-0.9\t0.9434\t[0, 0, 1, -1, -1, -1, -2, -2, -1, -2]\r\n",
      "('-:\t2.2\t1.16619\t[4, 1, 4, 3, 1, 2, 3, 1, 2, 1]\r\n",
      "(':\t2.3\t0.9\t[1, 3, 3, 2, 2, 4, 2, 3, 1, 2]\r\n",
      "((-:\t2.1\t0.53852\t[2, 2, 2, 1, 2, 3, 2, 2, 3, 2]\r\n"
     ]
    }
   ],
   "source": [
    "!head vader_lexicon.txt"
   ]
  },
  {
   "cell_type": "markdown",
   "metadata": {},
   "source": [
    "---\n",
    "<br/><br/>\n",
    "\n",
    "## Question 5a\n",
    "\n",
    "As you can see, the lexicon contains emojis too! The first column of the lexicon is the *token*, or the word itself. The second column is the *polarity* of the word, or how positive / negative it is.\n",
    "\n",
    "(How did they decide the polarities of these words? What are the other two columns in the lexicon? See the link above.)\n",
    "\n",
    " Read in the lexicon into a DataFrame called `sent`. The index of the DF should be the tokens in the lexicon. `sent` should have one column: `polarity`: The polarity of each token."
   ]
  },
  {
   "cell_type": "code",
   "execution_count": 806,
   "metadata": {
    "collapsed": true
   },
   "outputs": [],
   "source": [
    "#variation of sent\n",
    "# sent = pd.DataFrame(columns = [\"polarity\"])\n",
    "# sent['polarity'] = pol\n",
    "# sent = sent.set_index([tokenarray])\n",
    "# sent.head()"
   ]
  },
  {
   "cell_type": "code",
   "execution_count": 807,
   "metadata": {
    "tags": [
     "student"
    ]
   },
   "outputs": [
    {
     "data": {
      "text/html": [
       "<div>\n",
       "<style>\n",
       "    .dataframe thead tr:only-child th {\n",
       "        text-align: right;\n",
       "    }\n",
       "\n",
       "    .dataframe thead th {\n",
       "        text-align: left;\n",
       "    }\n",
       "\n",
       "    .dataframe tbody tr th {\n",
       "        vertical-align: top;\n",
       "    }\n",
       "</style>\n",
       "<table border=\"1\" class=\"dataframe\">\n",
       "  <thead>\n",
       "    <tr style=\"text-align: right;\">\n",
       "      <th></th>\n",
       "      <th>polarity</th>\n",
       "    </tr>\n",
       "    <tr>\n",
       "      <th>token</th>\n",
       "      <th></th>\n",
       "    </tr>\n",
       "  </thead>\n",
       "  <tbody>\n",
       "    <tr>\n",
       "      <th>$:</th>\n",
       "      <td>-1.5</td>\n",
       "    </tr>\n",
       "    <tr>\n",
       "      <th>%)</th>\n",
       "      <td>-0.4</td>\n",
       "    </tr>\n",
       "    <tr>\n",
       "      <th>%-)</th>\n",
       "      <td>-1.5</td>\n",
       "    </tr>\n",
       "    <tr>\n",
       "      <th>&amp;-:</th>\n",
       "      <td>-0.4</td>\n",
       "    </tr>\n",
       "    <tr>\n",
       "      <th>&amp;:</th>\n",
       "      <td>-0.7</td>\n",
       "    </tr>\n",
       "  </tbody>\n",
       "</table>\n",
       "</div>"
      ],
      "text/plain": [
       "       polarity\n",
       "token          \n",
       "$:         -1.5\n",
       "%)         -0.4\n",
       "%-)        -1.5\n",
       "&-:        -0.4\n",
       "&:         -0.7"
      ]
     },
     "execution_count": 807,
     "metadata": {},
     "output_type": "execute_result"
    }
   ],
   "source": [
    "sent = pd.DataFrame.from_csv('vader_lexicon.txt', sep='\\t', header=None)\n",
    "sent = sent.drop([2, 3], 1)\n",
    "sent.index.rename('token', inplace=True)\n",
    "sent.rename(columns={1: 'polarity'}, inplace=True)\n",
    "sent.head()"
   ]
  },
  {
   "cell_type": "code",
   "execution_count": 808,
   "metadata": {
    "tags": [
     "test",
     "q05a"
    ]
   },
   "outputs": [
    {
     "name": "stdout",
     "output_type": "stream",
     "text": [
      "~~~~~~~~~~~~~~~~~~~~~~~~~~~~~~~~~~~~~~~~~~~~~~~~~~~~~~~~~~~~~~~~~~~~~\n",
      "Running tests\n",
      "\n",
      "---------------------------------------------------------------------\n",
      "Test summary\n",
      "    Passed: 1\n",
      "    Failed: 0\n",
      "[ooooooooook] 100.0% passed\n",
      "\n"
     ]
    },
    {
     "data": {
      "application/javascript": [
       "IPython.notebook.save_checkpoint();"
      ],
      "text/plain": [
       "<IPython.core.display.Javascript object>"
      ]
     },
     "metadata": {},
     "output_type": "display_data"
    },
    {
     "data": {
      "application/javascript": [
       "IPython.notebook.save_notebook();"
      ],
      "text/plain": [
       "<IPython.core.display.Javascript object>"
      ]
     },
     "metadata": {},
     "output_type": "display_data"
    },
    {
     "name": "stdout",
     "output_type": "stream",
     "text": [
      "Saving notebook... Saved 'proj1.ipynb'.\n",
      "Submit... 100% complete\n",
      "Submission successful for user: melissakly@berkeley.edu\n",
      "URL: https://okpy.org/cal/ds100/fa17/proj1_part1/submissions/XDK3MW\n",
      "NOTE: this is only a backup. To submit your assignment, use:\n",
      "\tpython3 ok --submit\n",
      "\n"
     ]
    }
   ],
   "source": [
    "_ = ok.grade('q05a')\n",
    "_ = ok.backup()"
   ]
  },
  {
   "cell_type": "markdown",
   "metadata": {},
   "source": [
    "---\n",
    "<br/><br/>\n",
    "\n",
    "## Question 5b\n",
    "\n",
    "Now, let's use this lexicon to calculate the overall sentiment for each of Trump's tweets. Here's the basic idea:\n",
    "\n",
    "1. For each tweet, find the sentiment of each word.\n",
    "2. Calculate the sentiment of each tweet by taking the sum of the sentiments of its words.\n",
    "\n",
    "First, let's lowercase the text in the tweets since the lexicon is also lowercase. Set the `text` column of the `trump` DF to be the lowercased text of each tweet."
   ]
  },
  {
   "cell_type": "code",
   "execution_count": 809,
   "metadata": {},
   "outputs": [
    {
     "data": {
      "text/html": [
       "<div>\n",
       "<style>\n",
       "    .dataframe thead tr:only-child th {\n",
       "        text-align: right;\n",
       "    }\n",
       "\n",
       "    .dataframe thead th {\n",
       "        text-align: left;\n",
       "    }\n",
       "\n",
       "    .dataframe tbody tr th {\n",
       "        vertical-align: top;\n",
       "    }\n",
       "</style>\n",
       "<table border=\"1\" class=\"dataframe\">\n",
       "  <thead>\n",
       "    <tr style=\"text-align: right;\">\n",
       "      <th></th>\n",
       "      <th>time</th>\n",
       "      <th>source</th>\n",
       "      <th>text</th>\n",
       "      <th>retweet_count</th>\n",
       "      <th>est_time</th>\n",
       "      <th>no_punc</th>\n",
       "    </tr>\n",
       "    <tr>\n",
       "      <th>id</th>\n",
       "      <th></th>\n",
       "      <th></th>\n",
       "      <th></th>\n",
       "      <th></th>\n",
       "      <th></th>\n",
       "      <th></th>\n",
       "    </tr>\n",
       "  </thead>\n",
       "  <tbody>\n",
       "    <tr>\n",
       "      <th>913856413541138432</th>\n",
       "      <td>2017-09-29 20:02:02</td>\n",
       "      <td>Twitter for iPhone</td>\n",
       "      <td>thank you @shopfloornam. an honor to be with y...</td>\n",
       "      <td>2210</td>\n",
       "      <td>2017-09-29 16:02:02-04:00</td>\n",
       "      <td>thank you @shopfloornam  an honor to be with y...</td>\n",
       "    </tr>\n",
       "    <tr>\n",
       "      <th>913821956625059840</th>\n",
       "      <td>2017-09-29 17:45:07</td>\n",
       "      <td>Media Studio</td>\n",
       "      <td>this week we came one step closer to reaching ...</td>\n",
       "      <td>5042</td>\n",
       "      <td>2017-09-29 13:45:07-04:00</td>\n",
       "      <td>this week we came one step closer to reaching ...</td>\n",
       "    </tr>\n",
       "    <tr>\n",
       "      <th>913760243770896389</th>\n",
       "      <td>2017-09-29 13:39:53</td>\n",
       "      <td>Twitter for iPhone</td>\n",
       "      <td>record high for s &amp;amp; p 500!</td>\n",
       "      <td>8025</td>\n",
       "      <td>2017-09-29 09:39:53-04:00</td>\n",
       "      <td>record high for s  amp  p 500</td>\n",
       "    </tr>\n",
       "    <tr>\n",
       "      <th>913757869627133953</th>\n",
       "      <td>2017-09-29 13:30:27</td>\n",
       "      <td>Twitter for iPhone</td>\n",
       "      <td>thank you to fema, our great military &amp;amp; al...</td>\n",
       "      <td>9192</td>\n",
       "      <td>2017-09-29 09:30:27-04:00</td>\n",
       "      <td>thank you to fema  our great military  amp  al...</td>\n",
       "    </tr>\n",
       "    <tr>\n",
       "      <th>913724766208610304</th>\n",
       "      <td>2017-09-29 11:18:55</td>\n",
       "      <td>Twitter for iPhone</td>\n",
       "      <td>...the fact is that puerto rico has been destr...</td>\n",
       "      <td>8582</td>\n",
       "      <td>2017-09-29 07:18:55-04:00</td>\n",
       "      <td>the fact is that puerto rico has been destr...</td>\n",
       "    </tr>\n",
       "  </tbody>\n",
       "</table>\n",
       "</div>"
      ],
      "text/plain": [
       "                                  time              source  \\\n",
       "id                                                           \n",
       "913856413541138432 2017-09-29 20:02:02  Twitter for iPhone   \n",
       "913821956625059840 2017-09-29 17:45:07        Media Studio   \n",
       "913760243770896389 2017-09-29 13:39:53  Twitter for iPhone   \n",
       "913757869627133953 2017-09-29 13:30:27  Twitter for iPhone   \n",
       "913724766208610304 2017-09-29 11:18:55  Twitter for iPhone   \n",
       "\n",
       "                                                                 text  \\\n",
       "id                                                                      \n",
       "913856413541138432  thank you @shopfloornam. an honor to be with y...   \n",
       "913821956625059840  this week we came one step closer to reaching ...   \n",
       "913760243770896389                     record high for s &amp; p 500!   \n",
       "913757869627133953  thank you to fema, our great military &amp; al...   \n",
       "913724766208610304  ...the fact is that puerto rico has been destr...   \n",
       "\n",
       "                    retweet_count                  est_time  \\\n",
       "id                                                            \n",
       "913856413541138432           2210 2017-09-29 16:02:02-04:00   \n",
       "913821956625059840           5042 2017-09-29 13:45:07-04:00   \n",
       "913760243770896389           8025 2017-09-29 09:39:53-04:00   \n",
       "913757869627133953           9192 2017-09-29 09:30:27-04:00   \n",
       "913724766208610304           8582 2017-09-29 07:18:55-04:00   \n",
       "\n",
       "                                                              no_punc  \n",
       "id                                                                     \n",
       "913856413541138432  thank you @shopfloornam  an honor to be with y...  \n",
       "913821956625059840  this week we came one step closer to reaching ...  \n",
       "913760243770896389                     record high for s  amp  p 500   \n",
       "913757869627133953  thank you to fema  our great military  amp  al...  \n",
       "913724766208610304     the fact is that puerto rico has been destr...  "
      ]
     },
     "execution_count": 809,
     "metadata": {},
     "output_type": "execute_result"
    }
   ],
   "source": [
    "newt = trump['text'].str.lower()\n",
    "trump['text'] = newt\n",
    "trump.head()"
   ]
  },
  {
   "cell_type": "code",
   "execution_count": 810,
   "metadata": {
    "tags": [
     "test",
     "q05b"
    ]
   },
   "outputs": [
    {
     "name": "stdout",
     "output_type": "stream",
     "text": [
      "~~~~~~~~~~~~~~~~~~~~~~~~~~~~~~~~~~~~~~~~~~~~~~~~~~~~~~~~~~~~~~~~~~~~~\n",
      "Running tests\n",
      "\n",
      "---------------------------------------------------------------------\n",
      "Test summary\n",
      "    Passed: 1\n",
      "    Failed: 0\n",
      "[ooooooooook] 100.0% passed\n",
      "\n"
     ]
    },
    {
     "data": {
      "application/javascript": [
       "IPython.notebook.save_checkpoint();"
      ],
      "text/plain": [
       "<IPython.core.display.Javascript object>"
      ]
     },
     "metadata": {},
     "output_type": "display_data"
    },
    {
     "data": {
      "application/javascript": [
       "IPython.notebook.save_notebook();"
      ],
      "text/plain": [
       "<IPython.core.display.Javascript object>"
      ]
     },
     "metadata": {},
     "output_type": "display_data"
    },
    {
     "name": "stdout",
     "output_type": "stream",
     "text": [
      "Saving notebook... Saved 'proj1.ipynb'.\n",
      "Submit... 100% complete\n",
      "Submission successful for user: melissakly@berkeley.edu\n",
      "URL: https://okpy.org/cal/ds100/fa17/proj1_part1/submissions/0RZ49v\n",
      "NOTE: this is only a backup. To submit your assignment, use:\n",
      "\tpython3 ok --submit\n",
      "\n"
     ]
    }
   ],
   "source": [
    "_ = ok.grade('q05b')\n",
    "_ = ok.backup()"
   ]
  },
  {
   "cell_type": "markdown",
   "metadata": {},
   "source": [
    "---\n",
    "<br/><br/>\n",
    "\n",
    "## Question 5c\n",
    "\n",
    "Now, let's get rid of punctuation since it'll cause us to fail to match words. Create a new column called `no_punc` in the `trump` DF to be the lowercased text of each tweet with all punctuation replaced by a single space. We consider punctuation characters to be any character that isn't a Unicode word character or a whitespace character. You may want to consult the Python documentation on regexes for this problem.\n",
    "\n",
    "(Why don't we simply remove punctuation instead of replacing with a space? See if you can figure this out by looking at the tweet data.)"
   ]
  },
  {
   "cell_type": "code",
   "execution_count": 811,
   "metadata": {},
   "outputs": [
    {
     "data": {
      "text/plain": [
       "'congratulations to eric  amp  lara on the birth of their son  eric  luke  trump this morning  https   t co aw0av82xde'"
      ]
     },
     "execution_count": 811,
     "metadata": {},
     "output_type": "execute_result"
    }
   ],
   "source": [
    "repl_punc = trump['text'].str.replace(r\"[?|,|$|!|&|.|#|^|;|:|/|\\\"]\", ' ')\n",
    "replacequotes = repl_punc.str.replace(r'^\"', '')\n",
    "#replacequotes = repl_punc.strip('\"')\n",
    "#replacequotes.loc['907675638055743489'].strip('\\'\"') \n",
    "repl_punc.loc['907675638055743489']"
   ]
  },
  {
   "cell_type": "code",
   "execution_count": 831,
   "metadata": {
    "collapsed": true,
    "tags": [
     "student"
    ]
   },
   "outputs": [],
   "source": [
    "# Save your regex in punct_re\n",
    "punct_re = r\"[^\\w\\s]\"\n",
    "#[?|,|$|!|&|.|#|^|;|:|/|\\\"]\n",
    "trump['no_punc'] = trump['text'].str.replace(punct_re, \" \")"
   ]
  },
  {
   "cell_type": "code",
   "execution_count": 832,
   "metadata": {},
   "outputs": [
    {
     "data": {
      "text/plain": [
       "'congratulations to eric  amp  lara on the birth of their son  eric  luke  trump this morning  https   t co aw0av82xde'"
      ]
     },
     "execution_count": 832,
     "metadata": {},
     "output_type": "execute_result"
    }
   ],
   "source": [
    "trump['no_punc'].loc['907675638055743489']"
   ]
  },
  {
   "cell_type": "code",
   "execution_count": 833,
   "metadata": {
    "tags": [
     "test",
     "q05c"
    ]
   },
   "outputs": [
    {
     "name": "stdout",
     "output_type": "stream",
     "text": [
      "~~~~~~~~~~~~~~~~~~~~~~~~~~~~~~~~~~~~~~~~~~~~~~~~~~~~~~~~~~~~~~~~~~~~~\n",
      "Running tests\n",
      "\n",
      "---------------------------------------------------------------------\n",
      "Test summary\n",
      "    Passed: 1\n",
      "    Failed: 0\n",
      "[ooooooooook] 100.0% passed\n",
      "\n"
     ]
    },
    {
     "data": {
      "application/javascript": [
       "IPython.notebook.save_checkpoint();"
      ],
      "text/plain": [
       "<IPython.core.display.Javascript object>"
      ]
     },
     "metadata": {},
     "output_type": "display_data"
    },
    {
     "data": {
      "application/javascript": [
       "IPython.notebook.save_notebook();"
      ],
      "text/plain": [
       "<IPython.core.display.Javascript object>"
      ]
     },
     "metadata": {},
     "output_type": "display_data"
    },
    {
     "name": "stdout",
     "output_type": "stream",
     "text": [
      "Saving notebook... Saved 'proj1.ipynb'.\n",
      "Submit... 100% complete\n",
      "Submission successful for user: melissakly@berkeley.edu\n",
      "URL: https://okpy.org/cal/ds100/fa17/proj1_part1/submissions/9rZnEJ\n",
      "NOTE: this is only a backup. To submit your assignment, use:\n",
      "\tpython3 ok --submit\n",
      "\n"
     ]
    }
   ],
   "source": [
    "_ = ok.grade('q05c')\n",
    "_ = ok.backup()"
   ]
  },
  {
   "cell_type": "markdown",
   "metadata": {},
   "source": [
    "---\n",
    "<br/> <br/>\n",
    "\n",
    "## Question 5d:\n",
    "\n",
    "\n",
    "Now, let's convert the tweets into what's called a *tidy format* to make the sentiments easier to calculate. Use the `no_punc` column of `trump` to create a table called `tidy_format`. The index of the table should be the IDs of the tweets, repeated once for every word in the tweet. It has two columns:\n",
    "\n",
    "1. `num`: The location of the word in the tweet. For example, if the tweet was \"i love america\", then the location of the word \"i\" is 0, \"love\" is 1, and \"america\" is 2.\n",
    "2. `word`: The individual words of each tweet.\n",
    "\n",
    "The first few rows of our `tidy_format` table look like:\n",
    "\n",
    "<table border=\"1\" class=\"dataframe\">\n",
    "  <thead>\n",
    "    <tr style=\"text-align: right;\">\n",
    "      <th></th>\n",
    "      <th>num</th>\n",
    "      <th>word</th>\n",
    "    </tr>\n",
    "  </thead>\n",
    "  <tbody>\n",
    "    <tr>\n",
    "      <th>907698529606541312</th>\n",
    "      <td>0</td>\n",
    "      <td>it</td>\n",
    "    </tr>\n",
    "    <tr>\n",
    "      <th>907698529606541312</th>\n",
    "      <td>1</td>\n",
    "      <td>was</td>\n",
    "    </tr>\n",
    "    <tr>\n",
    "      <th>907698529606541312</th>\n",
    "      <td>2</td>\n",
    "      <td>a</td>\n",
    "    </tr>\n",
    "    <tr>\n",
    "      <th>907698529606541312</th>\n",
    "      <td>3</td>\n",
    "      <td>great</td>\n",
    "    </tr>\n",
    "    <tr>\n",
    "      <th>907698529606541312</th>\n",
    "      <td>4</td>\n",
    "      <td>honor</td>\n",
    "    </tr>\n",
    "  </tbody>\n",
    "</table>\n",
    "\n",
    "**Note that you'll get different results depending on when you pulled in the tweets.** However, you can double check that your tweet with ID `907698529606541312` has the same rows as ours. Our tests don't check whether your table looks exactly like ours.\n",
    "\n",
    "This will require some rather advanced Pandas hacking, but our solution uses a chain of 5 methods on the `trump` DF.\n",
    "\n",
    "* **Hint 1:** Try looking at the `expand` argument to pandas' `str.split`.\n",
    "\n",
    "* **Hint 2:** Try looking at the `stack()` method.\n"
   ]
  },
  {
   "cell_type": "code",
   "execution_count": 815,
   "metadata": {},
   "outputs": [
    {
     "data": {
      "text/html": [
       "<div>\n",
       "<style>\n",
       "    .dataframe thead tr:only-child th {\n",
       "        text-align: right;\n",
       "    }\n",
       "\n",
       "    .dataframe thead th {\n",
       "        text-align: left;\n",
       "    }\n",
       "\n",
       "    .dataframe tbody tr th {\n",
       "        vertical-align: top;\n",
       "    }\n",
       "</style>\n",
       "<table border=\"1\" class=\"dataframe\">\n",
       "  <thead>\n",
       "    <tr style=\"text-align: right;\">\n",
       "      <th></th>\n",
       "      <th>num</th>\n",
       "      <th>word</th>\n",
       "    </tr>\n",
       "    <tr>\n",
       "      <th>id</th>\n",
       "      <th></th>\n",
       "      <th></th>\n",
       "    </tr>\n",
       "  </thead>\n",
       "  <tbody>\n",
       "    <tr>\n",
       "      <th>913856413541138432</th>\n",
       "      <td>0</td>\n",
       "      <td>thank</td>\n",
       "    </tr>\n",
       "    <tr>\n",
       "      <th>913856413541138432</th>\n",
       "      <td>1</td>\n",
       "      <td>you</td>\n",
       "    </tr>\n",
       "    <tr>\n",
       "      <th>913856413541138432</th>\n",
       "      <td>2</td>\n",
       "      <td>@shopfloornam</td>\n",
       "    </tr>\n",
       "    <tr>\n",
       "      <th>913856413541138432</th>\n",
       "      <td>3</td>\n",
       "      <td>an</td>\n",
       "    </tr>\n",
       "    <tr>\n",
       "      <th>913856413541138432</th>\n",
       "      <td>4</td>\n",
       "      <td>honor</td>\n",
       "    </tr>\n",
       "  </tbody>\n",
       "</table>\n",
       "</div>"
      ],
      "text/plain": [
       "                    num           word\n",
       "id                                    \n",
       "913856413541138432    0          thank\n",
       "913856413541138432    1            you\n",
       "913856413541138432    2  @shopfloornam\n",
       "913856413541138432    3             an\n",
       "913856413541138432    4          honor"
      ]
     },
     "execution_count": 815,
     "metadata": {},
     "output_type": "execute_result"
    }
   ],
   "source": [
    "trumpcopy = trump.copy()\n",
    "changed_punc = trumpcopy['no_punc'].str.replace('\\s+', ' ')\n",
    "trumpcopy['no_punc'] = changed_punc\n",
    "splt = trumpcopy['no_punc'].str.split(expand=True).stack().reset_index().set_index('id')\n",
    "splt.columns = ['num', 'word']\n",
    "splt.head()"
   ]
  },
  {
   "cell_type": "code",
   "execution_count": 816,
   "metadata": {
    "collapsed": true,
    "tags": [
     "student"
    ]
   },
   "outputs": [],
   "source": [
    "tidy_format = splt"
   ]
  },
  {
   "cell_type": "code",
   "execution_count": 817,
   "metadata": {
    "tags": [
     "test",
     "q05d"
    ]
   },
   "outputs": [
    {
     "name": "stdout",
     "output_type": "stream",
     "text": [
      "~~~~~~~~~~~~~~~~~~~~~~~~~~~~~~~~~~~~~~~~~~~~~~~~~~~~~~~~~~~~~~~~~~~~~\n",
      "Running tests\n",
      "\n",
      "---------------------------------------------------------------------\n",
      "Test summary\n",
      "    Passed: 1\n",
      "    Failed: 0\n",
      "[ooooooooook] 100.0% passed\n",
      "\n"
     ]
    },
    {
     "data": {
      "application/javascript": [
       "IPython.notebook.save_checkpoint();"
      ],
      "text/plain": [
       "<IPython.core.display.Javascript object>"
      ]
     },
     "metadata": {},
     "output_type": "display_data"
    },
    {
     "data": {
      "application/javascript": [
       "IPython.notebook.save_notebook();"
      ],
      "text/plain": [
       "<IPython.core.display.Javascript object>"
      ]
     },
     "metadata": {},
     "output_type": "display_data"
    },
    {
     "name": "stdout",
     "output_type": "stream",
     "text": [
      "Saving notebook... Saved 'proj1.ipynb'.\n",
      "Submit... 100% complete\n",
      "Submission successful for user: melissakly@berkeley.edu\n",
      "URL: https://okpy.org/cal/ds100/fa17/proj1_part1/submissions/BBZzRx\n",
      "NOTE: this is only a backup. To submit your assignment, use:\n",
      "\tpython3 ok --submit\n",
      "\n"
     ]
    }
   ],
   "source": [
    "_ = ok.grade('q05d')\n",
    "_ = ok.backup()"
   ]
  },
  {
   "cell_type": "markdown",
   "metadata": {},
   "source": [
    "---\n",
    "<br/> <br/>\n",
    "\n",
    "\n",
    "## Question 5e:\n",
    "\n",
    "Now that we have this table in the tidy format, it becomes much easier to find the sentiment of each tweet: we can join the table with the lexicon table. Calculate a table called `polarities`. Its index should be the IDs of the tweets (one row per ID). It should have one column called `polarity` containing the summed sentiment polarity of each tweet.\n",
    "\n",
    "Here are the first couple rows of our table. Again, you may have different tweet IDs depending on when you downloaded the tweets, but make sure the format looks the same.\n",
    "\n",
    "<table border=\"1\" class=\"dataframe\">\n",
    "  <thead>\n",
    "    <tr style=\"text-align: right;\">\n",
    "      <th></th>\n",
    "      <th>polarity</th>\n",
    "    </tr>\n",
    "    <tr>\n",
    "      <th>index</th>\n",
    "      <th></th>\n",
    "    </tr>\n",
    "  </thead>\n",
    "  <tbody>\n",
    "    <tr>\n",
    "      <th>755486029742641152</th>\n",
    "      <td>0.0</td>\n",
    "    </tr>\n",
    "    <tr>\n",
    "      <th>755502053003190273</th>\n",
    "      <td>0.0</td>\n",
    "    </tr>\n",
    "    <tr>\n",
    "      <th>755525857456844800</th>\n",
    "      <td>2.2</td>\n",
    "    </tr>\n",
    "    <tr>\n",
    "      <th>755551039244341253</th>\n",
    "      <td>6.7</td>\n",
    "    </tr>\n",
    "    <tr>\n",
    "      <th>755708398537154560</th>\n",
    "      <td>7.6</td>\n",
    "    </tr>\n",
    "  </tbody>\n",
    "</table>"
   ]
  },
  {
   "cell_type": "code",
   "execution_count": 818,
   "metadata": {
    "collapsed": true
   },
   "outputs": [],
   "source": [
    "newt = tidy_format.reset_index()\n",
    "newsent = sent.reset_index().rename(columns = {'token': 'word'})\n",
    "polar = pd.merge(newt, newsent, how='outer', on= 'word')\n",
    "newpol = polar.groupby('id').sum()\n",
    "newpol = newpol.drop('num', 1).fillna(0)\n",
    "# newpol.head()\n",
    "# newsent.head()"
   ]
  },
  {
   "cell_type": "code",
   "execution_count": 819,
   "metadata": {
    "collapsed": true,
    "tags": [
     "student"
    ]
   },
   "outputs": [],
   "source": [
    "polarities = newpol"
   ]
  },
  {
   "cell_type": "code",
   "execution_count": 820,
   "metadata": {
    "tags": [
     "test",
     "q05e"
    ]
   },
   "outputs": [
    {
     "name": "stdout",
     "output_type": "stream",
     "text": [
      "~~~~~~~~~~~~~~~~~~~~~~~~~~~~~~~~~~~~~~~~~~~~~~~~~~~~~~~~~~~~~~~~~~~~~\n",
      "Running tests\n",
      "\n",
      "---------------------------------------------------------------------\n",
      "Test summary\n",
      "    Passed: 1\n",
      "    Failed: 0\n",
      "[ooooooooook] 100.0% passed\n",
      "\n"
     ]
    },
    {
     "data": {
      "application/javascript": [
       "IPython.notebook.save_checkpoint();"
      ],
      "text/plain": [
       "<IPython.core.display.Javascript object>"
      ]
     },
     "metadata": {},
     "output_type": "display_data"
    },
    {
     "data": {
      "application/javascript": [
       "IPython.notebook.save_notebook();"
      ],
      "text/plain": [
       "<IPython.core.display.Javascript object>"
      ]
     },
     "metadata": {},
     "output_type": "display_data"
    },
    {
     "name": "stdout",
     "output_type": "stream",
     "text": [
      "Saving notebook... Saved 'proj1.ipynb'.\n",
      "Submit... 100% complete\n",
      "Submission successful for user: melissakly@berkeley.edu\n",
      "URL: https://okpy.org/cal/ds100/fa17/proj1_part1/submissions/G6mGQy\n",
      "NOTE: this is only a backup. To submit your assignment, use:\n",
      "\tpython3 ok --submit\n",
      "\n"
     ]
    }
   ],
   "source": [
    "_ = ok.grade('q05e')\n",
    "_ = ok.backup()"
   ]
  },
  {
   "cell_type": "markdown",
   "metadata": {},
   "source": [
    "---\n",
    "<br/> <br/>\n",
    "\n",
    "\n",
    "## Question 5f:\n",
    "\n",
    "Finally, use the `polarities` and `trump` tables to create a new table called `senti` that is the `trump` table with an extra column called `polarity` containing the sentiment polarity of each tweet."
   ]
  },
  {
   "cell_type": "code",
   "execution_count": 821,
   "metadata": {
    "collapsed": true
   },
   "outputs": [],
   "source": [
    "maybpol = polarities.reset_index()\n",
    "maybtrump = trump.reset_index()"
   ]
  },
  {
   "cell_type": "code",
   "execution_count": 822,
   "metadata": {
    "tags": [
     "student"
    ]
   },
   "outputs": [
    {
     "data": {
      "text/html": [
       "<div>\n",
       "<style>\n",
       "    .dataframe thead tr:only-child th {\n",
       "        text-align: right;\n",
       "    }\n",
       "\n",
       "    .dataframe thead th {\n",
       "        text-align: left;\n",
       "    }\n",
       "\n",
       "    .dataframe tbody tr th {\n",
       "        vertical-align: top;\n",
       "    }\n",
       "</style>\n",
       "<table border=\"1\" class=\"dataframe\">\n",
       "  <thead>\n",
       "    <tr style=\"text-align: right;\">\n",
       "      <th></th>\n",
       "      <th>polarity</th>\n",
       "      <th>time</th>\n",
       "      <th>source</th>\n",
       "      <th>text</th>\n",
       "      <th>retweet_count</th>\n",
       "      <th>est_time</th>\n",
       "      <th>no_punc</th>\n",
       "    </tr>\n",
       "    <tr>\n",
       "      <th>id</th>\n",
       "      <th></th>\n",
       "      <th></th>\n",
       "      <th></th>\n",
       "      <th></th>\n",
       "      <th></th>\n",
       "      <th></th>\n",
       "      <th></th>\n",
       "    </tr>\n",
       "  </thead>\n",
       "  <tbody>\n",
       "    <tr>\n",
       "      <th>759457253925785604</th>\n",
       "      <td>0.0</td>\n",
       "      <td>2016-07-30 18:34:54</td>\n",
       "      <td>Twitter for iPhone</td>\n",
       "      <td>#crookedhillary https://t.co/xyopfjmbyp</td>\n",
       "      <td>10379</td>\n",
       "      <td>2016-07-30 14:34:54-04:00</td>\n",
       "      <td>crookedhillary https   t co xyopfjmbyp</td>\n",
       "    </tr>\n",
       "    <tr>\n",
       "      <th>759477522232901632</th>\n",
       "      <td>3.0</td>\n",
       "      <td>2016-07-30 19:55:26</td>\n",
       "      <td>Twitter for Android</td>\n",
       "      <td>why doesn't the media want to report that on t...</td>\n",
       "      <td>7998</td>\n",
       "      <td>2016-07-30 15:55:26-04:00</td>\n",
       "      <td>why doesn't the media want to report that on t...</td>\n",
       "    </tr>\n",
       "    <tr>\n",
       "      <th>759479059046883328</th>\n",
       "      <td>3.8</td>\n",
       "      <td>2016-07-30 20:01:32</td>\n",
       "      <td>Twitter for Android</td>\n",
       "      <td>i turned down a meeting with charles and david...</td>\n",
       "      <td>11806</td>\n",
       "      <td>2016-07-30 16:01:32-04:00</td>\n",
       "      <td>i turned down a meeting with charles and david...</td>\n",
       "    </tr>\n",
       "    <tr>\n",
       "      <th>759506712516784128</th>\n",
       "      <td>0.0</td>\n",
       "      <td>2016-07-30 21:51:25</td>\n",
       "      <td>Twitter for Android</td>\n",
       "      <td>word is that crooked hillary has very small an...</td>\n",
       "      <td>8253</td>\n",
       "      <td>2016-07-30 17:51:25-04:00</td>\n",
       "      <td>word is that crooked hillary has very small an...</td>\n",
       "    </tr>\n",
       "    <tr>\n",
       "      <th>759507812963737600</th>\n",
       "      <td>-0.5</td>\n",
       "      <td>2016-07-30 21:55:48</td>\n",
       "      <td>Twitter for iPhone</td>\n",
       "      <td>#crookedhillary = obama's third term, which wo...</td>\n",
       "      <td>10089</td>\n",
       "      <td>2016-07-30 17:55:48-04:00</td>\n",
       "      <td>crookedhillary = obama's third term  which wo...</td>\n",
       "    </tr>\n",
       "    <tr>\n",
       "      <th>759509936002957314</th>\n",
       "      <td>-3.5</td>\n",
       "      <td>2016-07-30 22:04:14</td>\n",
       "      <td>Twitter for Android</td>\n",
       "      <td>crooked's stop in johnstown, pennsylvania, whe...</td>\n",
       "      <td>9995</td>\n",
       "      <td>2016-07-30 18:04:14-04:00</td>\n",
       "      <td>crooked's stop in johnstown  pennsylvania  whe...</td>\n",
       "    </tr>\n",
       "    <tr>\n",
       "      <th>759512042906587137</th>\n",
       "      <td>1.8</td>\n",
       "      <td>2016-07-30 22:12:36</td>\n",
       "      <td>Twitter for Android</td>\n",
       "      <td>the \"rust belt\" was created by politicians lik...</td>\n",
       "      <td>8709</td>\n",
       "      <td>2016-07-30 18:12:36-04:00</td>\n",
       "      <td>the  rust belt  was created by politicians lik...</td>\n",
       "    </tr>\n",
       "    <tr>\n",
       "      <th>759513644258525184</th>\n",
       "      <td>5.5</td>\n",
       "      <td>2016-07-30 22:18:58</td>\n",
       "      <td>Twitter for Android</td>\n",
       "      <td>wow, nato's top commander just announced that ...</td>\n",
       "      <td>11437</td>\n",
       "      <td>2016-07-30 18:18:58-04:00</td>\n",
       "      <td>wow  nato's top commander just announced that ...</td>\n",
       "    </tr>\n",
       "    <tr>\n",
       "      <th>759515080010719232</th>\n",
       "      <td>0.4</td>\n",
       "      <td>2016-07-30 22:24:40</td>\n",
       "      <td>Twitter for iPhone</td>\n",
       "      <td>nato commander agrees members should pay up vi...</td>\n",
       "      <td>7431</td>\n",
       "      <td>2016-07-30 18:24:40-04:00</td>\n",
       "      <td>nato commander agrees members should pay up vi...</td>\n",
       "    </tr>\n",
       "    <tr>\n",
       "      <th>759516008272932864</th>\n",
       "      <td>0.0</td>\n",
       "      <td>2016-07-30 22:28:22</td>\n",
       "      <td>Twitter for Android</td>\n",
       "      <td>can you imagine if i had the small crowds that...</td>\n",
       "      <td>9975</td>\n",
       "      <td>2016-07-30 18:28:22-04:00</td>\n",
       "      <td>can you imagine if i had the small crowds that...</td>\n",
       "    </tr>\n",
       "    <tr>\n",
       "      <th>759524001613918208</th>\n",
       "      <td>1.5</td>\n",
       "      <td>2016-07-30 23:00:07</td>\n",
       "      <td>Twitter for Android</td>\n",
       "      <td>thank you to all of the television viewers tha...</td>\n",
       "      <td>10719</td>\n",
       "      <td>2016-07-30 19:00:07-04:00</td>\n",
       "      <td>thank you to all of the television viewers tha...</td>\n",
       "    </tr>\n",
       "    <tr>\n",
       "      <th>759592590106849280</th>\n",
       "      <td>3.5</td>\n",
       "      <td>2016-07-31 03:32:40</td>\n",
       "      <td>Twitter for Android</td>\n",
       "      <td>nielson media research final numbers on accept...</td>\n",
       "      <td>11966</td>\n",
       "      <td>2016-07-30 23:32:40-04:00</td>\n",
       "      <td>nielson media research final numbers on accept...</td>\n",
       "    </tr>\n",
       "    <tr>\n",
       "      <th>759734698415312897</th>\n",
       "      <td>-5.1</td>\n",
       "      <td>2016-07-31 12:57:21</td>\n",
       "      <td>Twitter for Android</td>\n",
       "      <td>captain khan, killed 12 years ago, was a hero,...</td>\n",
       "      <td>15063</td>\n",
       "      <td>2016-07-31 08:57:21-04:00</td>\n",
       "      <td>captain khan  killed 12 years ago  was a hero ...</td>\n",
       "    </tr>\n",
       "    <tr>\n",
       "      <th>759743648573435905</th>\n",
       "      <td>-6.2</td>\n",
       "      <td>2016-07-31 13:32:55</td>\n",
       "      <td>Twitter for Android</td>\n",
       "      <td>i was viciously attacked by mr. khan at the de...</td>\n",
       "      <td>18442</td>\n",
       "      <td>2016-07-31 09:32:55-04:00</td>\n",
       "      <td>i was viciously attacked by mr  khan at the de...</td>\n",
       "    </tr>\n",
       "    <tr>\n",
       "      <th>759843323909668865</th>\n",
       "      <td>-2.7</td>\n",
       "      <td>2016-07-31 20:09:00</td>\n",
       "      <td>Twitter for Android</td>\n",
       "      <td>the dishonest media is fawning over the democr...</td>\n",
       "      <td>9829</td>\n",
       "      <td>2016-07-31 16:09:00-04:00</td>\n",
       "      <td>the dishonest media is fawning over the democr...</td>\n",
       "    </tr>\n",
       "    <tr>\n",
       "      <th>759848885900763141</th>\n",
       "      <td>2.9</td>\n",
       "      <td>2016-07-31 20:31:06</td>\n",
       "      <td>Twitter for Android</td>\n",
       "      <td>\"@realjameswoods:  without absolutely owning t...</td>\n",
       "      <td>13611</td>\n",
       "      <td>2016-07-31 16:31:06-04:00</td>\n",
       "      <td>@realjameswoods   without absolutely owning t...</td>\n",
       "    </tr>\n",
       "    <tr>\n",
       "      <th>759915863600304128</th>\n",
       "      <td>-0.1</td>\n",
       "      <td>2016-08-01 00:57:15</td>\n",
       "      <td>Twitter for Android</td>\n",
       "      <td>wow, it is unbelievable how distorted, one-sid...</td>\n",
       "      <td>14122</td>\n",
       "      <td>2016-07-31 20:57:15-04:00</td>\n",
       "      <td>wow  it is unbelievable how distorted  one-sid...</td>\n",
       "    </tr>\n",
       "    <tr>\n",
       "      <th>760070280932982784</th>\n",
       "      <td>-1.5</td>\n",
       "      <td>2016-08-01 11:10:51</td>\n",
       "      <td>Twitter for Android</td>\n",
       "      <td>mr. khan, who does not know me, viciously atta...</td>\n",
       "      <td>8598</td>\n",
       "      <td>2016-08-01 07:10:51-04:00</td>\n",
       "      <td>mr  khan  who does not know me  viciously atta...</td>\n",
       "    </tr>\n",
       "    <tr>\n",
       "      <th>760074526059270144</th>\n",
       "      <td>-1.9</td>\n",
       "      <td>2016-08-01 11:27:43</td>\n",
       "      <td>Twitter for Android</td>\n",
       "      <td>this story is not about mr. khan, who is all o...</td>\n",
       "      <td>12013</td>\n",
       "      <td>2016-08-01 07:27:43-04:00</td>\n",
       "      <td>this story is not about mr  khan  who is all o...</td>\n",
       "    </tr>\n",
       "    <tr>\n",
       "      <th>760095370185674752</th>\n",
       "      <td>0.0</td>\n",
       "      <td>2016-08-01 12:50:32</td>\n",
       "      <td>Twitter for Android</td>\n",
       "      <td>when i said in an interview that putin is \"not...</td>\n",
       "      <td>5762</td>\n",
       "      <td>2016-08-01 08:50:32-04:00</td>\n",
       "      <td>when i said in an interview that putin is  not...</td>\n",
       "    </tr>\n",
       "    <tr>\n",
       "      <th>760098514319835136</th>\n",
       "      <td>-0.5</td>\n",
       "      <td>2016-08-01 13:03:02</td>\n",
       "      <td>Twitter for Android</td>\n",
       "      <td>so with all of the obama tough talk on russia ...</td>\n",
       "      <td>6499</td>\n",
       "      <td>2016-08-01 09:03:02-04:00</td>\n",
       "      <td>so with all of the obama tough talk on russia ...</td>\n",
       "    </tr>\n",
       "    <tr>\n",
       "      <th>760125021280960512</th>\n",
       "      <td>0.0</td>\n",
       "      <td>2016-08-01 14:48:22</td>\n",
       "      <td>Twitter for iPhone</td>\n",
       "      <td>#crookedhillary \\nhttps://t.co/ohi6xrdju0</td>\n",
       "      <td>8491</td>\n",
       "      <td>2016-08-01 10:48:22-04:00</td>\n",
       "      <td>crookedhillary \\nhttps   t co ohi6xrdju0</td>\n",
       "    </tr>\n",
       "    <tr>\n",
       "      <th>760126146830794753</th>\n",
       "      <td>1.2</td>\n",
       "      <td>2016-08-01 14:52:50</td>\n",
       "      <td>Twitter for iPhone</td>\n",
       "      <td>join governor mike pence in reno, nevada- toni...</td>\n",
       "      <td>3659</td>\n",
       "      <td>2016-08-01 10:52:50-04:00</td>\n",
       "      <td>join governor mike pence in reno  nevada- toni...</td>\n",
       "    </tr>\n",
       "    <tr>\n",
       "      <th>760184028293173248</th>\n",
       "      <td>2.1</td>\n",
       "      <td>2016-08-01 18:42:50</td>\n",
       "      <td>Twitter for iPhone</td>\n",
       "      <td>cnn will soon be the least trusted name in new...</td>\n",
       "      <td>9437</td>\n",
       "      <td>2016-08-01 14:42:50-04:00</td>\n",
       "      <td>cnn will soon be the least trusted name in new...</td>\n",
       "    </tr>\n",
       "    <tr>\n",
       "      <th>760184176591208448</th>\n",
       "      <td>-6.0</td>\n",
       "      <td>2016-08-01 18:43:25</td>\n",
       "      <td>Twitter for iPhone</td>\n",
       "      <td>cnn anchors are completely out of touch with e...</td>\n",
       "      <td>7798</td>\n",
       "      <td>2016-08-01 14:43:25-04:00</td>\n",
       "      <td>cnn anchors are completely out of touch with e...</td>\n",
       "    </tr>\n",
       "    <tr>\n",
       "      <th>760184336603811842</th>\n",
       "      <td>0.0</td>\n",
       "      <td>2016-08-01 18:44:04</td>\n",
       "      <td>Twitter for iPhone</td>\n",
       "      <td>when will we see stories from cnn on clinton f...</td>\n",
       "      <td>12178</td>\n",
       "      <td>2016-08-01 14:44:04-04:00</td>\n",
       "      <td>when will we see stories from cnn on clinton f...</td>\n",
       "    </tr>\n",
       "    <tr>\n",
       "      <th>760184664468418560</th>\n",
       "      <td>-6.7</td>\n",
       "      <td>2016-08-01 18:45:22</td>\n",
       "      <td>Twitter for iPhone</td>\n",
       "      <td>will cnn send its cameras to the border to sho...</td>\n",
       "      <td>11086</td>\n",
       "      <td>2016-08-01 14:45:22-04:00</td>\n",
       "      <td>will cnn send its cameras to the border to sho...</td>\n",
       "    </tr>\n",
       "    <tr>\n",
       "      <th>760185067054465024</th>\n",
       "      <td>1.7</td>\n",
       "      <td>2016-08-01 18:46:58</td>\n",
       "      <td>Twitter for iPhone</td>\n",
       "      <td>the people who support hillary sit behind cnn ...</td>\n",
       "      <td>7653</td>\n",
       "      <td>2016-08-01 14:46:58-04:00</td>\n",
       "      <td>the people who support hillary sit behind cnn ...</td>\n",
       "    </tr>\n",
       "    <tr>\n",
       "      <th>760185303483187201</th>\n",
       "      <td>0.0</td>\n",
       "      <td>2016-08-01 18:47:54</td>\n",
       "      <td>Twitter for iPhone</td>\n",
       "      <td>people believe cnn these days almost as little...</td>\n",
       "      <td>9057</td>\n",
       "      <td>2016-08-01 14:47:54-04:00</td>\n",
       "      <td>people believe cnn these days almost as little...</td>\n",
       "    </tr>\n",
       "    <tr>\n",
       "      <th>760213628926779392</th>\n",
       "      <td>1.5</td>\n",
       "      <td>2016-08-01 20:40:27</td>\n",
       "      <td>Twitter for iPhone</td>\n",
       "      <td>thank you oklahoma &amp;amp; virginia! \\n#makeamer...</td>\n",
       "      <td>8884</td>\n",
       "      <td>2016-08-01 16:40:27-04:00</td>\n",
       "      <td>thank you oklahoma  amp  virginia  \\n makeamer...</td>\n",
       "    </tr>\n",
       "    <tr>\n",
       "      <th>...</th>\n",
       "      <td>...</td>\n",
       "      <td>...</td>\n",
       "      <td>...</td>\n",
       "      <td>...</td>\n",
       "      <td>...</td>\n",
       "      <td>...</td>\n",
       "      <td>...</td>\n",
       "    </tr>\n",
       "    <tr>\n",
       "      <th>912809860965613568</th>\n",
       "      <td>5.7</td>\n",
       "      <td>2017-09-26 22:43:24</td>\n",
       "      <td>Media Studio</td>\n",
       "      <td>it was an honor to welcome president @marianor...</td>\n",
       "      <td>8403</td>\n",
       "      <td>2017-09-26 18:43:24-04:00</td>\n",
       "      <td>it was an honor to welcome president @marianor...</td>\n",
       "    </tr>\n",
       "    <tr>\n",
       "      <th>912825663694016522</th>\n",
       "      <td>7.3</td>\n",
       "      <td>2017-09-26 23:46:12</td>\n",
       "      <td>Twitter for iPhone</td>\n",
       "      <td>thank you to our wonderful team @usun and thei...</td>\n",
       "      <td>6230</td>\n",
       "      <td>2017-09-26 19:46:12-04:00</td>\n",
       "      <td>thank you to our wonderful team @usun and thei...</td>\n",
       "    </tr>\n",
       "    <tr>\n",
       "      <th>912836917296877569</th>\n",
       "      <td>6.4</td>\n",
       "      <td>2017-09-27 00:30:55</td>\n",
       "      <td>Twitter for iPhone</td>\n",
       "      <td>70 years ago today, the national security coun...</td>\n",
       "      <td>8596</td>\n",
       "      <td>2017-09-26 20:30:55-04:00</td>\n",
       "      <td>70 years ago today  the national security coun...</td>\n",
       "    </tr>\n",
       "    <tr>\n",
       "      <th>912848241535971331</th>\n",
       "      <td>5.3</td>\n",
       "      <td>2017-09-27 01:15:55</td>\n",
       "      <td>Twitter for iPhone</td>\n",
       "      <td>even usain bolt from jamaica, one of the great...</td>\n",
       "      <td>43000</td>\n",
       "      <td>2017-09-26 21:15:55-04:00</td>\n",
       "      <td>even usain bolt from jamaica  one of the great...</td>\n",
       "    </tr>\n",
       "    <tr>\n",
       "      <th>912863676792786946</th>\n",
       "      <td>9.6</td>\n",
       "      <td>2017-09-27 02:17:15</td>\n",
       "      <td>Twitter for iPhone</td>\n",
       "      <td>congratulations to roy moore on his republican...</td>\n",
       "      <td>17458</td>\n",
       "      <td>2017-09-26 22:17:15-04:00</td>\n",
       "      <td>congratulations to roy moore on his republican...</td>\n",
       "    </tr>\n",
       "    <tr>\n",
       "      <th>912994446219898880</th>\n",
       "      <td>8.9</td>\n",
       "      <td>2017-09-27 10:56:53</td>\n",
       "      <td>Twitter for iPhone</td>\n",
       "      <td>spoke to roy moore of alabama last night for t...</td>\n",
       "      <td>12928</td>\n",
       "      <td>2017-09-27 06:56:53-04:00</td>\n",
       "      <td>spoke to roy moore of alabama last night for t...</td>\n",
       "    </tr>\n",
       "    <tr>\n",
       "      <th>912997506900021248</th>\n",
       "      <td>2.8</td>\n",
       "      <td>2017-09-27 11:09:02</td>\n",
       "      <td>Twitter for iPhone</td>\n",
       "      <td>spoke to jerry jones of the dallas cowboys yes...</td>\n",
       "      <td>16999</td>\n",
       "      <td>2017-09-27 07:09:02-04:00</td>\n",
       "      <td>spoke to jerry jones of the dallas cowboys yes...</td>\n",
       "    </tr>\n",
       "    <tr>\n",
       "      <th>913003340451188737</th>\n",
       "      <td>4.3</td>\n",
       "      <td>2017-09-27 11:32:13</td>\n",
       "      <td>Twitter for iPhone</td>\n",
       "      <td>with one yes vote in hospital &amp;amp; very posit...</td>\n",
       "      <td>9915</td>\n",
       "      <td>2017-09-27 07:32:13-04:00</td>\n",
       "      <td>with one yes vote in hospital  amp  very posit...</td>\n",
       "    </tr>\n",
       "    <tr>\n",
       "      <th>913004378486984704</th>\n",
       "      <td>0.0</td>\n",
       "      <td>2017-09-27 11:36:21</td>\n",
       "      <td>Twitter for iPhone</td>\n",
       "      <td>we will have the votes for healthcare but not ...</td>\n",
       "      <td>13078</td>\n",
       "      <td>2017-09-27 07:36:21-04:00</td>\n",
       "      <td>we will have the votes for healthcare but not ...</td>\n",
       "    </tr>\n",
       "    <tr>\n",
       "      <th>913034591879024640</th>\n",
       "      <td>-2.1</td>\n",
       "      <td>2017-09-27 13:36:24</td>\n",
       "      <td>Twitter for iPhone</td>\n",
       "      <td>facebook was always anti-trump.the networks we...</td>\n",
       "      <td>16204</td>\n",
       "      <td>2017-09-27 09:36:24-04:00</td>\n",
       "      <td>facebook was always anti-trump the networks we...</td>\n",
       "    </tr>\n",
       "    <tr>\n",
       "      <th>913035855509491712</th>\n",
       "      <td>2.6</td>\n",
       "      <td>2017-09-27 13:41:25</td>\n",
       "      <td>Twitter for iPhone</td>\n",
       "      <td>..but the people were pro-trump! virtually no ...</td>\n",
       "      <td>18522</td>\n",
       "      <td>2017-09-27 09:41:25-04:00</td>\n",
       "      <td>but the people were pro-trump  virtually no ...</td>\n",
       "    </tr>\n",
       "    <tr>\n",
       "      <th>913117797231857664</th>\n",
       "      <td>0.0</td>\n",
       "      <td>2017-09-27 19:07:02</td>\n",
       "      <td>Twitter for iPhone</td>\n",
       "      <td>just arrived in indianapolis, indiana to make ...</td>\n",
       "      <td>10576</td>\n",
       "      <td>2017-09-27 15:07:02-04:00</td>\n",
       "      <td>just arrived in indianapolis  indiana to make ...</td>\n",
       "    </tr>\n",
       "    <tr>\n",
       "      <th>913187235452690432</th>\n",
       "      <td>1.1</td>\n",
       "      <td>2017-09-27 23:42:57</td>\n",
       "      <td>Media Studio</td>\n",
       "      <td>this is the right tax cut @ the right time. we...</td>\n",
       "      <td>14420</td>\n",
       "      <td>2017-09-27 19:42:57-04:00</td>\n",
       "      <td>this is the right tax cut @ the right time  we...</td>\n",
       "    </tr>\n",
       "    <tr>\n",
       "      <th>913220484640182272</th>\n",
       "      <td>3.7</td>\n",
       "      <td>2017-09-28 01:55:05</td>\n",
       "      <td>Twitter for iPhone</td>\n",
       "      <td>it is time to take care of our people, to rebu...</td>\n",
       "      <td>16971</td>\n",
       "      <td>2017-09-27 21:55:05-04:00</td>\n",
       "      <td>it is time to take care of our people  to rebu...</td>\n",
       "    </tr>\n",
       "    <tr>\n",
       "      <th>913371663789625344</th>\n",
       "      <td>3.9</td>\n",
       "      <td>2017-09-28 11:55:48</td>\n",
       "      <td>Twitter for iPhone</td>\n",
       "      <td>democrats don't want massive tax cuts - how do...</td>\n",
       "      <td>16979</td>\n",
       "      <td>2017-09-28 07:55:48-04:00</td>\n",
       "      <td>democrats don't want massive tax cuts - how do...</td>\n",
       "    </tr>\n",
       "    <tr>\n",
       "      <th>913403237033742336</th>\n",
       "      <td>0.0</td>\n",
       "      <td>2017-09-28 14:01:16</td>\n",
       "      <td>Twitter for iPhone</td>\n",
       "      <td>the electric power grid in puerto rico is tota...</td>\n",
       "      <td>17316</td>\n",
       "      <td>2017-09-28 10:01:16-04:00</td>\n",
       "      <td>the electric power grid in puerto rico is tota...</td>\n",
       "    </tr>\n",
       "    <tr>\n",
       "      <th>913488283321159680</th>\n",
       "      <td>2.0</td>\n",
       "      <td>2017-09-28 19:39:13</td>\n",
       "      <td>Media Studio</td>\n",
       "      <td>welcome back @stevescalise!\\n#teamscalise http...</td>\n",
       "      <td>13490</td>\n",
       "      <td>2017-09-28 15:39:13-04:00</td>\n",
       "      <td>welcome back @stevescalise \\n teamscalise http...</td>\n",
       "    </tr>\n",
       "    <tr>\n",
       "      <th>913549374227181568</th>\n",
       "      <td>-0.2</td>\n",
       "      <td>2017-09-28 23:41:58</td>\n",
       "      <td>Twitter for iPhone</td>\n",
       "      <td>fema &amp;amp; first responders are doing a great ...</td>\n",
       "      <td>9890</td>\n",
       "      <td>2017-09-28 19:41:58-04:00</td>\n",
       "      <td>fema  amp  first responders are doing a great ...</td>\n",
       "    </tr>\n",
       "    <tr>\n",
       "      <th>913550237377138688</th>\n",
       "      <td>3.4</td>\n",
       "      <td>2017-09-28 23:45:24</td>\n",
       "      <td>Twitter for iPhone</td>\n",
       "      <td>...really hard to help but many have lost thei...</td>\n",
       "      <td>12866</td>\n",
       "      <td>2017-09-28 19:45:24-04:00</td>\n",
       "      <td>really hard to help but many have lost thei...</td>\n",
       "    </tr>\n",
       "    <tr>\n",
       "      <th>913550853239443457</th>\n",
       "      <td>6.4</td>\n",
       "      <td>2017-09-28 23:47:51</td>\n",
       "      <td>Twitter for iPhone</td>\n",
       "      <td>rt @ivankatrump: thank you to the amazing men ...</td>\n",
       "      <td>8343</td>\n",
       "      <td>2017-09-28 19:47:51-04:00</td>\n",
       "      <td>rt @ivankatrump  thank you to the amazing men ...</td>\n",
       "    </tr>\n",
       "    <tr>\n",
       "      <th>913551290717831170</th>\n",
       "      <td>-2.9</td>\n",
       "      <td>2017-09-28 23:49:35</td>\n",
       "      <td>Twitter for iPhone</td>\n",
       "      <td>rt @billoreilly: hannity crushing msnbc at 9. ...</td>\n",
       "      <td>8422</td>\n",
       "      <td>2017-09-28 19:49:35-04:00</td>\n",
       "      <td>rt @billoreilly  hannity crushing msnbc at 9  ...</td>\n",
       "    </tr>\n",
       "    <tr>\n",
       "      <th>913554705816711168</th>\n",
       "      <td>2.9</td>\n",
       "      <td>2017-09-29 00:03:09</td>\n",
       "      <td>Twitter for iPhone</td>\n",
       "      <td>puerto rico is devastated. phone system, elect...</td>\n",
       "      <td>12265</td>\n",
       "      <td>2017-09-28 20:03:09-04:00</td>\n",
       "      <td>puerto rico is devastated  phone system  elect...</td>\n",
       "    </tr>\n",
       "    <tr>\n",
       "      <th>913570791698173952</th>\n",
       "      <td>-1.3</td>\n",
       "      <td>2017-09-29 01:07:04</td>\n",
       "      <td>Twitter for iPhone</td>\n",
       "      <td>rt @gopchairwoman: the trump inaugural committ...</td>\n",
       "      <td>12630</td>\n",
       "      <td>2017-09-28 21:07:04-04:00</td>\n",
       "      <td>rt @gopchairwoman  the trump inaugural committ...</td>\n",
       "    </tr>\n",
       "    <tr>\n",
       "      <th>913589799411490817</th>\n",
       "      <td>0.0</td>\n",
       "      <td>2017-09-29 02:22:36</td>\n",
       "      <td>Twitter for iPhone</td>\n",
       "      <td>gdp was revised upward to 3.1 for last quarter...</td>\n",
       "      <td>19239</td>\n",
       "      <td>2017-09-28 22:22:36-04:00</td>\n",
       "      <td>gdp was revised upward to 3 1 for last quarter...</td>\n",
       "    </tr>\n",
       "    <tr>\n",
       "      <th>913723771336392704</th>\n",
       "      <td>0.0</td>\n",
       "      <td>2017-09-29 11:14:57</td>\n",
       "      <td>Twitter for iPhone</td>\n",
       "      <td>puerto rico governor ricardo rossello just sta...</td>\n",
       "      <td>11614</td>\n",
       "      <td>2017-09-29 07:14:57-04:00</td>\n",
       "      <td>puerto rico governor ricardo rossello just sta...</td>\n",
       "    </tr>\n",
       "    <tr>\n",
       "      <th>913724766208610304</th>\n",
       "      <td>-2.2</td>\n",
       "      <td>2017-09-29 11:18:55</td>\n",
       "      <td>Twitter for iPhone</td>\n",
       "      <td>...the fact is that puerto rico has been destr...</td>\n",
       "      <td>8582</td>\n",
       "      <td>2017-09-29 07:18:55-04:00</td>\n",
       "      <td>the fact is that puerto rico has been destr...</td>\n",
       "    </tr>\n",
       "    <tr>\n",
       "      <th>913757869627133953</th>\n",
       "      <td>2.1</td>\n",
       "      <td>2017-09-29 13:30:27</td>\n",
       "      <td>Twitter for iPhone</td>\n",
       "      <td>thank you to fema, our great military &amp;amp; al...</td>\n",
       "      <td>9192</td>\n",
       "      <td>2017-09-29 09:30:27-04:00</td>\n",
       "      <td>thank you to fema  our great military  amp  al...</td>\n",
       "    </tr>\n",
       "    <tr>\n",
       "      <th>913760243770896389</th>\n",
       "      <td>0.0</td>\n",
       "      <td>2017-09-29 13:39:53</td>\n",
       "      <td>Twitter for iPhone</td>\n",
       "      <td>record high for s &amp;amp; p 500!</td>\n",
       "      <td>8025</td>\n",
       "      <td>2017-09-29 09:39:53-04:00</td>\n",
       "      <td>record high for s  amp  p 500</td>\n",
       "    </tr>\n",
       "    <tr>\n",
       "      <th>913821956625059840</th>\n",
       "      <td>0.8</td>\n",
       "      <td>2017-09-29 17:45:07</td>\n",
       "      <td>Media Studio</td>\n",
       "      <td>this week we came one step closer to reaching ...</td>\n",
       "      <td>5042</td>\n",
       "      <td>2017-09-29 13:45:07-04:00</td>\n",
       "      <td>this week we came one step closer to reaching ...</td>\n",
       "    </tr>\n",
       "    <tr>\n",
       "      <th>913856413541138432</th>\n",
       "      <td>6.8</td>\n",
       "      <td>2017-09-29 20:02:02</td>\n",
       "      <td>Twitter for iPhone</td>\n",
       "      <td>thank you @shopfloornam. an honor to be with y...</td>\n",
       "      <td>2210</td>\n",
       "      <td>2017-09-29 16:02:02-04:00</td>\n",
       "      <td>thank you @shopfloornam  an honor to be with y...</td>\n",
       "    </tr>\n",
       "  </tbody>\n",
       "</table>\n",
       "<p>3221 rows × 7 columns</p>\n",
       "</div>"
      ],
      "text/plain": [
       "                    polarity                time               source  \\\n",
       "id                                                                      \n",
       "759457253925785604       0.0 2016-07-30 18:34:54   Twitter for iPhone   \n",
       "759477522232901632       3.0 2016-07-30 19:55:26  Twitter for Android   \n",
       "759479059046883328       3.8 2016-07-30 20:01:32  Twitter for Android   \n",
       "759506712516784128       0.0 2016-07-30 21:51:25  Twitter for Android   \n",
       "759507812963737600      -0.5 2016-07-30 21:55:48   Twitter for iPhone   \n",
       "759509936002957314      -3.5 2016-07-30 22:04:14  Twitter for Android   \n",
       "759512042906587137       1.8 2016-07-30 22:12:36  Twitter for Android   \n",
       "759513644258525184       5.5 2016-07-30 22:18:58  Twitter for Android   \n",
       "759515080010719232       0.4 2016-07-30 22:24:40   Twitter for iPhone   \n",
       "759516008272932864       0.0 2016-07-30 22:28:22  Twitter for Android   \n",
       "759524001613918208       1.5 2016-07-30 23:00:07  Twitter for Android   \n",
       "759592590106849280       3.5 2016-07-31 03:32:40  Twitter for Android   \n",
       "759734698415312897      -5.1 2016-07-31 12:57:21  Twitter for Android   \n",
       "759743648573435905      -6.2 2016-07-31 13:32:55  Twitter for Android   \n",
       "759843323909668865      -2.7 2016-07-31 20:09:00  Twitter for Android   \n",
       "759848885900763141       2.9 2016-07-31 20:31:06  Twitter for Android   \n",
       "759915863600304128      -0.1 2016-08-01 00:57:15  Twitter for Android   \n",
       "760070280932982784      -1.5 2016-08-01 11:10:51  Twitter for Android   \n",
       "760074526059270144      -1.9 2016-08-01 11:27:43  Twitter for Android   \n",
       "760095370185674752       0.0 2016-08-01 12:50:32  Twitter for Android   \n",
       "760098514319835136      -0.5 2016-08-01 13:03:02  Twitter for Android   \n",
       "760125021280960512       0.0 2016-08-01 14:48:22   Twitter for iPhone   \n",
       "760126146830794753       1.2 2016-08-01 14:52:50   Twitter for iPhone   \n",
       "760184028293173248       2.1 2016-08-01 18:42:50   Twitter for iPhone   \n",
       "760184176591208448      -6.0 2016-08-01 18:43:25   Twitter for iPhone   \n",
       "760184336603811842       0.0 2016-08-01 18:44:04   Twitter for iPhone   \n",
       "760184664468418560      -6.7 2016-08-01 18:45:22   Twitter for iPhone   \n",
       "760185067054465024       1.7 2016-08-01 18:46:58   Twitter for iPhone   \n",
       "760185303483187201       0.0 2016-08-01 18:47:54   Twitter for iPhone   \n",
       "760213628926779392       1.5 2016-08-01 20:40:27   Twitter for iPhone   \n",
       "...                      ...                 ...                  ...   \n",
       "912809860965613568       5.7 2017-09-26 22:43:24         Media Studio   \n",
       "912825663694016522       7.3 2017-09-26 23:46:12   Twitter for iPhone   \n",
       "912836917296877569       6.4 2017-09-27 00:30:55   Twitter for iPhone   \n",
       "912848241535971331       5.3 2017-09-27 01:15:55   Twitter for iPhone   \n",
       "912863676792786946       9.6 2017-09-27 02:17:15   Twitter for iPhone   \n",
       "912994446219898880       8.9 2017-09-27 10:56:53   Twitter for iPhone   \n",
       "912997506900021248       2.8 2017-09-27 11:09:02   Twitter for iPhone   \n",
       "913003340451188737       4.3 2017-09-27 11:32:13   Twitter for iPhone   \n",
       "913004378486984704       0.0 2017-09-27 11:36:21   Twitter for iPhone   \n",
       "913034591879024640      -2.1 2017-09-27 13:36:24   Twitter for iPhone   \n",
       "913035855509491712       2.6 2017-09-27 13:41:25   Twitter for iPhone   \n",
       "913117797231857664       0.0 2017-09-27 19:07:02   Twitter for iPhone   \n",
       "913187235452690432       1.1 2017-09-27 23:42:57         Media Studio   \n",
       "913220484640182272       3.7 2017-09-28 01:55:05   Twitter for iPhone   \n",
       "913371663789625344       3.9 2017-09-28 11:55:48   Twitter for iPhone   \n",
       "913403237033742336       0.0 2017-09-28 14:01:16   Twitter for iPhone   \n",
       "913488283321159680       2.0 2017-09-28 19:39:13         Media Studio   \n",
       "913549374227181568      -0.2 2017-09-28 23:41:58   Twitter for iPhone   \n",
       "913550237377138688       3.4 2017-09-28 23:45:24   Twitter for iPhone   \n",
       "913550853239443457       6.4 2017-09-28 23:47:51   Twitter for iPhone   \n",
       "913551290717831170      -2.9 2017-09-28 23:49:35   Twitter for iPhone   \n",
       "913554705816711168       2.9 2017-09-29 00:03:09   Twitter for iPhone   \n",
       "913570791698173952      -1.3 2017-09-29 01:07:04   Twitter for iPhone   \n",
       "913589799411490817       0.0 2017-09-29 02:22:36   Twitter for iPhone   \n",
       "913723771336392704       0.0 2017-09-29 11:14:57   Twitter for iPhone   \n",
       "913724766208610304      -2.2 2017-09-29 11:18:55   Twitter for iPhone   \n",
       "913757869627133953       2.1 2017-09-29 13:30:27   Twitter for iPhone   \n",
       "913760243770896389       0.0 2017-09-29 13:39:53   Twitter for iPhone   \n",
       "913821956625059840       0.8 2017-09-29 17:45:07         Media Studio   \n",
       "913856413541138432       6.8 2017-09-29 20:02:02   Twitter for iPhone   \n",
       "\n",
       "                                                                 text  \\\n",
       "id                                                                      \n",
       "759457253925785604            #crookedhillary https://t.co/xyopfjmbyp   \n",
       "759477522232901632  why doesn't the media want to report that on t...   \n",
       "759479059046883328  i turned down a meeting with charles and david...   \n",
       "759506712516784128  word is that crooked hillary has very small an...   \n",
       "759507812963737600  #crookedhillary = obama's third term, which wo...   \n",
       "759509936002957314  crooked's stop in johnstown, pennsylvania, whe...   \n",
       "759512042906587137  the \"rust belt\" was created by politicians lik...   \n",
       "759513644258525184  wow, nato's top commander just announced that ...   \n",
       "759515080010719232  nato commander agrees members should pay up vi...   \n",
       "759516008272932864  can you imagine if i had the small crowds that...   \n",
       "759524001613918208  thank you to all of the television viewers tha...   \n",
       "759592590106849280  nielson media research final numbers on accept...   \n",
       "759734698415312897  captain khan, killed 12 years ago, was a hero,...   \n",
       "759743648573435905  i was viciously attacked by mr. khan at the de...   \n",
       "759843323909668865  the dishonest media is fawning over the democr...   \n",
       "759848885900763141  \"@realjameswoods:  without absolutely owning t...   \n",
       "759915863600304128  wow, it is unbelievable how distorted, one-sid...   \n",
       "760070280932982784  mr. khan, who does not know me, viciously atta...   \n",
       "760074526059270144  this story is not about mr. khan, who is all o...   \n",
       "760095370185674752  when i said in an interview that putin is \"not...   \n",
       "760098514319835136  so with all of the obama tough talk on russia ...   \n",
       "760125021280960512          #crookedhillary \\nhttps://t.co/ohi6xrdju0   \n",
       "760126146830794753  join governor mike pence in reno, nevada- toni...   \n",
       "760184028293173248  cnn will soon be the least trusted name in new...   \n",
       "760184176591208448  cnn anchors are completely out of touch with e...   \n",
       "760184336603811842  when will we see stories from cnn on clinton f...   \n",
       "760184664468418560  will cnn send its cameras to the border to sho...   \n",
       "760185067054465024  the people who support hillary sit behind cnn ...   \n",
       "760185303483187201  people believe cnn these days almost as little...   \n",
       "760213628926779392  thank you oklahoma &amp; virginia! \\n#makeamer...   \n",
       "...                                                               ...   \n",
       "912809860965613568  it was an honor to welcome president @marianor...   \n",
       "912825663694016522  thank you to our wonderful team @usun and thei...   \n",
       "912836917296877569  70 years ago today, the national security coun...   \n",
       "912848241535971331  even usain bolt from jamaica, one of the great...   \n",
       "912863676792786946  congratulations to roy moore on his republican...   \n",
       "912994446219898880  spoke to roy moore of alabama last night for t...   \n",
       "912997506900021248  spoke to jerry jones of the dallas cowboys yes...   \n",
       "913003340451188737  with one yes vote in hospital &amp; very posit...   \n",
       "913004378486984704  we will have the votes for healthcare but not ...   \n",
       "913034591879024640  facebook was always anti-trump.the networks we...   \n",
       "913035855509491712  ..but the people were pro-trump! virtually no ...   \n",
       "913117797231857664  just arrived in indianapolis, indiana to make ...   \n",
       "913187235452690432  this is the right tax cut @ the right time. we...   \n",
       "913220484640182272  it is time to take care of our people, to rebu...   \n",
       "913371663789625344  democrats don't want massive tax cuts - how do...   \n",
       "913403237033742336  the electric power grid in puerto rico is tota...   \n",
       "913488283321159680  welcome back @stevescalise!\\n#teamscalise http...   \n",
       "913549374227181568  fema &amp; first responders are doing a great ...   \n",
       "913550237377138688  ...really hard to help but many have lost thei...   \n",
       "913550853239443457  rt @ivankatrump: thank you to the amazing men ...   \n",
       "913551290717831170  rt @billoreilly: hannity crushing msnbc at 9. ...   \n",
       "913554705816711168  puerto rico is devastated. phone system, elect...   \n",
       "913570791698173952  rt @gopchairwoman: the trump inaugural committ...   \n",
       "913589799411490817  gdp was revised upward to 3.1 for last quarter...   \n",
       "913723771336392704  puerto rico governor ricardo rossello just sta...   \n",
       "913724766208610304  ...the fact is that puerto rico has been destr...   \n",
       "913757869627133953  thank you to fema, our great military &amp; al...   \n",
       "913760243770896389                     record high for s &amp; p 500!   \n",
       "913821956625059840  this week we came one step closer to reaching ...   \n",
       "913856413541138432  thank you @shopfloornam. an honor to be with y...   \n",
       "\n",
       "                    retweet_count                  est_time  \\\n",
       "id                                                            \n",
       "759457253925785604          10379 2016-07-30 14:34:54-04:00   \n",
       "759477522232901632           7998 2016-07-30 15:55:26-04:00   \n",
       "759479059046883328          11806 2016-07-30 16:01:32-04:00   \n",
       "759506712516784128           8253 2016-07-30 17:51:25-04:00   \n",
       "759507812963737600          10089 2016-07-30 17:55:48-04:00   \n",
       "759509936002957314           9995 2016-07-30 18:04:14-04:00   \n",
       "759512042906587137           8709 2016-07-30 18:12:36-04:00   \n",
       "759513644258525184          11437 2016-07-30 18:18:58-04:00   \n",
       "759515080010719232           7431 2016-07-30 18:24:40-04:00   \n",
       "759516008272932864           9975 2016-07-30 18:28:22-04:00   \n",
       "759524001613918208          10719 2016-07-30 19:00:07-04:00   \n",
       "759592590106849280          11966 2016-07-30 23:32:40-04:00   \n",
       "759734698415312897          15063 2016-07-31 08:57:21-04:00   \n",
       "759743648573435905          18442 2016-07-31 09:32:55-04:00   \n",
       "759843323909668865           9829 2016-07-31 16:09:00-04:00   \n",
       "759848885900763141          13611 2016-07-31 16:31:06-04:00   \n",
       "759915863600304128          14122 2016-07-31 20:57:15-04:00   \n",
       "760070280932982784           8598 2016-08-01 07:10:51-04:00   \n",
       "760074526059270144          12013 2016-08-01 07:27:43-04:00   \n",
       "760095370185674752           5762 2016-08-01 08:50:32-04:00   \n",
       "760098514319835136           6499 2016-08-01 09:03:02-04:00   \n",
       "760125021280960512           8491 2016-08-01 10:48:22-04:00   \n",
       "760126146830794753           3659 2016-08-01 10:52:50-04:00   \n",
       "760184028293173248           9437 2016-08-01 14:42:50-04:00   \n",
       "760184176591208448           7798 2016-08-01 14:43:25-04:00   \n",
       "760184336603811842          12178 2016-08-01 14:44:04-04:00   \n",
       "760184664468418560          11086 2016-08-01 14:45:22-04:00   \n",
       "760185067054465024           7653 2016-08-01 14:46:58-04:00   \n",
       "760185303483187201           9057 2016-08-01 14:47:54-04:00   \n",
       "760213628926779392           8884 2016-08-01 16:40:27-04:00   \n",
       "...                           ...                       ...   \n",
       "912809860965613568           8403 2017-09-26 18:43:24-04:00   \n",
       "912825663694016522           6230 2017-09-26 19:46:12-04:00   \n",
       "912836917296877569           8596 2017-09-26 20:30:55-04:00   \n",
       "912848241535971331          43000 2017-09-26 21:15:55-04:00   \n",
       "912863676792786946          17458 2017-09-26 22:17:15-04:00   \n",
       "912994446219898880          12928 2017-09-27 06:56:53-04:00   \n",
       "912997506900021248          16999 2017-09-27 07:09:02-04:00   \n",
       "913003340451188737           9915 2017-09-27 07:32:13-04:00   \n",
       "913004378486984704          13078 2017-09-27 07:36:21-04:00   \n",
       "913034591879024640          16204 2017-09-27 09:36:24-04:00   \n",
       "913035855509491712          18522 2017-09-27 09:41:25-04:00   \n",
       "913117797231857664          10576 2017-09-27 15:07:02-04:00   \n",
       "913187235452690432          14420 2017-09-27 19:42:57-04:00   \n",
       "913220484640182272          16971 2017-09-27 21:55:05-04:00   \n",
       "913371663789625344          16979 2017-09-28 07:55:48-04:00   \n",
       "913403237033742336          17316 2017-09-28 10:01:16-04:00   \n",
       "913488283321159680          13490 2017-09-28 15:39:13-04:00   \n",
       "913549374227181568           9890 2017-09-28 19:41:58-04:00   \n",
       "913550237377138688          12866 2017-09-28 19:45:24-04:00   \n",
       "913550853239443457           8343 2017-09-28 19:47:51-04:00   \n",
       "913551290717831170           8422 2017-09-28 19:49:35-04:00   \n",
       "913554705816711168          12265 2017-09-28 20:03:09-04:00   \n",
       "913570791698173952          12630 2017-09-28 21:07:04-04:00   \n",
       "913589799411490817          19239 2017-09-28 22:22:36-04:00   \n",
       "913723771336392704          11614 2017-09-29 07:14:57-04:00   \n",
       "913724766208610304           8582 2017-09-29 07:18:55-04:00   \n",
       "913757869627133953           9192 2017-09-29 09:30:27-04:00   \n",
       "913760243770896389           8025 2017-09-29 09:39:53-04:00   \n",
       "913821956625059840           5042 2017-09-29 13:45:07-04:00   \n",
       "913856413541138432           2210 2017-09-29 16:02:02-04:00   \n",
       "\n",
       "                                                              no_punc  \n",
       "id                                                                     \n",
       "759457253925785604             crookedhillary https   t co xyopfjmbyp  \n",
       "759477522232901632  why doesn't the media want to report that on t...  \n",
       "759479059046883328  i turned down a meeting with charles and david...  \n",
       "759506712516784128  word is that crooked hillary has very small an...  \n",
       "759507812963737600   crookedhillary = obama's third term  which wo...  \n",
       "759509936002957314  crooked's stop in johnstown  pennsylvania  whe...  \n",
       "759512042906587137  the  rust belt  was created by politicians lik...  \n",
       "759513644258525184  wow  nato's top commander just announced that ...  \n",
       "759515080010719232  nato commander agrees members should pay up vi...  \n",
       "759516008272932864  can you imagine if i had the small crowds that...  \n",
       "759524001613918208  thank you to all of the television viewers tha...  \n",
       "759592590106849280  nielson media research final numbers on accept...  \n",
       "759734698415312897  captain khan  killed 12 years ago  was a hero ...  \n",
       "759743648573435905  i was viciously attacked by mr  khan at the de...  \n",
       "759843323909668865  the dishonest media is fawning over the democr...  \n",
       "759848885900763141   @realjameswoods   without absolutely owning t...  \n",
       "759915863600304128  wow  it is unbelievable how distorted  one-sid...  \n",
       "760070280932982784  mr  khan  who does not know me  viciously atta...  \n",
       "760074526059270144  this story is not about mr  khan  who is all o...  \n",
       "760095370185674752  when i said in an interview that putin is  not...  \n",
       "760098514319835136  so with all of the obama tough talk on russia ...  \n",
       "760125021280960512           crookedhillary \\nhttps   t co ohi6xrdju0  \n",
       "760126146830794753  join governor mike pence in reno  nevada- toni...  \n",
       "760184028293173248  cnn will soon be the least trusted name in new...  \n",
       "760184176591208448  cnn anchors are completely out of touch with e...  \n",
       "760184336603811842  when will we see stories from cnn on clinton f...  \n",
       "760184664468418560  will cnn send its cameras to the border to sho...  \n",
       "760185067054465024  the people who support hillary sit behind cnn ...  \n",
       "760185303483187201  people believe cnn these days almost as little...  \n",
       "760213628926779392  thank you oklahoma  amp  virginia  \\n makeamer...  \n",
       "...                                                               ...  \n",
       "912809860965613568  it was an honor to welcome president @marianor...  \n",
       "912825663694016522  thank you to our wonderful team @usun and thei...  \n",
       "912836917296877569  70 years ago today  the national security coun...  \n",
       "912848241535971331  even usain bolt from jamaica  one of the great...  \n",
       "912863676792786946  congratulations to roy moore on his republican...  \n",
       "912994446219898880  spoke to roy moore of alabama last night for t...  \n",
       "912997506900021248  spoke to jerry jones of the dallas cowboys yes...  \n",
       "913003340451188737  with one yes vote in hospital  amp  very posit...  \n",
       "913004378486984704  we will have the votes for healthcare but not ...  \n",
       "913034591879024640  facebook was always anti-trump the networks we...  \n",
       "913035855509491712    but the people were pro-trump  virtually no ...  \n",
       "913117797231857664  just arrived in indianapolis  indiana to make ...  \n",
       "913187235452690432  this is the right tax cut @ the right time  we...  \n",
       "913220484640182272  it is time to take care of our people  to rebu...  \n",
       "913371663789625344  democrats don't want massive tax cuts - how do...  \n",
       "913403237033742336  the electric power grid in puerto rico is tota...  \n",
       "913488283321159680  welcome back @stevescalise \\n teamscalise http...  \n",
       "913549374227181568  fema  amp  first responders are doing a great ...  \n",
       "913550237377138688     really hard to help but many have lost thei...  \n",
       "913550853239443457  rt @ivankatrump  thank you to the amazing men ...  \n",
       "913551290717831170  rt @billoreilly  hannity crushing msnbc at 9  ...  \n",
       "913554705816711168  puerto rico is devastated  phone system  elect...  \n",
       "913570791698173952  rt @gopchairwoman  the trump inaugural committ...  \n",
       "913589799411490817  gdp was revised upward to 3 1 for last quarter...  \n",
       "913723771336392704  puerto rico governor ricardo rossello just sta...  \n",
       "913724766208610304     the fact is that puerto rico has been destr...  \n",
       "913757869627133953  thank you to fema  our great military  amp  al...  \n",
       "913760243770896389                     record high for s  amp  p 500   \n",
       "913821956625059840  this week we came one step closer to reaching ...  \n",
       "913856413541138432  thank you @shopfloornam  an honor to be with y...  \n",
       "\n",
       "[3221 rows x 7 columns]"
      ]
     },
     "execution_count": 822,
     "metadata": {},
     "output_type": "execute_result"
    }
   ],
   "source": [
    "senti = pd.merge(maybpol, maybtrump, how='outer', on='id').set_index('id')\n",
    "senti"
   ]
  },
  {
   "cell_type": "code",
   "execution_count": 823,
   "metadata": {
    "tags": [
     "test",
     "q05f"
    ]
   },
   "outputs": [
    {
     "name": "stdout",
     "output_type": "stream",
     "text": [
      "~~~~~~~~~~~~~~~~~~~~~~~~~~~~~~~~~~~~~~~~~~~~~~~~~~~~~~~~~~~~~~~~~~~~~\n",
      "Running tests\n",
      "\n",
      "---------------------------------------------------------------------\n",
      "Test summary\n",
      "    Passed: 1\n",
      "    Failed: 0\n",
      "[ooooooooook] 100.0% passed\n",
      "\n"
     ]
    },
    {
     "data": {
      "application/javascript": [
       "IPython.notebook.save_checkpoint();"
      ],
      "text/plain": [
       "<IPython.core.display.Javascript object>"
      ]
     },
     "metadata": {},
     "output_type": "display_data"
    },
    {
     "data": {
      "application/javascript": [
       "IPython.notebook.save_notebook();"
      ],
      "text/plain": [
       "<IPython.core.display.Javascript object>"
      ]
     },
     "metadata": {},
     "output_type": "display_data"
    },
    {
     "name": "stdout",
     "output_type": "stream",
     "text": [
      "Saving notebook... Saved 'proj1.ipynb'.\n",
      "Submit... 100% complete\n",
      "Submission successful for user: melissakly@berkeley.edu\n",
      "URL: https://okpy.org/cal/ds100/fa17/proj1_part1/submissions/KrqMmr\n",
      "NOTE: this is only a backup. To submit your assignment, use:\n",
      "\tpython3 ok --submit\n",
      "\n"
     ]
    }
   ],
   "source": [
    "_ = ok.grade('q05f')\n",
    "_ = ok.backup()"
   ]
  },
  {
   "cell_type": "markdown",
   "metadata": {},
   "source": [
    "Now we have a measure of the sentiment of each of his tweets! Note that this calculation is rather basic; you can read over the VADER readme to understand a more robust sentiment analysis.\n",
    "\n",
    "Now, run the cells below to see the most positive and most negative tweets from Trump in your dataset:"
   ]
  },
  {
   "cell_type": "code",
   "execution_count": 824,
   "metadata": {},
   "outputs": [
    {
     "name": "stdout",
     "output_type": "stream",
     "text": [
      "Most negative tweets:\n",
      "   democrat jon ossoff would be a disaster in congress. very weak on crime and illegal immigration, bad for jobs and wants higher taxes. say no\n",
      "   \"@fiiibuster: @jeffzeleny pathetic - you have no sufficient evidence that donald trump did not suffer from voter fraud, shame! bad reporter.\n",
      "   rt @seanspicer: .@timkaine wants to tough on crime - fails to talk about defending rapists and murders #vpdebate\n",
      "   the fake news media has never been so wrong or so dirty. purposely incorrect stories and phony sources to meet their agenda of hate. sad!\n",
      "   the failing new york times foiled u.s. attempt to kill the single most wanted terrorist,al-baghdadi.their sick agenda over national security\n"
     ]
    }
   ],
   "source": [
    "print('Most negative tweets:')\n",
    "for t in senti.sort_values('polarity').head()['text']:\n",
    "    print('  ', t)"
   ]
  },
  {
   "cell_type": "code",
   "execution_count": 825,
   "metadata": {
    "scrolled": true
   },
   "outputs": [
    {
     "name": "stdout",
     "output_type": "stream",
     "text": [
      "Most positive tweets:\n",
      "   thank you to linda bean of l.l.bean for your great support and courage. people will support you even more now. buy l.l.bean. @lbperfectmaine\n",
      "   rt @ivankatrump: 2016 has been one of the most eventful and exciting years of my life. i wish you peace, joy, love and laughter. happy new…\n",
      "   \"@pauladuvall2: we're all enjoying you, as well, mr. t.! you've inspired hope and a positive spirit throughout america! god bless you!\" nice\n",
      "   hope you like my nomination of judge neil gorsuch for the united states supreme court. he is a good and brilliant man, respected by all.\n",
      "   attending chief ryan owens' dignified transfer yesterday with my daughter ivanka was my great honor. to a great and brave man - thank you!\n"
     ]
    }
   ],
   "source": [
    "print('Most positive tweets:')\n",
    "for t in senti.sort_values('polarity', ascending=False).head()['text']:\n",
    "    print('  ', t)"
   ]
  },
  {
   "cell_type": "markdown",
   "metadata": {},
   "source": [
    "---\n",
    "<br></br>\n",
    "\n",
    "## Question 5g\n",
    "\n",
    "Use seaborn to create a `distplot` of the sentiments. What do you notice? (You don't have to write this down in the notebook.)"
   ]
  },
  {
   "cell_type": "code",
   "execution_count": 826,
   "metadata": {
    "tags": [
     "student"
    ]
   },
   "outputs": [
    {
     "data": {
      "text/plain": [
       "<matplotlib.axes._subplots.AxesSubplot at 0x132a90390>"
      ]
     },
     "execution_count": 826,
     "metadata": {},
     "output_type": "execute_result"
    },
    {
     "data": {
      "image/png": "[encoded data removed]",
      "text/plain": [
       "<matplotlib.figure.Figure at 0x132e641d0>"
      ]
     },
     "metadata": {},
     "output_type": "display_data"
    }
   ],
   "source": [
    "### make your plot here\n",
    "sns.distplot(senti['polarity'])"
   ]
  },
  {
   "cell_type": "markdown",
   "metadata": {},
   "source": [
    "---\n",
    "<br></br>\n",
    "\n",
    "## Question 5h\n",
    "Create a line plot of the sentiment of Trump's tweets over time. Plot the mean sentiment of each month of his tweets over time. Then, plot vertical lines corresponding to his election and inauguration dates. Your final plot should look like:\n",
    "\n",
    "![](senti_time.png)\n",
    "\n",
    "Then, describe what you notice and save your result in the variable `senti_time_answer`."
   ]
  },
  {
   "cell_type": "code",
   "execution_count": 827,
   "metadata": {},
   "outputs": [
    {
     "data": {
      "image/png": "[encoded data removed]",
      "text/plain": [
       "<matplotlib.figure.Figure at 0x12e1cacc0>"
      ]
     },
     "metadata": {},
     "output_type": "display_data"
    }
   ],
   "source": [
    "copytime = senti.copy()\n",
    "polplot = copytime.reset_index().set_index('est_time').resample('M').mean().drop('retweet_count', 1)\n",
    "polplot.plot().legend(loc = 'upper left')\n",
    "plt.xlabel('time')\n",
    "timeindex = [pd.to_datetime('2016-11-08'), pd.to_datetime('2017-01-20')]\n",
    "for i in timeindex:\n",
    "    plt.axvline(x=i, color='r', linestyle='--')"
   ]
  },
  {
   "cell_type": "code",
   "execution_count": 855,
   "metadata": {
    "tags": [
     "student",
     "written"
    ]
   },
   "outputs": [
    {
     "data": {
      "text/markdown": [
       "\n",
       "\n",
       "From the plot we can see that the mean sentiment from November to Janurary decreased greatly and this could probably be due to the retaliation tweets \n",
       "Trump sent out due the public backlash he recieved once he was announced as POTUS. The polarity was the most positive in November and it gradually goes dow.\n",
       "The polarity hit its lowest around Feb and it gradually went up and currently it seems that it is still rising.\n",
       "\n"
      ],
      "text/plain": [
       "<IPython.core.display.Markdown object>"
      ]
     },
     "metadata": {},
     "output_type": "display_data"
    },
    {
     "data": {
      "image/png": "[encoded data removed]",
      "text/plain": [
       "<matplotlib.figure.Figure at 0x13449bf98>"
      ]
     },
     "metadata": {},
     "output_type": "display_data"
    }
   ],
   "source": [
    "# Create your plot here...\n",
    "copytime = senti.copy()\n",
    "polplot = copytime.reset_index().set_index('est_time').resample('M').mean().drop('retweet_count', 1)\n",
    "polplot.plot().legend(loc = 'upper left')\n",
    "plt.xlabel('time')\n",
    "timeindex = [pd.to_datetime('2016-11-08'), pd.to_datetime('2017-01-20')]\n",
    "for i in timeindex:\n",
    "    plt.axvline(x=i, color='r', linestyle='--')\n",
    "\n",
    "# ...then write your takeaways here.\n",
    "senti_time_answer = '''\n",
    "\n",
    "From the plot we can see that the mean sentiment from November to Janurary decreased greatly and this could probably be due to the retaliation tweets \n",
    "Trump sent out due the public backlash he recieved once he was announced as POTUS. The polarity was the most positive in November and it gradually goes dow.\n",
    "The polarity hit its lowest around Feb and it gradually went up and currently it seems that it is still rising.\n",
    "\n",
    "'''\n",
    "display(Markdown(senti_time_answer))"
   ]
  },
  {
   "cell_type": "markdown",
   "metadata": {},
   "source": [
    "## Question 6: Hashtags\n",
    "\n",
    "Let's return now to the problem of determining which tweets were from Trump and which were from his aides. As a reminder, most analysts agree that tweets that came from an Android device were likely from Trump himself, not one of his aides ([example](http://didtrumptweetit.com/machine-learning-tweet-prediction/)).\n",
    "\n",
    "In addition, browsing his Twitter shows that some tweets that sound more \"official\" often have a hashtag, link, or a picture:\n",
    "\n",
    "![](aide.png)\n",
    "\n",
    "Whereas tweets that sound like Trump himself usually don't have a hashtag, link, or picture:\n",
    "\n",
    "![](trump.png)\n",
    "\n",
    "So, we can hypothesize that if a tweet has a hashtag, link, or picture it came from one of Trump's aides, not Trump himself. Let's see if this idea is backed up by the data."
   ]
  },
  {
   "cell_type": "markdown",
   "metadata": {},
   "source": [
    "---\n",
    "<br></br>\n",
    "\n",
    "## Question 6a\n",
    "\n",
    "Create a DF called `hash_or_link` that contains only the rows from the `senti` table where the tweet isn't a retweet and contains a hashtag, link, or picture. We say that:\n",
    "\n",
    "- A tweet is a retweet if it has the string 'rt' anywhere in the tweet if it is preceeded and followed by a non-word character (the start and end of the string count as non-word characters).\n",
    "- A tweet has a hashtag if it has the character '#' anywhere in the tweet followed by a letter.\n",
    "- A tweet contains a link or a picture if it has the word `http` anywhere in the tweet\n",
    "\n",
    "(You can check out Trump's Twitter for why these criteria are true)."
   ]
  },
  {
   "cell_type": "code",
   "execution_count": 856,
   "metadata": {
    "tags": [
     "student"
    ]
   },
   "outputs": [
    {
     "name": "stderr",
     "output_type": "stream",
     "text": [
      "/Users/melissaly/anaconda3/envs/ds100/lib/python3.6/site-packages/ipykernel_launcher.py:9: UserWarning: This pattern has match groups. To actually get the groups, use str.extract.\n",
      "  if __name__ == '__main__':\n",
      "/Users/melissaly/anaconda3/envs/ds100/lib/python3.6/site-packages/ipykernel_launcher.py:10: UserWarning: This pattern has match groups. To actually get the groups, use str.extract.\n",
      "  # Remove the CWD from sys.path while we load stuff.\n"
     ]
    },
    {
     "data": {
      "text/html": [
       "<div>\n",
       "<style>\n",
       "    .dataframe thead tr:only-child th {\n",
       "        text-align: right;\n",
       "    }\n",
       "\n",
       "    .dataframe thead th {\n",
       "        text-align: left;\n",
       "    }\n",
       "\n",
       "    .dataframe tbody tr th {\n",
       "        vertical-align: top;\n",
       "    }\n",
       "</style>\n",
       "<table border=\"1\" class=\"dataframe\">\n",
       "  <thead>\n",
       "    <tr style=\"text-align: right;\">\n",
       "      <th></th>\n",
       "      <th>polarity</th>\n",
       "      <th>time</th>\n",
       "      <th>source</th>\n",
       "      <th>text</th>\n",
       "      <th>retweet_count</th>\n",
       "      <th>est_time</th>\n",
       "      <th>no_punc</th>\n",
       "    </tr>\n",
       "    <tr>\n",
       "      <th>id</th>\n",
       "      <th></th>\n",
       "      <th></th>\n",
       "      <th></th>\n",
       "      <th></th>\n",
       "      <th></th>\n",
       "      <th></th>\n",
       "      <th></th>\n",
       "    </tr>\n",
       "  </thead>\n",
       "  <tbody>\n",
       "    <tr>\n",
       "      <th>759457253925785604</th>\n",
       "      <td>0.0</td>\n",
       "      <td>2016-07-30 18:34:54</td>\n",
       "      <td>Twitter for iPhone</td>\n",
       "      <td>#crookedhillary https://t.co/xyopfjmbyp</td>\n",
       "      <td>10379</td>\n",
       "      <td>2016-07-30 14:34:54-04:00</td>\n",
       "      <td>crookedhillary https   t co xyopfjmbyp</td>\n",
       "    </tr>\n",
       "    <tr>\n",
       "      <th>759507812963737600</th>\n",
       "      <td>-0.5</td>\n",
       "      <td>2016-07-30 21:55:48</td>\n",
       "      <td>Twitter for iPhone</td>\n",
       "      <td>#crookedhillary = obama's third term, which wo...</td>\n",
       "      <td>10089</td>\n",
       "      <td>2016-07-30 17:55:48-04:00</td>\n",
       "      <td>crookedhillary = obama's third term  which wo...</td>\n",
       "    </tr>\n",
       "    <tr>\n",
       "      <th>759515080010719232</th>\n",
       "      <td>0.4</td>\n",
       "      <td>2016-07-30 22:24:40</td>\n",
       "      <td>Twitter for iPhone</td>\n",
       "      <td>nato commander agrees members should pay up vi...</td>\n",
       "      <td>7431</td>\n",
       "      <td>2016-07-30 18:24:40-04:00</td>\n",
       "      <td>nato commander agrees members should pay up vi...</td>\n",
       "    </tr>\n",
       "    <tr>\n",
       "      <th>759524001613918208</th>\n",
       "      <td>1.5</td>\n",
       "      <td>2016-07-30 23:00:07</td>\n",
       "      <td>Twitter for Android</td>\n",
       "      <td>thank you to all of the television viewers tha...</td>\n",
       "      <td>10719</td>\n",
       "      <td>2016-07-30 19:00:07-04:00</td>\n",
       "      <td>thank you to all of the television viewers tha...</td>\n",
       "    </tr>\n",
       "    <tr>\n",
       "      <th>759848885900763141</th>\n",
       "      <td>2.9</td>\n",
       "      <td>2016-07-31 20:31:06</td>\n",
       "      <td>Twitter for Android</td>\n",
       "      <td>\"@realjameswoods:  without absolutely owning t...</td>\n",
       "      <td>13611</td>\n",
       "      <td>2016-07-31 16:31:06-04:00</td>\n",
       "      <td>@realjameswoods   without absolutely owning t...</td>\n",
       "    </tr>\n",
       "    <tr>\n",
       "      <th>760125021280960512</th>\n",
       "      <td>0.0</td>\n",
       "      <td>2016-08-01 14:48:22</td>\n",
       "      <td>Twitter for iPhone</td>\n",
       "      <td>#crookedhillary \\nhttps://t.co/ohi6xrdju0</td>\n",
       "      <td>8491</td>\n",
       "      <td>2016-08-01 10:48:22-04:00</td>\n",
       "      <td>crookedhillary \\nhttps   t co ohi6xrdju0</td>\n",
       "    </tr>\n",
       "    <tr>\n",
       "      <th>760126146830794753</th>\n",
       "      <td>1.2</td>\n",
       "      <td>2016-08-01 14:52:50</td>\n",
       "      <td>Twitter for iPhone</td>\n",
       "      <td>join governor mike pence in reno, nevada- toni...</td>\n",
       "      <td>3659</td>\n",
       "      <td>2016-08-01 10:52:50-04:00</td>\n",
       "      <td>join governor mike pence in reno  nevada- toni...</td>\n",
       "    </tr>\n",
       "    <tr>\n",
       "      <th>760213628926779392</th>\n",
       "      <td>1.5</td>\n",
       "      <td>2016-08-01 20:40:27</td>\n",
       "      <td>Twitter for iPhone</td>\n",
       "      <td>thank you oklahoma &amp;amp; virginia! \\n#makeamer...</td>\n",
       "      <td>8884</td>\n",
       "      <td>2016-08-01 16:40:27-04:00</td>\n",
       "      <td>thank you oklahoma  amp  virginia  \\n makeamer...</td>\n",
       "    </tr>\n",
       "    <tr>\n",
       "      <th>760214225830772737</th>\n",
       "      <td>1.5</td>\n",
       "      <td>2016-08-01 20:42:50</td>\n",
       "      <td>Twitter for iPhone</td>\n",
       "      <td>thank you columbus, ohio! i will be back soon....</td>\n",
       "      <td>4772</td>\n",
       "      <td>2016-08-01 16:42:50-04:00</td>\n",
       "      <td>thank you columbus  ohio  i will be back soon ...</td>\n",
       "    </tr>\n",
       "    <tr>\n",
       "      <th>760229355784138752</th>\n",
       "      <td>0.0</td>\n",
       "      <td>2016-08-01 21:42:57</td>\n",
       "      <td>Twitter for iPhone</td>\n",
       "      <td>crooked hillary clinton is 100% owned by her d...</td>\n",
       "      <td>16129</td>\n",
       "      <td>2016-08-01 17:42:57-04:00</td>\n",
       "      <td>crooked hillary clinton is 100% owned by her d...</td>\n",
       "    </tr>\n",
       "    <tr>\n",
       "      <th>760245342231158785</th>\n",
       "      <td>1.1</td>\n",
       "      <td>2016-08-01 22:46:28</td>\n",
       "      <td>Twitter for iPhone</td>\n",
       "      <td>hillary, whose decisions have led to the death...</td>\n",
       "      <td>12729</td>\n",
       "      <td>2016-08-01 18:46:28-04:00</td>\n",
       "      <td>hillary  whose decisions have led to the death...</td>\n",
       "    </tr>\n",
       "    <tr>\n",
       "      <th>760247348673077248</th>\n",
       "      <td>-7.8</td>\n",
       "      <td>2016-08-01 22:54:27</td>\n",
       "      <td>Twitter for iPhone</td>\n",
       "      <td>during the gop convention, cnn cut away from t...</td>\n",
       "      <td>10455</td>\n",
       "      <td>2016-08-01 18:54:27-04:00</td>\n",
       "      <td>during the gop convention  cnn cut away from t...</td>\n",
       "    </tr>\n",
       "    <tr>\n",
       "      <th>760249495754006528</th>\n",
       "      <td>1.2</td>\n",
       "      <td>2016-08-01 23:02:59</td>\n",
       "      <td>Twitter for iPhone</td>\n",
       "      <td>join me in florida on wednesday! daytona &amp;amp;...</td>\n",
       "      <td>3840</td>\n",
       "      <td>2016-08-01 19:02:59-04:00</td>\n",
       "      <td>join me in florida on wednesday  daytona  amp ...</td>\n",
       "    </tr>\n",
       "    <tr>\n",
       "      <th>760293742381244416</th>\n",
       "      <td>2.2</td>\n",
       "      <td>2016-08-02 01:58:48</td>\n",
       "      <td>Twitter for iPhone</td>\n",
       "      <td>just leaving mechanicsburg, pa. incredible cro...</td>\n",
       "      <td>7033</td>\n",
       "      <td>2016-08-01 21:58:48-04:00</td>\n",
       "      <td>just leaving mechanicsburg  pa  incredible cro...</td>\n",
       "    </tr>\n",
       "    <tr>\n",
       "      <th>760299757206208512</th>\n",
       "      <td>6.2</td>\n",
       "      <td>2016-08-02 02:22:42</td>\n",
       "      <td>Twitter for iPhone</td>\n",
       "      <td>great afternoon in ohio &amp;amp; a great evening ...</td>\n",
       "      <td>15478</td>\n",
       "      <td>2016-08-01 22:22:42-04:00</td>\n",
       "      <td>great afternoon in ohio  amp  a great evening ...</td>\n",
       "    </tr>\n",
       "    <tr>\n",
       "      <th>760420894271471620</th>\n",
       "      <td>-2.3</td>\n",
       "      <td>2016-08-02 10:24:03</td>\n",
       "      <td>Twitter for iPhone</td>\n",
       "      <td>the washington post calls out #crookedhillary ...</td>\n",
       "      <td>25923</td>\n",
       "      <td>2016-08-02 06:24:03-04:00</td>\n",
       "      <td>the washington post calls out  crookedhillary ...</td>\n",
       "    </tr>\n",
       "    <tr>\n",
       "      <th>760519847461658624</th>\n",
       "      <td>1.5</td>\n",
       "      <td>2016-08-02 16:57:16</td>\n",
       "      <td>Twitter for iPhone</td>\n",
       "      <td>thank you virginia! #imwithyou https://t.co/9i...</td>\n",
       "      <td>4937</td>\n",
       "      <td>2016-08-02 12:57:16-04:00</td>\n",
       "      <td>thank you virginia   imwithyou https   t co 9i...</td>\n",
       "    </tr>\n",
       "    <tr>\n",
       "      <th>760532443061420033</th>\n",
       "      <td>-2.3</td>\n",
       "      <td>2016-08-02 17:47:19</td>\n",
       "      <td>Twitter for iPhone</td>\n",
       "      <td>statement in response to president obama's fai...</td>\n",
       "      <td>7349</td>\n",
       "      <td>2016-08-02 13:47:19-04:00</td>\n",
       "      <td>statement in response to president obama's fai...</td>\n",
       "    </tr>\n",
       "    <tr>\n",
       "      <th>760535661699035136</th>\n",
       "      <td>1.2</td>\n",
       "      <td>2016-08-02 18:00:06</td>\n",
       "      <td>Twitter for iPhone</td>\n",
       "      <td>join me in florida tomorrow! \\n#makeamericagre...</td>\n",
       "      <td>3452</td>\n",
       "      <td>2016-08-02 14:00:06-04:00</td>\n",
       "      <td>join me in florida tomorrow  \\n makeamericagre...</td>\n",
       "    </tr>\n",
       "    <tr>\n",
       "      <th>760538951581130754</th>\n",
       "      <td>0.0</td>\n",
       "      <td>2016-08-02 18:13:10</td>\n",
       "      <td>Twitter for iPhone</td>\n",
       "      <td>#crookedhillary https://t.co/xe0i0emxma</td>\n",
       "      <td>13157</td>\n",
       "      <td>2016-08-02 14:13:10-04:00</td>\n",
       "      <td>crookedhillary https   t co xe0i0emxma</td>\n",
       "    </tr>\n",
       "    <tr>\n",
       "      <th>760542646888652804</th>\n",
       "      <td>0.0</td>\n",
       "      <td>2016-08-02 18:27:51</td>\n",
       "      <td>Twitter for iPhone</td>\n",
       "      <td>#icymi: john podesta’s brother pocketed $180,0...</td>\n",
       "      <td>8053</td>\n",
       "      <td>2016-08-02 14:27:51-04:00</td>\n",
       "      <td>icymi  john podesta’s brother pocketed  180 0...</td>\n",
       "    </tr>\n",
       "    <tr>\n",
       "      <th>760560366447370241</th>\n",
       "      <td>0.0</td>\n",
       "      <td>2016-08-02 19:38:16</td>\n",
       "      <td>Twitter for iPhone</td>\n",
       "      <td>report raises questions about ‘clinton cash’ f...</td>\n",
       "      <td>10781</td>\n",
       "      <td>2016-08-02 15:38:16-04:00</td>\n",
       "      <td>report raises questions about ‘clinton cash’ f...</td>\n",
       "    </tr>\n",
       "    <tr>\n",
       "      <th>760594155835887616</th>\n",
       "      <td>2.2</td>\n",
       "      <td>2016-08-02 21:52:32</td>\n",
       "      <td>Twitter for iPhone</td>\n",
       "      <td>my daughter @ivankatrump will be on @greta ton...</td>\n",
       "      <td>5974</td>\n",
       "      <td>2016-08-02 17:52:32-04:00</td>\n",
       "      <td>my daughter @ivankatrump will be on @greta ton...</td>\n",
       "    </tr>\n",
       "    <tr>\n",
       "      <th>760957697579708416</th>\n",
       "      <td>1.5</td>\n",
       "      <td>2016-08-03 21:57:07</td>\n",
       "      <td>Twitter for iPhone</td>\n",
       "      <td>thank you daytona beach, florida!\\n#makeameric...</td>\n",
       "      <td>7314</td>\n",
       "      <td>2016-08-03 17:57:07-04:00</td>\n",
       "      <td>thank you daytona beach  florida \\n makeameric...</td>\n",
       "    </tr>\n",
       "    <tr>\n",
       "      <th>760960985524043777</th>\n",
       "      <td>4.3</td>\n",
       "      <td>2016-08-03 22:10:11</td>\n",
       "      <td>Twitter for iPhone</td>\n",
       "      <td>thank you to the amazing law enforcement offic...</td>\n",
       "      <td>10048</td>\n",
       "      <td>2016-08-03 18:10:11-04:00</td>\n",
       "      <td>thank you to the amazing law enforcement offic...</td>\n",
       "    </tr>\n",
       "    <tr>\n",
       "      <th>760976212068106240</th>\n",
       "      <td>3.2</td>\n",
       "      <td>2016-08-03 23:10:41</td>\n",
       "      <td>Twitter for iPhone</td>\n",
       "      <td>thank you for your support of my candidacy! #m...</td>\n",
       "      <td>5610</td>\n",
       "      <td>2016-08-03 19:10:41-04:00</td>\n",
       "      <td>thank you for your support of my candidacy   m...</td>\n",
       "    </tr>\n",
       "    <tr>\n",
       "      <th>761025834350018561</th>\n",
       "      <td>1.5</td>\n",
       "      <td>2016-08-04 02:27:52</td>\n",
       "      <td>Twitter for iPhone</td>\n",
       "      <td>thank you jacksonville, florida!\\n#makeamerica...</td>\n",
       "      <td>7272</td>\n",
       "      <td>2016-08-03 22:27:52-04:00</td>\n",
       "      <td>thank you jacksonville  florida \\n makeamerica...</td>\n",
       "    </tr>\n",
       "    <tr>\n",
       "      <th>761219396635361280</th>\n",
       "      <td>1.2</td>\n",
       "      <td>2016-08-04 15:17:01</td>\n",
       "      <td>Twitter for iPhone</td>\n",
       "      <td>looking forward to ia &amp;amp; wi with gov. pence...</td>\n",
       "      <td>5633</td>\n",
       "      <td>2016-08-04 11:17:01-04:00</td>\n",
       "      <td>looking forward to ia  amp  wi with gov  pence...</td>\n",
       "    </tr>\n",
       "    <tr>\n",
       "      <th>761279538106097664</th>\n",
       "      <td>4.6</td>\n",
       "      <td>2016-08-04 19:16:00</td>\n",
       "      <td>Twitter for iPhone</td>\n",
       "      <td>great meeting all of you. this group knocked o...</td>\n",
       "      <td>5803</td>\n",
       "      <td>2016-08-04 15:16:00-04:00</td>\n",
       "      <td>great meeting all of you  this group knocked o...</td>\n",
       "    </tr>\n",
       "    <tr>\n",
       "      <th>761281473492189184</th>\n",
       "      <td>6.0</td>\n",
       "      <td>2016-08-04 19:23:41</td>\n",
       "      <td>Twitter for iPhone</td>\n",
       "      <td>happy 226th birthday to the united states coas...</td>\n",
       "      <td>10332</td>\n",
       "      <td>2016-08-04 15:23:41-04:00</td>\n",
       "      <td>happy 226th birthday to the united states coas...</td>\n",
       "    </tr>\n",
       "    <tr>\n",
       "      <th>...</th>\n",
       "      <td>...</td>\n",
       "      <td>...</td>\n",
       "      <td>...</td>\n",
       "      <td>...</td>\n",
       "      <td>...</td>\n",
       "      <td>...</td>\n",
       "      <td>...</td>\n",
       "    </tr>\n",
       "    <tr>\n",
       "      <th>910580644597649409</th>\n",
       "      <td>6.2</td>\n",
       "      <td>2017-09-20 19:05:18</td>\n",
       "      <td>Twitter for iPhone</td>\n",
       "      <td>honored to host a luncheon for african leaders...</td>\n",
       "      <td>9418</td>\n",
       "      <td>2017-09-20 15:05:18-04:00</td>\n",
       "      <td>honored to host a luncheon for african leaders...</td>\n",
       "    </tr>\n",
       "    <tr>\n",
       "      <th>910632095088889857</th>\n",
       "      <td>4.5</td>\n",
       "      <td>2017-09-20 22:29:44</td>\n",
       "      <td>Twitter for iPhone</td>\n",
       "      <td>on behalf of all americans, i want to wish jew...</td>\n",
       "      <td>12067</td>\n",
       "      <td>2017-09-20 18:29:44-04:00</td>\n",
       "      <td>on behalf of all americans  i want to wish jew...</td>\n",
       "    </tr>\n",
       "    <tr>\n",
       "      <th>910703407555600386</th>\n",
       "      <td>1.9</td>\n",
       "      <td>2017-09-21 03:13:07</td>\n",
       "      <td>Twitter for iPhone</td>\n",
       "      <td>governor @ricardorossello- \\nwe are with you a...</td>\n",
       "      <td>11855</td>\n",
       "      <td>2017-09-20 23:13:07-04:00</td>\n",
       "      <td>governor @ricardorossello- \\nwe are with you a...</td>\n",
       "    </tr>\n",
       "    <tr>\n",
       "      <th>910885156373721092</th>\n",
       "      <td>2.7</td>\n",
       "      <td>2017-09-21 15:15:19</td>\n",
       "      <td>Media Studio</td>\n",
       "      <td>it was a pleasure to have president ashraf gha...</td>\n",
       "      <td>6714</td>\n",
       "      <td>2017-09-21 11:15:19-04:00</td>\n",
       "      <td>it was a pleasure to have president ashraf gha...</td>\n",
       "    </tr>\n",
       "    <tr>\n",
       "      <th>910885755320459264</th>\n",
       "      <td>2.7</td>\n",
       "      <td>2017-09-21 15:17:42</td>\n",
       "      <td>Twitter for iPhone</td>\n",
       "      <td>it was wonderful to have president petro poros...</td>\n",
       "      <td>6347</td>\n",
       "      <td>2017-09-21 11:17:42-04:00</td>\n",
       "      <td>it was wonderful to have president petro poros...</td>\n",
       "    </tr>\n",
       "    <tr>\n",
       "      <th>910898047931912192</th>\n",
       "      <td>4.6</td>\n",
       "      <td>2017-09-21 16:06:32</td>\n",
       "      <td>Media Studio</td>\n",
       "      <td>it was a great privilege to meet with presiden...</td>\n",
       "      <td>9033</td>\n",
       "      <td>2017-09-21 12:06:32-04:00</td>\n",
       "      <td>it was a great privilege to meet with presiden...</td>\n",
       "    </tr>\n",
       "    <tr>\n",
       "      <th>910926223684931585</th>\n",
       "      <td>1.6</td>\n",
       "      <td>2017-09-21 17:58:30</td>\n",
       "      <td>Media Studio</td>\n",
       "      <td>today, i announced a new executive order with ...</td>\n",
       "      <td>17955</td>\n",
       "      <td>2017-09-21 13:58:30-04:00</td>\n",
       "      <td>today  i announced a new executive order with ...</td>\n",
       "    </tr>\n",
       "    <tr>\n",
       "      <th>911175765718421504</th>\n",
       "      <td>1.5</td>\n",
       "      <td>2017-09-22 10:30:06</td>\n",
       "      <td>Twitter for iPhone</td>\n",
       "      <td>thank you! https://t.co/hlz48rlkif</td>\n",
       "      <td>10933</td>\n",
       "      <td>2017-09-22 06:30:06-04:00</td>\n",
       "      <td>thank you  https   t co hlz48rlkif</td>\n",
       "    </tr>\n",
       "    <tr>\n",
       "      <th>911265133279809536</th>\n",
       "      <td>0.0</td>\n",
       "      <td>2017-09-22 16:25:12</td>\n",
       "      <td>Twitter for iPhone</td>\n",
       "      <td>#usaatunga🇺🇸#unga https://t.co/mit2lj7q90</td>\n",
       "      <td>9197</td>\n",
       "      <td>2017-09-22 12:25:12-04:00</td>\n",
       "      <td>usaatunga🇺🇸 unga https   t co mit2lj7q90</td>\n",
       "    </tr>\n",
       "    <tr>\n",
       "      <th>911700914997792769</th>\n",
       "      <td>7.1</td>\n",
       "      <td>2017-09-23 21:16:51</td>\n",
       "      <td>Twitter for iPhone</td>\n",
       "      <td>very proud of our incredible first lady (@flot...</td>\n",
       "      <td>18577</td>\n",
       "      <td>2017-09-23 17:16:51-04:00</td>\n",
       "      <td>very proud of our incredible first lady (@flot...</td>\n",
       "    </tr>\n",
       "    <tr>\n",
       "      <th>912101775221706752</th>\n",
       "      <td>5.2</td>\n",
       "      <td>2017-09-24 23:49:43</td>\n",
       "      <td>Twitter for iPhone</td>\n",
       "      <td>making america safe is my number one priority....</td>\n",
       "      <td>23266</td>\n",
       "      <td>2017-09-24 19:49:43-04:00</td>\n",
       "      <td>making america safe is my number one priority ...</td>\n",
       "    </tr>\n",
       "    <tr>\n",
       "      <th>912301271817838593</th>\n",
       "      <td>0.0</td>\n",
       "      <td>2017-09-25 13:02:27</td>\n",
       "      <td>Twitter for iPhone</td>\n",
       "      <td>#standforouranthem</td>\n",
       "      <td>74126</td>\n",
       "      <td>2017-09-25 09:02:27-04:00</td>\n",
       "      <td>standforouranthem</td>\n",
       "    </tr>\n",
       "    <tr>\n",
       "      <th>912443217227976704</th>\n",
       "      <td>0.0</td>\n",
       "      <td>2017-09-25 22:26:30</td>\n",
       "      <td>Twitter for iPhone</td>\n",
       "      <td>.@cnn is #fakenews. just reported cos (john ke...</td>\n",
       "      <td>17330</td>\n",
       "      <td>2017-09-25 18:26:30-04:00</td>\n",
       "      <td>@cnn is  fakenews  just reported cos (john ke...</td>\n",
       "    </tr>\n",
       "    <tr>\n",
       "      <th>912443924979077120</th>\n",
       "      <td>-1.8</td>\n",
       "      <td>2017-09-25 22:29:18</td>\n",
       "      <td>Twitter for iPhone</td>\n",
       "      <td>tremendous backlash against the nfl and its pl...</td>\n",
       "      <td>26917</td>\n",
       "      <td>2017-09-25 18:29:18-04:00</td>\n",
       "      <td>tremendous backlash against the nfl and its pl...</td>\n",
       "    </tr>\n",
       "    <tr>\n",
       "      <th>912481556127780865</th>\n",
       "      <td>0.1</td>\n",
       "      <td>2017-09-26 00:58:50</td>\n",
       "      <td>Twitter for iPhone</td>\n",
       "      <td>...owed to wall street and the banks which, sa...</td>\n",
       "      <td>8283</td>\n",
       "      <td>2017-09-25 20:58:50-04:00</td>\n",
       "      <td>owed to wall street and the banks which  sa...</td>\n",
       "    </tr>\n",
       "    <tr>\n",
       "      <th>912487929783754755</th>\n",
       "      <td>0.0</td>\n",
       "      <td>2017-09-26 01:24:10</td>\n",
       "      <td>Media Studio</td>\n",
       "      <td>a few of the many clips of john mccain talking...</td>\n",
       "      <td>29459</td>\n",
       "      <td>2017-09-25 21:24:10-04:00</td>\n",
       "      <td>a few of the many clips of john mccain talking...</td>\n",
       "    </tr>\n",
       "    <tr>\n",
       "      <th>912711807709667331</th>\n",
       "      <td>4.8</td>\n",
       "      <td>2017-09-26 16:13:46</td>\n",
       "      <td>Twitter for iPhone</td>\n",
       "      <td>honored to welcome republican and democrat mem...</td>\n",
       "      <td>6920</td>\n",
       "      <td>2017-09-26 12:13:46-04:00</td>\n",
       "      <td>honored to welcome republican and democrat mem...</td>\n",
       "    </tr>\n",
       "    <tr>\n",
       "      <th>912779672257261569</th>\n",
       "      <td>3.1</td>\n",
       "      <td>2017-09-26 20:43:27</td>\n",
       "      <td>Twitter for iPhone</td>\n",
       "      <td>heading over to the @un to meet with ambassado...</td>\n",
       "      <td>6901</td>\n",
       "      <td>2017-09-26 16:43:27-04:00</td>\n",
       "      <td>heading over to the @un to meet with ambassado...</td>\n",
       "    </tr>\n",
       "    <tr>\n",
       "      <th>912792478096302080</th>\n",
       "      <td>0.0</td>\n",
       "      <td>2017-09-26 21:34:20</td>\n",
       "      <td>Media Studio</td>\n",
       "      <td>america's hearts &amp;amp; prayers are with the pe...</td>\n",
       "      <td>10473</td>\n",
       "      <td>2017-09-26 17:34:20-04:00</td>\n",
       "      <td>america's hearts  amp  prayers are with the pe...</td>\n",
       "    </tr>\n",
       "    <tr>\n",
       "      <th>912807096885723137</th>\n",
       "      <td>-5.5</td>\n",
       "      <td>2017-09-26 22:32:25</td>\n",
       "      <td>Media Studio</td>\n",
       "      <td>i want to express our support and extend our p...</td>\n",
       "      <td>8546</td>\n",
       "      <td>2017-09-26 18:32:25-04:00</td>\n",
       "      <td>i want to express our support and extend our p...</td>\n",
       "    </tr>\n",
       "    <tr>\n",
       "      <th>912809860965613568</th>\n",
       "      <td>5.7</td>\n",
       "      <td>2017-09-26 22:43:24</td>\n",
       "      <td>Media Studio</td>\n",
       "      <td>it was an honor to welcome president @marianor...</td>\n",
       "      <td>8403</td>\n",
       "      <td>2017-09-26 18:43:24-04:00</td>\n",
       "      <td>it was an honor to welcome president @marianor...</td>\n",
       "    </tr>\n",
       "    <tr>\n",
       "      <th>912825663694016522</th>\n",
       "      <td>7.3</td>\n",
       "      <td>2017-09-26 23:46:12</td>\n",
       "      <td>Twitter for iPhone</td>\n",
       "      <td>thank you to our wonderful team @usun and thei...</td>\n",
       "      <td>6230</td>\n",
       "      <td>2017-09-26 19:46:12-04:00</td>\n",
       "      <td>thank you to our wonderful team @usun and thei...</td>\n",
       "    </tr>\n",
       "    <tr>\n",
       "      <th>912848241535971331</th>\n",
       "      <td>5.3</td>\n",
       "      <td>2017-09-27 01:15:55</td>\n",
       "      <td>Twitter for iPhone</td>\n",
       "      <td>even usain bolt from jamaica, one of the great...</td>\n",
       "      <td>43000</td>\n",
       "      <td>2017-09-26 21:15:55-04:00</td>\n",
       "      <td>even usain bolt from jamaica  one of the great...</td>\n",
       "    </tr>\n",
       "    <tr>\n",
       "      <th>912994446219898880</th>\n",
       "      <td>8.9</td>\n",
       "      <td>2017-09-27 10:56:53</td>\n",
       "      <td>Twitter for iPhone</td>\n",
       "      <td>spoke to roy moore of alabama last night for t...</td>\n",
       "      <td>12928</td>\n",
       "      <td>2017-09-27 06:56:53-04:00</td>\n",
       "      <td>spoke to roy moore of alabama last night for t...</td>\n",
       "    </tr>\n",
       "    <tr>\n",
       "      <th>913117797231857664</th>\n",
       "      <td>0.0</td>\n",
       "      <td>2017-09-27 19:07:02</td>\n",
       "      <td>Twitter for iPhone</td>\n",
       "      <td>just arrived in indianapolis, indiana to make ...</td>\n",
       "      <td>10576</td>\n",
       "      <td>2017-09-27 15:07:02-04:00</td>\n",
       "      <td>just arrived in indianapolis  indiana to make ...</td>\n",
       "    </tr>\n",
       "    <tr>\n",
       "      <th>913187235452690432</th>\n",
       "      <td>1.1</td>\n",
       "      <td>2017-09-27 23:42:57</td>\n",
       "      <td>Media Studio</td>\n",
       "      <td>this is the right tax cut @ the right time. we...</td>\n",
       "      <td>14420</td>\n",
       "      <td>2017-09-27 19:42:57-04:00</td>\n",
       "      <td>this is the right tax cut @ the right time  we...</td>\n",
       "    </tr>\n",
       "    <tr>\n",
       "      <th>913220484640182272</th>\n",
       "      <td>3.7</td>\n",
       "      <td>2017-09-28 01:55:05</td>\n",
       "      <td>Twitter for iPhone</td>\n",
       "      <td>it is time to take care of our people, to rebu...</td>\n",
       "      <td>16971</td>\n",
       "      <td>2017-09-27 21:55:05-04:00</td>\n",
       "      <td>it is time to take care of our people  to rebu...</td>\n",
       "    </tr>\n",
       "    <tr>\n",
       "      <th>913488283321159680</th>\n",
       "      <td>2.0</td>\n",
       "      <td>2017-09-28 19:39:13</td>\n",
       "      <td>Media Studio</td>\n",
       "      <td>welcome back @stevescalise!\\n#teamscalise http...</td>\n",
       "      <td>13490</td>\n",
       "      <td>2017-09-28 15:39:13-04:00</td>\n",
       "      <td>welcome back @stevescalise \\n teamscalise http...</td>\n",
       "    </tr>\n",
       "    <tr>\n",
       "      <th>913821956625059840</th>\n",
       "      <td>0.8</td>\n",
       "      <td>2017-09-29 17:45:07</td>\n",
       "      <td>Media Studio</td>\n",
       "      <td>this week we came one step closer to reaching ...</td>\n",
       "      <td>5042</td>\n",
       "      <td>2017-09-29 13:45:07-04:00</td>\n",
       "      <td>this week we came one step closer to reaching ...</td>\n",
       "    </tr>\n",
       "    <tr>\n",
       "      <th>913856413541138432</th>\n",
       "      <td>6.8</td>\n",
       "      <td>2017-09-29 20:02:02</td>\n",
       "      <td>Twitter for iPhone</td>\n",
       "      <td>thank you @shopfloornam. an honor to be with y...</td>\n",
       "      <td>2210</td>\n",
       "      <td>2017-09-29 16:02:02-04:00</td>\n",
       "      <td>thank you @shopfloornam  an honor to be with y...</td>\n",
       "    </tr>\n",
       "  </tbody>\n",
       "</table>\n",
       "<p>1315 rows × 7 columns</p>\n",
       "</div>"
      ],
      "text/plain": [
       "                    polarity                time               source  \\\n",
       "id                                                                      \n",
       "759457253925785604       0.0 2016-07-30 18:34:54   Twitter for iPhone   \n",
       "759507812963737600      -0.5 2016-07-30 21:55:48   Twitter for iPhone   \n",
       "759515080010719232       0.4 2016-07-30 22:24:40   Twitter for iPhone   \n",
       "759524001613918208       1.5 2016-07-30 23:00:07  Twitter for Android   \n",
       "759848885900763141       2.9 2016-07-31 20:31:06  Twitter for Android   \n",
       "760125021280960512       0.0 2016-08-01 14:48:22   Twitter for iPhone   \n",
       "760126146830794753       1.2 2016-08-01 14:52:50   Twitter for iPhone   \n",
       "760213628926779392       1.5 2016-08-01 20:40:27   Twitter for iPhone   \n",
       "760214225830772737       1.5 2016-08-01 20:42:50   Twitter for iPhone   \n",
       "760229355784138752       0.0 2016-08-01 21:42:57   Twitter for iPhone   \n",
       "760245342231158785       1.1 2016-08-01 22:46:28   Twitter for iPhone   \n",
       "760247348673077248      -7.8 2016-08-01 22:54:27   Twitter for iPhone   \n",
       "760249495754006528       1.2 2016-08-01 23:02:59   Twitter for iPhone   \n",
       "760293742381244416       2.2 2016-08-02 01:58:48   Twitter for iPhone   \n",
       "760299757206208512       6.2 2016-08-02 02:22:42   Twitter for iPhone   \n",
       "760420894271471620      -2.3 2016-08-02 10:24:03   Twitter for iPhone   \n",
       "760519847461658624       1.5 2016-08-02 16:57:16   Twitter for iPhone   \n",
       "760532443061420033      -2.3 2016-08-02 17:47:19   Twitter for iPhone   \n",
       "760535661699035136       1.2 2016-08-02 18:00:06   Twitter for iPhone   \n",
       "760538951581130754       0.0 2016-08-02 18:13:10   Twitter for iPhone   \n",
       "760542646888652804       0.0 2016-08-02 18:27:51   Twitter for iPhone   \n",
       "760560366447370241       0.0 2016-08-02 19:38:16   Twitter for iPhone   \n",
       "760594155835887616       2.2 2016-08-02 21:52:32   Twitter for iPhone   \n",
       "760957697579708416       1.5 2016-08-03 21:57:07   Twitter for iPhone   \n",
       "760960985524043777       4.3 2016-08-03 22:10:11   Twitter for iPhone   \n",
       "760976212068106240       3.2 2016-08-03 23:10:41   Twitter for iPhone   \n",
       "761025834350018561       1.5 2016-08-04 02:27:52   Twitter for iPhone   \n",
       "761219396635361280       1.2 2016-08-04 15:17:01   Twitter for iPhone   \n",
       "761279538106097664       4.6 2016-08-04 19:16:00   Twitter for iPhone   \n",
       "761281473492189184       6.0 2016-08-04 19:23:41   Twitter for iPhone   \n",
       "...                      ...                 ...                  ...   \n",
       "910580644597649409       6.2 2017-09-20 19:05:18   Twitter for iPhone   \n",
       "910632095088889857       4.5 2017-09-20 22:29:44   Twitter for iPhone   \n",
       "910703407555600386       1.9 2017-09-21 03:13:07   Twitter for iPhone   \n",
       "910885156373721092       2.7 2017-09-21 15:15:19         Media Studio   \n",
       "910885755320459264       2.7 2017-09-21 15:17:42   Twitter for iPhone   \n",
       "910898047931912192       4.6 2017-09-21 16:06:32         Media Studio   \n",
       "910926223684931585       1.6 2017-09-21 17:58:30         Media Studio   \n",
       "911175765718421504       1.5 2017-09-22 10:30:06   Twitter for iPhone   \n",
       "911265133279809536       0.0 2017-09-22 16:25:12   Twitter for iPhone   \n",
       "911700914997792769       7.1 2017-09-23 21:16:51   Twitter for iPhone   \n",
       "912101775221706752       5.2 2017-09-24 23:49:43   Twitter for iPhone   \n",
       "912301271817838593       0.0 2017-09-25 13:02:27   Twitter for iPhone   \n",
       "912443217227976704       0.0 2017-09-25 22:26:30   Twitter for iPhone   \n",
       "912443924979077120      -1.8 2017-09-25 22:29:18   Twitter for iPhone   \n",
       "912481556127780865       0.1 2017-09-26 00:58:50   Twitter for iPhone   \n",
       "912487929783754755       0.0 2017-09-26 01:24:10         Media Studio   \n",
       "912711807709667331       4.8 2017-09-26 16:13:46   Twitter for iPhone   \n",
       "912779672257261569       3.1 2017-09-26 20:43:27   Twitter for iPhone   \n",
       "912792478096302080       0.0 2017-09-26 21:34:20         Media Studio   \n",
       "912807096885723137      -5.5 2017-09-26 22:32:25         Media Studio   \n",
       "912809860965613568       5.7 2017-09-26 22:43:24         Media Studio   \n",
       "912825663694016522       7.3 2017-09-26 23:46:12   Twitter for iPhone   \n",
       "912848241535971331       5.3 2017-09-27 01:15:55   Twitter for iPhone   \n",
       "912994446219898880       8.9 2017-09-27 10:56:53   Twitter for iPhone   \n",
       "913117797231857664       0.0 2017-09-27 19:07:02   Twitter for iPhone   \n",
       "913187235452690432       1.1 2017-09-27 23:42:57         Media Studio   \n",
       "913220484640182272       3.7 2017-09-28 01:55:05   Twitter for iPhone   \n",
       "913488283321159680       2.0 2017-09-28 19:39:13         Media Studio   \n",
       "913821956625059840       0.8 2017-09-29 17:45:07         Media Studio   \n",
       "913856413541138432       6.8 2017-09-29 20:02:02   Twitter for iPhone   \n",
       "\n",
       "                                                                 text  \\\n",
       "id                                                                      \n",
       "759457253925785604            #crookedhillary https://t.co/xyopfjmbyp   \n",
       "759507812963737600  #crookedhillary = obama's third term, which wo...   \n",
       "759515080010719232  nato commander agrees members should pay up vi...   \n",
       "759524001613918208  thank you to all of the television viewers tha...   \n",
       "759848885900763141  \"@realjameswoods:  without absolutely owning t...   \n",
       "760125021280960512          #crookedhillary \\nhttps://t.co/ohi6xrdju0   \n",
       "760126146830794753  join governor mike pence in reno, nevada- toni...   \n",
       "760213628926779392  thank you oklahoma &amp; virginia! \\n#makeamer...   \n",
       "760214225830772737  thank you columbus, ohio! i will be back soon....   \n",
       "760229355784138752  crooked hillary clinton is 100% owned by her d...   \n",
       "760245342231158785  hillary, whose decisions have led to the death...   \n",
       "760247348673077248  during the gop convention, cnn cut away from t...   \n",
       "760249495754006528  join me in florida on wednesday! daytona &amp;...   \n",
       "760293742381244416  just leaving mechanicsburg, pa. incredible cro...   \n",
       "760299757206208512  great afternoon in ohio &amp; a great evening ...   \n",
       "760420894271471620  the washington post calls out #crookedhillary ...   \n",
       "760519847461658624  thank you virginia! #imwithyou https://t.co/9i...   \n",
       "760532443061420033  statement in response to president obama's fai...   \n",
       "760535661699035136  join me in florida tomorrow! \\n#makeamericagre...   \n",
       "760538951581130754            #crookedhillary https://t.co/xe0i0emxma   \n",
       "760542646888652804  #icymi: john podesta’s brother pocketed $180,0...   \n",
       "760560366447370241  report raises questions about ‘clinton cash’ f...   \n",
       "760594155835887616  my daughter @ivankatrump will be on @greta ton...   \n",
       "760957697579708416  thank you daytona beach, florida!\\n#makeameric...   \n",
       "760960985524043777  thank you to the amazing law enforcement offic...   \n",
       "760976212068106240  thank you for your support of my candidacy! #m...   \n",
       "761025834350018561  thank you jacksonville, florida!\\n#makeamerica...   \n",
       "761219396635361280  looking forward to ia &amp; wi with gov. pence...   \n",
       "761279538106097664  great meeting all of you. this group knocked o...   \n",
       "761281473492189184  happy 226th birthday to the united states coas...   \n",
       "...                                                               ...   \n",
       "910580644597649409  honored to host a luncheon for african leaders...   \n",
       "910632095088889857  on behalf of all americans, i want to wish jew...   \n",
       "910703407555600386  governor @ricardorossello- \\nwe are with you a...   \n",
       "910885156373721092  it was a pleasure to have president ashraf gha...   \n",
       "910885755320459264  it was wonderful to have president petro poros...   \n",
       "910898047931912192  it was a great privilege to meet with presiden...   \n",
       "910926223684931585  today, i announced a new executive order with ...   \n",
       "911175765718421504                 thank you! https://t.co/hlz48rlkif   \n",
       "911265133279809536          #usaatunga🇺🇸#unga https://t.co/mit2lj7q90   \n",
       "911700914997792769  very proud of our incredible first lady (@flot...   \n",
       "912101775221706752  making america safe is my number one priority....   \n",
       "912301271817838593                                 #standforouranthem   \n",
       "912443217227976704  .@cnn is #fakenews. just reported cos (john ke...   \n",
       "912443924979077120  tremendous backlash against the nfl and its pl...   \n",
       "912481556127780865  ...owed to wall street and the banks which, sa...   \n",
       "912487929783754755  a few of the many clips of john mccain talking...   \n",
       "912711807709667331  honored to welcome republican and democrat mem...   \n",
       "912779672257261569  heading over to the @un to meet with ambassado...   \n",
       "912792478096302080  america's hearts &amp; prayers are with the pe...   \n",
       "912807096885723137  i want to express our support and extend our p...   \n",
       "912809860965613568  it was an honor to welcome president @marianor...   \n",
       "912825663694016522  thank you to our wonderful team @usun and thei...   \n",
       "912848241535971331  even usain bolt from jamaica, one of the great...   \n",
       "912994446219898880  spoke to roy moore of alabama last night for t...   \n",
       "913117797231857664  just arrived in indianapolis, indiana to make ...   \n",
       "913187235452690432  this is the right tax cut @ the right time. we...   \n",
       "913220484640182272  it is time to take care of our people, to rebu...   \n",
       "913488283321159680  welcome back @stevescalise!\\n#teamscalise http...   \n",
       "913821956625059840  this week we came one step closer to reaching ...   \n",
       "913856413541138432  thank you @shopfloornam. an honor to be with y...   \n",
       "\n",
       "                    retweet_count                  est_time  \\\n",
       "id                                                            \n",
       "759457253925785604          10379 2016-07-30 14:34:54-04:00   \n",
       "759507812963737600          10089 2016-07-30 17:55:48-04:00   \n",
       "759515080010719232           7431 2016-07-30 18:24:40-04:00   \n",
       "759524001613918208          10719 2016-07-30 19:00:07-04:00   \n",
       "759848885900763141          13611 2016-07-31 16:31:06-04:00   \n",
       "760125021280960512           8491 2016-08-01 10:48:22-04:00   \n",
       "760126146830794753           3659 2016-08-01 10:52:50-04:00   \n",
       "760213628926779392           8884 2016-08-01 16:40:27-04:00   \n",
       "760214225830772737           4772 2016-08-01 16:42:50-04:00   \n",
       "760229355784138752          16129 2016-08-01 17:42:57-04:00   \n",
       "760245342231158785          12729 2016-08-01 18:46:28-04:00   \n",
       "760247348673077248          10455 2016-08-01 18:54:27-04:00   \n",
       "760249495754006528           3840 2016-08-01 19:02:59-04:00   \n",
       "760293742381244416           7033 2016-08-01 21:58:48-04:00   \n",
       "760299757206208512          15478 2016-08-01 22:22:42-04:00   \n",
       "760420894271471620          25923 2016-08-02 06:24:03-04:00   \n",
       "760519847461658624           4937 2016-08-02 12:57:16-04:00   \n",
       "760532443061420033           7349 2016-08-02 13:47:19-04:00   \n",
       "760535661699035136           3452 2016-08-02 14:00:06-04:00   \n",
       "760538951581130754          13157 2016-08-02 14:13:10-04:00   \n",
       "760542646888652804           8053 2016-08-02 14:27:51-04:00   \n",
       "760560366447370241          10781 2016-08-02 15:38:16-04:00   \n",
       "760594155835887616           5974 2016-08-02 17:52:32-04:00   \n",
       "760957697579708416           7314 2016-08-03 17:57:07-04:00   \n",
       "760960985524043777          10048 2016-08-03 18:10:11-04:00   \n",
       "760976212068106240           5610 2016-08-03 19:10:41-04:00   \n",
       "761025834350018561           7272 2016-08-03 22:27:52-04:00   \n",
       "761219396635361280           5633 2016-08-04 11:17:01-04:00   \n",
       "761279538106097664           5803 2016-08-04 15:16:00-04:00   \n",
       "761281473492189184          10332 2016-08-04 15:23:41-04:00   \n",
       "...                           ...                       ...   \n",
       "910580644597649409           9418 2017-09-20 15:05:18-04:00   \n",
       "910632095088889857          12067 2017-09-20 18:29:44-04:00   \n",
       "910703407555600386          11855 2017-09-20 23:13:07-04:00   \n",
       "910885156373721092           6714 2017-09-21 11:15:19-04:00   \n",
       "910885755320459264           6347 2017-09-21 11:17:42-04:00   \n",
       "910898047931912192           9033 2017-09-21 12:06:32-04:00   \n",
       "910926223684931585          17955 2017-09-21 13:58:30-04:00   \n",
       "911175765718421504          10933 2017-09-22 06:30:06-04:00   \n",
       "911265133279809536           9197 2017-09-22 12:25:12-04:00   \n",
       "911700914997792769          18577 2017-09-23 17:16:51-04:00   \n",
       "912101775221706752          23266 2017-09-24 19:49:43-04:00   \n",
       "912301271817838593          74126 2017-09-25 09:02:27-04:00   \n",
       "912443217227976704          17330 2017-09-25 18:26:30-04:00   \n",
       "912443924979077120          26917 2017-09-25 18:29:18-04:00   \n",
       "912481556127780865           8283 2017-09-25 20:58:50-04:00   \n",
       "912487929783754755          29459 2017-09-25 21:24:10-04:00   \n",
       "912711807709667331           6920 2017-09-26 12:13:46-04:00   \n",
       "912779672257261569           6901 2017-09-26 16:43:27-04:00   \n",
       "912792478096302080          10473 2017-09-26 17:34:20-04:00   \n",
       "912807096885723137           8546 2017-09-26 18:32:25-04:00   \n",
       "912809860965613568           8403 2017-09-26 18:43:24-04:00   \n",
       "912825663694016522           6230 2017-09-26 19:46:12-04:00   \n",
       "912848241535971331          43000 2017-09-26 21:15:55-04:00   \n",
       "912994446219898880          12928 2017-09-27 06:56:53-04:00   \n",
       "913117797231857664          10576 2017-09-27 15:07:02-04:00   \n",
       "913187235452690432          14420 2017-09-27 19:42:57-04:00   \n",
       "913220484640182272          16971 2017-09-27 21:55:05-04:00   \n",
       "913488283321159680          13490 2017-09-28 15:39:13-04:00   \n",
       "913821956625059840           5042 2017-09-29 13:45:07-04:00   \n",
       "913856413541138432           2210 2017-09-29 16:02:02-04:00   \n",
       "\n",
       "                                                              no_punc  \n",
       "id                                                                     \n",
       "759457253925785604             crookedhillary https   t co xyopfjmbyp  \n",
       "759507812963737600   crookedhillary = obama's third term  which wo...  \n",
       "759515080010719232  nato commander agrees members should pay up vi...  \n",
       "759524001613918208  thank you to all of the television viewers tha...  \n",
       "759848885900763141   @realjameswoods   without absolutely owning t...  \n",
       "760125021280960512           crookedhillary \\nhttps   t co ohi6xrdju0  \n",
       "760126146830794753  join governor mike pence in reno  nevada- toni...  \n",
       "760213628926779392  thank you oklahoma  amp  virginia  \\n makeamer...  \n",
       "760214225830772737  thank you columbus  ohio  i will be back soon ...  \n",
       "760229355784138752  crooked hillary clinton is 100% owned by her d...  \n",
       "760245342231158785  hillary  whose decisions have led to the death...  \n",
       "760247348673077248  during the gop convention  cnn cut away from t...  \n",
       "760249495754006528  join me in florida on wednesday  daytona  amp ...  \n",
       "760293742381244416  just leaving mechanicsburg  pa  incredible cro...  \n",
       "760299757206208512  great afternoon in ohio  amp  a great evening ...  \n",
       "760420894271471620  the washington post calls out  crookedhillary ...  \n",
       "760519847461658624  thank you virginia   imwithyou https   t co 9i...  \n",
       "760532443061420033  statement in response to president obama's fai...  \n",
       "760535661699035136  join me in florida tomorrow  \\n makeamericagre...  \n",
       "760538951581130754             crookedhillary https   t co xe0i0emxma  \n",
       "760542646888652804   icymi  john podesta’s brother pocketed  180 0...  \n",
       "760560366447370241  report raises questions about ‘clinton cash’ f...  \n",
       "760594155835887616  my daughter @ivankatrump will be on @greta ton...  \n",
       "760957697579708416  thank you daytona beach  florida \\n makeameric...  \n",
       "760960985524043777  thank you to the amazing law enforcement offic...  \n",
       "760976212068106240  thank you for your support of my candidacy   m...  \n",
       "761025834350018561  thank you jacksonville  florida \\n makeamerica...  \n",
       "761219396635361280  looking forward to ia  amp  wi with gov  pence...  \n",
       "761279538106097664  great meeting all of you  this group knocked o...  \n",
       "761281473492189184  happy 226th birthday to the united states coas...  \n",
       "...                                                               ...  \n",
       "910580644597649409  honored to host a luncheon for african leaders...  \n",
       "910632095088889857  on behalf of all americans  i want to wish jew...  \n",
       "910703407555600386  governor @ricardorossello- \\nwe are with you a...  \n",
       "910885156373721092  it was a pleasure to have president ashraf gha...  \n",
       "910885755320459264  it was wonderful to have president petro poros...  \n",
       "910898047931912192  it was a great privilege to meet with presiden...  \n",
       "910926223684931585  today  i announced a new executive order with ...  \n",
       "911175765718421504                 thank you  https   t co hlz48rlkif  \n",
       "911265133279809536           usaatunga🇺🇸 unga https   t co mit2lj7q90  \n",
       "911700914997792769  very proud of our incredible first lady (@flot...  \n",
       "912101775221706752  making america safe is my number one priority ...  \n",
       "912301271817838593                                  standforouranthem  \n",
       "912443217227976704   @cnn is  fakenews  just reported cos (john ke...  \n",
       "912443924979077120  tremendous backlash against the nfl and its pl...  \n",
       "912481556127780865     owed to wall street and the banks which  sa...  \n",
       "912487929783754755  a few of the many clips of john mccain talking...  \n",
       "912711807709667331  honored to welcome republican and democrat mem...  \n",
       "912779672257261569  heading over to the @un to meet with ambassado...  \n",
       "912792478096302080  america's hearts  amp  prayers are with the pe...  \n",
       "912807096885723137  i want to express our support and extend our p...  \n",
       "912809860965613568  it was an honor to welcome president @marianor...  \n",
       "912825663694016522  thank you to our wonderful team @usun and thei...  \n",
       "912848241535971331  even usain bolt from jamaica  one of the great...  \n",
       "912994446219898880  spoke to roy moore of alabama last night for t...  \n",
       "913117797231857664  just arrived in indianapolis  indiana to make ...  \n",
       "913187235452690432  this is the right tax cut @ the right time  we...  \n",
       "913220484640182272  it is time to take care of our people  to rebu...  \n",
       "913488283321159680  welcome back @stevescalise \\n teamscalise http...  \n",
       "913821956625059840  this week we came one step closer to reaching ...  \n",
       "913856413541138432  thank you @shopfloornam  an honor to be with y...  \n",
       "\n",
       "[1315 rows x 7 columns]"
      ]
     },
     "execution_count": 856,
     "metadata": {},
     "output_type": "execute_result"
    }
   ],
   "source": [
    "# You must save your regex for retweets in this variable\n",
    "rt_re = r'^(rt)|.*(\\W|\\s)(rt).*'\n",
    "#((^|\\W)rt($|\\W))'\n",
    "# You must save your regex for hashtags, links, or pictures in this variable\n",
    "hash_re = r'.*(http)|.*(#\\w+)'\n",
    "#(#[a-zA-Z]|\\W*(http)\\W*)'\n",
    "copydfhash = senti.copy()\n",
    "#copydfhash['text'] = ~senti['text'].str.contains(rt_re or hash_re)\n",
    "hashy = copydfhash.loc[copydfhash['text'].str.contains(hash_re)]\n",
    "hash_or_link = hashy.loc[~hashy['text'].str.contains(rt_re)]\n",
    "hash_or_link"
   ]
  },
  {
   "cell_type": "code",
   "execution_count": 857,
   "metadata": {
    "tags": [
     "test",
     "q06a"
    ]
   },
   "outputs": [
    {
     "name": "stdout",
     "output_type": "stream",
     "text": [
      "~~~~~~~~~~~~~~~~~~~~~~~~~~~~~~~~~~~~~~~~~~~~~~~~~~~~~~~~~~~~~~~~~~~~~\n",
      "Running tests\n",
      "\n",
      "---------------------------------------------------------------------\n",
      "Test summary\n",
      "    Passed: 1\n",
      "    Failed: 0\n",
      "[ooooooooook] 100.0% passed\n",
      "\n"
     ]
    },
    {
     "data": {
      "application/javascript": [
       "IPython.notebook.save_checkpoint();"
      ],
      "text/plain": [
       "<IPython.core.display.Javascript object>"
      ]
     },
     "metadata": {},
     "output_type": "display_data"
    },
    {
     "data": {
      "application/javascript": [
       "IPython.notebook.save_notebook();"
      ],
      "text/plain": [
       "<IPython.core.display.Javascript object>"
      ]
     },
     "metadata": {},
     "output_type": "display_data"
    },
    {
     "name": "stdout",
     "output_type": "stream",
     "text": [
      "Saving notebook... Saved 'proj1.ipynb'.\n",
      "Submit... 100% complete\n",
      "Submission successful for user: melissakly@berkeley.edu\n",
      "URL: https://okpy.org/cal/ds100/fa17/proj1_part1/submissions/gJoBV9\n",
      "NOTE: this is only a backup. To submit your assignment, use:\n",
      "\tpython3 ok --submit\n",
      "\n"
     ]
    }
   ],
   "source": [
    "_ = ok.grade('q06a')\n",
    "_ = ok.backup()"
   ]
  },
  {
   "cell_type": "markdown",
   "metadata": {},
   "source": [
    "--- \n",
    "<br></br>\n",
    "\n",
    "## Question 6b\n",
    "\n",
    "Create a line plot of the number of tweets containing a hashtag, link, or picture from each tweet device.\n",
    "\n",
    "If a device doesn't have at least 20 tweets in a particular year, don't include the tweets from that device for that year. (Eg. if there are 100 tweets from Twitter Ads in 2016 but only 10 in 2017, plot the counts for Twitter Ads in 2016 but not 2017.)\n",
    "\n",
    "Aggregate the counts for each week period. Your final plot should look like:\n",
    "\n",
    "![](hashtag_by_device.png)\n",
    "\n",
    "*Hint:* If you can get a table in the following format, you can just call `.plot()` on it to generate the plot.\n",
    "\n",
    "<table border=\"1\" class=\"dataframe\">\n",
    "  <thead>\n",
    "    <tr style=\"text-align: right;\">\n",
    "      <th>source</th>\n",
    "      <th>Media Studio</th>\n",
    "      <th>Twitter Ads</th>\n",
    "      <th>Twitter Web Client</th>\n",
    "      <th>Twitter for Android</th>\n",
    "      <th>Twitter for iPhone</th>\n",
    "    </tr>\n",
    "    <tr>\n",
    "      <th>time</th>\n",
    "      <th></th>\n",
    "      <th></th>\n",
    "      <th></th>\n",
    "      <th></th>\n",
    "      <th></th>\n",
    "    </tr>\n",
    "  </thead>\n",
    "  <tbody>\n",
    "    <tr>\n",
    "      <th>2016-07-24</th>\n",
    "      <td>NaN</td>\n",
    "      <td>NaN</td>\n",
    "      <td>4.0</td>\n",
    "      <td>10.0</td>\n",
    "      <td>14.0</td>\n",
    "    </tr>\n",
    "    <tr>\n",
    "      <th>2016-08-07</th>\n",
    "      <td>NaN</td>\n",
    "      <td>NaN</td>\n",
    "      <td>5.0</td>\n",
    "      <td>15.0</td>\n",
    "      <td>91.0</td>\n",
    "    </tr>\n",
    "    <tr>\n",
    "      <th>2016-08-21</th>\n",
    "      <td>NaN</td>\n",
    "      <td>NaN</td>\n",
    "      <td>9.0</td>\n",
    "      <td>10.0</td>\n",
    "      <td>44.0</td>\n",
    "    </tr>\n",
    "    <tr>\n",
    "      <th>2016-09-04</th>\n",
    "      <td>NaN</td>\n",
    "      <td>NaN</td>\n",
    "      <td>0.0</td>\n",
    "      <td>20.0</td>\n",
    "      <td>51.0</td>\n",
    "    </tr>\n",
    "    <tr>\n",
    "      <th>2016-09-18</th>\n",
    "      <td>NaN</td>\n",
    "      <td>NaN</td>\n",
    "      <td>1.0</td>\n",
    "      <td>12.0</td>\n",
    "      <td>59.0</td>\n",
    "    </tr>\n",
    "  </tbody>\n",
    "</table>\n",
    "\n",
    "What conclusions can you draw from this plot? Does this plot allow us to say whether a tweet containing a hashtag/link/picture likely came from Trump himself? Write your takeaways in `hashtag_answer` variable."
   ]
  },
  {
   "cell_type": "code",
   "execution_count": 858,
   "metadata": {
    "tags": [
     "student",
     "written"
    ]
   },
   "outputs": [
    {
     "data": {
      "text/markdown": [
       "\n",
       "\n",
       "From this plot we can see that number of tweets containing a hashtag, link, or picture were mostly tweeted from an iPhone. \n",
       "There was a peak in tweets from a Web Client during November and there was a huge peak in tweets from an iPhone during November. \n",
       "This peak is attributed to the election date and it could be very possible to imply that these tweets were from Trump's aides.\n",
       "We do not see too many tweets from an Android, these tweets even dropped down to 0 during Jan. But we know that around March 2017 \n",
       "was when Trump just switched over from using an android to an iPhone. From March 2017 onwards we see a constant trend in tweets.\n",
       "\n",
       "During the time period Trump had his Android, he barely tweeted any tweets containing a hashtag, link, or picture. \n",
       "This plot does allow us to say whether a tweet containing a hashtag/link/picture likely came from Trump himself.\n",
       "\n"
      ],
      "text/plain": [
       "<IPython.core.display.Markdown object>"
      ]
     },
     "metadata": {},
     "output_type": "display_data"
    },
    {
     "data": {
      "image/png": "[encoded data removed]",
      "text/plain": [
       "<matplotlib.figure.Figure at 0x1204b2f98>"
      ]
     },
     "metadata": {},
     "output_type": "display_data"
    }
   ],
   "source": [
    "# Create your plot here...\n",
    "\n",
    "copyhash = hash_or_link.copy()\n",
    "copyhash['year'] = copyhash['time'].dt.year\n",
    "copyhash = copyhash.groupby(['source', 'year']).filter(lambda x: len(x)>20)\n",
    "(copyhash.loc[:, ['time', 'source']]\n",
    " .set_index('time')\n",
    " .groupby('source')\n",
    " .resample('W')\n",
    " .size()\n",
    " .unstack(level=0)\n",
    " .plot()\n",
    ")\n",
    "\n",
    "# ...then write your takeaways here.\n",
    "hashtag_answer = '''\n",
    "\n",
    "From this plot we can see that number of tweets containing a hashtag, link, or picture were mostly tweeted from an iPhone. \n",
    "There was a peak in tweets from a Web Client during November and there was a huge peak in tweets from an iPhone during November. \n",
    "This peak is attributed to the election date and it could be very possible to imply that these tweets were from Trump's aides.\n",
    "We do not see too many tweets from an Android, these tweets even dropped down to 0 during Jan. But we know that around March 2017 \n",
    "was when Trump just switched over from using an android to an iPhone. From March 2017 onwards we see a constant trend in tweets.\n",
    "\n",
    "During the time period Trump had his Android, he barely tweeted any tweets containing a hashtag, link, or picture. \n",
    "This plot does allow us to say whether a tweet containing a hashtag/link/picture likely came from Trump himself.\n",
    "\n",
    "'''\n",
    "display(Markdown(hashtag_answer))"
   ]
  },
  {
   "cell_type": "markdown",
   "metadata": {},
   "source": [
    "--- \n",
    "<br></br>\n",
    "\n",
    "## Question 6c \n",
    "\n",
    "Now, let's see whether there's a difference in sentiment for tweets with hashtags and those without.\n",
    "\n",
    "Create a line plot of the sentiment of Trump's non-retweet tweets over time, taking the mean sentiment for every month. Plot one line for tweets with hashtags and one for tweets without. Then, draw two vertical lines for the election date and inauguration date. Draw a horizontal line for y=0. Your plot should look like:\n",
    "\n",
    "![](hash_senti.png)\n",
    "\n",
    "What do you notice about the plot? What conclusions can you draw? Write your answers in `hash_senti_answer`.\n",
    "\n",
    "Hint 1: You'll want to start use your `senti` table, not your `hash_or_link` table. Try adding a column to `senti` containing True if the tweet has a hashtag/link/picture.\n",
    "\n",
    "Hint 2: You shouldn't use your `no_punc` column. Think about why not."
   ]
  },
  {
   "cell_type": "code",
   "execution_count": 868,
   "metadata": {
    "tags": [
     "student",
     "written"
    ]
   },
   "outputs": [
    {
     "name": "stderr",
     "output_type": "stream",
     "text": [
      "/Users/melissaly/anaconda3/envs/ds100/lib/python3.6/site-packages/ipykernel_launcher.py:3: UserWarning: This pattern has match groups. To actually get the groups, use str.extract.\n",
      "  This is separate from the ipykernel package so we can avoid doing imports until\n",
      "/Users/melissaly/anaconda3/envs/ds100/lib/python3.6/site-packages/ipykernel_launcher.py:4: UserWarning: This pattern has match groups. To actually get the groups, use str.extract.\n",
      "  after removing the cwd from sys.path.\n"
     ]
    },
    {
     "data": {
      "text/markdown": [
       "\n",
       "\n",
       "From the graph, we see an increase in both tweets with hashtags and tweets with no hashtags during the time period leading up to \n",
       "the election. We can also see a general increasing trend in positivity, but tweets with no hashtags are more negative than tweets with hashtags.\n",
       "\n",
       "Also from the graph we can see that sentiments of hashtagged tweets had much higher sentiment than non-hashtagged tweets. \n",
       "Since it's usually someone else on the Trump team who tweets formally with hashtags, we can see that Trump's own tweets are more\n",
       "negative (as seen by the negative sentiment). \n",
       "\n"
      ],
      "text/plain": [
       "<IPython.core.display.Markdown object>"
      ]
     },
     "metadata": {},
     "output_type": "display_data"
    },
    {
     "data": {
      "image/png": "[encoded data removed]",
      "text/plain": [
       "<matplotlib.figure.Figure at 0x132d8e8d0>"
      ]
     },
     "metadata": {},
     "output_type": "display_data"
    }
   ],
   "source": [
    "# Create your plot here...\n",
    "\n",
    "nort = senti[~senti['text'].str.contains(rt_re)]\n",
    "(nort.assign(has_hash_or_link=nort['text'].str.contains(hash_re))\n",
    " .loc[:, ['time', 'polarity', 'has_hash_or_link']].set_index('time')\n",
    " .groupby('has_hash_or_link')\n",
    " .resample('M').mean()\n",
    " .loc[:, 'polarity']\n",
    " .unstack(level=0)\n",
    " .plot())\n",
    "plt.axvline(ELEC_DATE, color = 'r', linestyle='--')\n",
    "plt.axvline(INAUG_DATE, color = 'r', linestyle='--')\n",
    "plt.axhline(0, color = 'black')\n",
    "\n",
    "# ...then write your takeaways here.\n",
    "hash_senti_answer = '''\n",
    "\n",
    "From the graph, we see an increase in both tweets with hashtags and tweets with no hashtags during the time period leading up to \n",
    "the election. We can also see a general increasing trend in positivity, but tweets with no hashtags are more negative than tweets with hashtags.\n",
    "\n",
    "Also from the graph we can see that sentiments of hashtagged tweets had much higher sentiment than non-hashtagged tweets. \n",
    "Since it's usually someone else on the Trump team who tweets formally with hashtags, we can see that Trump's own tweets are more\n",
    "negative (as seen by the negative sentiment). \n",
    "\n",
    "'''\n",
    "display(Markdown(hash_senti_answer))"
   ]
  },
  {
   "cell_type": "markdown",
   "metadata": {},
   "source": [
    "--- \n",
    "\n",
    "## Question 7: Engagement\n",
    "\n",
    "---\n",
    "<br></br>\n",
    "## Question 7a\n",
    "\n",
    "Which of Trump's tweets had the most retweets? Were there certain words that often led to more retweets?\n",
    "\n",
    "We can find this out by using our `tidy_format` DataFrame. For each word in the `tidy_format` DF, find out the number of retweets that its tweet got. Filter out words that didn't appear in at least 25 tweets, find out the median number of retweets each word got, and save the top 20 most retweeted words into a DataFrame called `top_20`. Your `top_20` table should have this format:\n",
    "\n",
    "<table border=\"1\" class=\"dataframe\">\n",
    "  <thead>\n",
    "    <tr style=\"text-align: right;\">\n",
    "      <th></th>\n",
    "      <th>retweet_count</th>\n",
    "    </tr>\n",
    "    <tr>\n",
    "      <th>word</th>\n",
    "      <th></th>\n",
    "    </tr>\n",
    "  </thead>\n",
    "  <tbody>\n",
    "    <tr>\n",
    "      <th>fake</th>\n",
    "      <td>22963.0</td>\n",
    "    </tr>\n",
    "    <tr>\n",
    "      <th>news</th>\n",
    "      <td>20463.0</td>\n",
    "    </tr>\n",
    "    <tr>\n",
    "      <th>ds100</th>\n",
    "      <td>20432.0</td>\n",
    "    </tr>\n",
    "    <tr>\n",
    "      <th>great</th>\n",
    "      <td>20159.0</td>\n",
    "    </tr>\n",
    "    <tr>\n",
    "      <th>class</th>\n",
    "      <td>20121.0</td>\n",
    "    </tr>\n",
    "  </tbody>\n",
    "</table>"
   ]
  },
  {
   "cell_type": "code",
   "execution_count": 860,
   "metadata": {
    "collapsed": true
   },
   "outputs": [],
   "source": [
    "filttable = tidy_format.join(trump['retweet_count']).loc[:, ['word', 'retweet_count']].groupby('word').filter(lambda g: len(g)>= 25)\n",
    "new_ftable = filttable.astype({\"retweet_count\":\"float\"}).groupby(\"word\").median().sort_values(by='retweet_count', ascending=False).head(20)"
   ]
  },
  {
   "cell_type": "code",
   "execution_count": 861,
   "metadata": {
    "collapsed": true,
    "tags": [
     "student"
    ]
   },
   "outputs": [],
   "source": [
    "top_20 = new_ftable"
   ]
  },
  {
   "cell_type": "code",
   "execution_count": 862,
   "metadata": {
    "tags": [
     "test",
     "q07a"
    ]
   },
   "outputs": [
    {
     "name": "stdout",
     "output_type": "stream",
     "text": [
      "~~~~~~~~~~~~~~~~~~~~~~~~~~~~~~~~~~~~~~~~~~~~~~~~~~~~~~~~~~~~~~~~~~~~~\n",
      "Running tests\n",
      "\n",
      "---------------------------------------------------------------------\n",
      "Test summary\n",
      "    Passed: 1\n",
      "    Failed: 0\n",
      "[ooooooooook] 100.0% passed\n",
      "\n"
     ]
    },
    {
     "data": {
      "application/javascript": [
       "IPython.notebook.save_checkpoint();"
      ],
      "text/plain": [
       "<IPython.core.display.Javascript object>"
      ]
     },
     "metadata": {},
     "output_type": "display_data"
    },
    {
     "data": {
      "application/javascript": [
       "IPython.notebook.save_notebook();"
      ],
      "text/plain": [
       "<IPython.core.display.Javascript object>"
      ]
     },
     "metadata": {},
     "output_type": "display_data"
    },
    {
     "name": "stdout",
     "output_type": "stream",
     "text": [
      "Saving notebook... Saved 'proj1.ipynb'.\n",
      "Submit... 100% complete\n",
      "Submission successful for user: melissakly@berkeley.edu\n",
      "URL: https://okpy.org/cal/ds100/fa17/proj1_part1/submissions/rkDQ6k\n",
      "NOTE: this is only a backup. To submit your assignment, use:\n",
      "\tpython3 ok --submit\n",
      "\n"
     ]
    }
   ],
   "source": [
    "_ = ok.grade('q07a')\n",
    "_ = ok.backup()"
   ]
  },
  {
   "cell_type": "markdown",
   "metadata": {},
   "source": [
    "Here's a bar chart of your results:"
   ]
  },
  {
   "cell_type": "code",
   "execution_count": 843,
   "metadata": {},
   "outputs": [
    {
     "data": {
      "text/plain": [
       "<matplotlib.axes._subplots.AxesSubplot at 0x1342c1080>"
      ]
     },
     "execution_count": 843,
     "metadata": {},
     "output_type": "execute_result"
    },
    {
     "data": {
      "image/png": "[encoded data removed]",
      "text/plain": [
       "<matplotlib.figure.Figure at 0x134121d30>"
      ]
     },
     "metadata": {},
     "output_type": "display_data"
    }
   ],
   "source": [
    "top_20['retweet_count'].sort_values().plot.barh(figsize=(10, 8))"
   ]
  },
  {
   "cell_type": "markdown",
   "metadata": {},
   "source": [
    "---\n",
    "<br></br>\n",
    "\n",
    "## Question 7b\n",
    "\n",
    "The phrase \"fake news\" is apparently really popular! We can conclude that Trump's tweets containing \"fake\" and/or \"news\" result in the most retweets relative to words his other tweets. Or can we?\n",
    "\n",
    "Consider each of the statements about possible confounding factors below. State whether each statement is true or false and explain. If the statement is true, state whether the confounding factor could have made \"fake\" and/or \"news\" higher on our list than they should be.\n",
    "\n",
    "1. We didn't restrict our word list to nouns, so we have unhelpful words like \"let\" and \"any\" in our result.\n",
    "1. We didn't remove hashtags in our text, so we have duplicate words (eg. #great and great).\n",
    "1. We didn't account for the fact that Trump's follower count has increased over time."
   ]
  },
  {
   "cell_type": "code",
   "execution_count": 844,
   "metadata": {
    "tags": [
     "student",
     "written"
    ]
   },
   "outputs": [
    {
     "data": {
      "text/markdown": [
       "\n",
       "\n",
       "1. True. It would change the order of 'news' because the word \"should\" is higher than news and if we remove 'should' that would increase \n",
       "the position of 'news'. And if we were to restrict words to only nouns then it would also drop 'fake' from the top 20 because 'fake' is not a noun, it is an adjective.\n",
       "2. False. We never removed hashtags and regex would count #great and great as different words. It would not double count the words.\n",
       "1. True. Trump's follower count has increased over time due to his inception as POTUS. \n",
       "A lot of his political announcements are throught his twitter and his followers would retweet his tweets a lot.\n",
       "\n"
      ],
      "text/plain": [
       "<IPython.core.display.Markdown object>"
      ]
     },
     "metadata": {},
     "output_type": "display_data"
    }
   ],
   "source": [
    "engagement_answer = '''\n",
    "\n",
    "1. True. It would change the order of 'news' because the word \"should\" is higher than news and if we remove 'should' that would increase \n",
    "the position of 'news'. And if we were to restrict words to only nouns then it would also drop 'fake' from the top 20 because 'fake' is not a noun, it is an adjective.\n",
    "2. False. We never removed hashtags and regex would count #great and great as different words. It would not double count the words.\n",
    "1. True. Trump's follower count has increased over time due to his inception as POTUS. \n",
    "A lot of his political announcements are throught his twitter and his followers would retweet his tweets a lot.\n",
    "\n",
    "'''\n",
    "display(Markdown(engagement_answer))"
   ]
  },
  {
   "cell_type": "markdown",
   "metadata": {},
   "source": [
    "---\n",
    "## Question 8: Fake News\n",
    "\n",
    "---\n",
    "<br></br>\n",
    "## Question 8a \n",
    "\n",
    "Let's investigate the term \"fake news\" a bit more. Create a table called `fake_counts` that has two columns:\n",
    "\n",
    "1. `fake_news`: The number of tweets containing the term \"fake news\".\n",
    "1. `total`: The total number of tweets for the time period.\n",
    "\n",
    "The index of the table should be datetimes for each two-week period in the data.\n",
    "\n",
    "The resulting table should look like:\n",
    "\n",
    "<table border=\"1\" class=\"dataframe\">\n",
    "  <thead>\n",
    "    <tr style=\"text-align: right;\">\n",
    "      <th></th>\n",
    "      <th>fake_news</th>\n",
    "      <th>total</th>\n",
    "    </tr>\n",
    "    <tr>\n",
    "      <th>time</th>\n",
    "      <th></th>\n",
    "      <th></th>\n",
    "    </tr>\n",
    "  </thead>\n",
    "  <tbody>\n",
    "    <tr>\n",
    "      <th>2016-07-31</th>\n",
    "      <td>0</td>\n",
    "      <td>79</td>\n",
    "    </tr>\n",
    "    <tr>\n",
    "      <th>2016-08-14</th>\n",
    "      <td>0</td>\n",
    "      <td>143</td>\n",
    "    </tr>\n",
    "    <tr>\n",
    "      <th>2016-08-28</th>\n",
    "      <td>0</td>\n",
    "      <td>118</td>\n",
    "    </tr>\n",
    "    <tr>\n",
    "      <th>2016-09-11</th>\n",
    "      <td>0</td>\n",
    "      <td>121</td>\n",
    "    </tr>\n",
    "    <tr>\n",
    "      <th>2016-09-25</th>\n",
    "      <td>0</td>\n",
    "      <td>111</td>\n",
    "    </tr>\n",
    "  </tbody>\n",
    "</table>"
   ]
  },
  {
   "cell_type": "code",
   "execution_count": 863,
   "metadata": {},
   "outputs": [
    {
     "name": "stderr",
     "output_type": "stream",
     "text": [
      "/Users/melissaly/anaconda3/envs/ds100/lib/python3.6/site-packages/ipykernel_launcher.py:4: UserWarning: This pattern has match groups. To actually get the groups, use str.extract.\n",
      "  after removing the cwd from sys.path.\n"
     ]
    },
    {
     "data": {
      "text/html": [
       "<div>\n",
       "<style>\n",
       "    .dataframe thead tr:only-child th {\n",
       "        text-align: right;\n",
       "    }\n",
       "\n",
       "    .dataframe thead th {\n",
       "        text-align: left;\n",
       "    }\n",
       "\n",
       "    .dataframe tbody tr th {\n",
       "        vertical-align: top;\n",
       "    }\n",
       "</style>\n",
       "<table border=\"1\" class=\"dataframe\">\n",
       "  <thead>\n",
       "    <tr style=\"text-align: right;\">\n",
       "      <th></th>\n",
       "      <th>fake_news</th>\n",
       "      <th>total</th>\n",
       "    </tr>\n",
       "    <tr>\n",
       "      <th>time</th>\n",
       "      <th></th>\n",
       "      <th></th>\n",
       "    </tr>\n",
       "  </thead>\n",
       "  <tbody>\n",
       "    <tr>\n",
       "      <th>2016-07-31</th>\n",
       "      <td>0</td>\n",
       "      <td>16</td>\n",
       "    </tr>\n",
       "    <tr>\n",
       "      <th>2016-08-14</th>\n",
       "      <td>0</td>\n",
       "      <td>143</td>\n",
       "    </tr>\n",
       "    <tr>\n",
       "      <th>2016-08-28</th>\n",
       "      <td>0</td>\n",
       "      <td>118</td>\n",
       "    </tr>\n",
       "    <tr>\n",
       "      <th>2016-09-11</th>\n",
       "      <td>0</td>\n",
       "      <td>121</td>\n",
       "    </tr>\n",
       "    <tr>\n",
       "      <th>2016-09-25</th>\n",
       "      <td>0</td>\n",
       "      <td>111</td>\n",
       "    </tr>\n",
       "    <tr>\n",
       "      <th>2016-10-09</th>\n",
       "      <td>0</td>\n",
       "      <td>202</td>\n",
       "    </tr>\n",
       "    <tr>\n",
       "      <th>2016-10-23</th>\n",
       "      <td>0</td>\n",
       "      <td>316</td>\n",
       "    </tr>\n",
       "    <tr>\n",
       "      <th>2016-11-06</th>\n",
       "      <td>0</td>\n",
       "      <td>168</td>\n",
       "    </tr>\n",
       "    <tr>\n",
       "      <th>2016-11-20</th>\n",
       "      <td>0</td>\n",
       "      <td>68</td>\n",
       "    </tr>\n",
       "    <tr>\n",
       "      <th>2016-12-04</th>\n",
       "      <td>0</td>\n",
       "      <td>76</td>\n",
       "    </tr>\n",
       "    <tr>\n",
       "      <th>2016-12-18</th>\n",
       "      <td>1</td>\n",
       "      <td>68</td>\n",
       "    </tr>\n",
       "    <tr>\n",
       "      <th>2017-01-01</th>\n",
       "      <td>0</td>\n",
       "      <td>52</td>\n",
       "    </tr>\n",
       "    <tr>\n",
       "      <th>2017-01-15</th>\n",
       "      <td>6</td>\n",
       "      <td>97</td>\n",
       "    </tr>\n",
       "    <tr>\n",
       "      <th>2017-01-29</th>\n",
       "      <td>5</td>\n",
       "      <td>88</td>\n",
       "    </tr>\n",
       "    <tr>\n",
       "      <th>2017-02-12</th>\n",
       "      <td>9</td>\n",
       "      <td>82</td>\n",
       "    </tr>\n",
       "    <tr>\n",
       "      <th>2017-02-26</th>\n",
       "      <td>8</td>\n",
       "      <td>55</td>\n",
       "    </tr>\n",
       "    <tr>\n",
       "      <th>2017-03-12</th>\n",
       "      <td>1</td>\n",
       "      <td>53</td>\n",
       "    </tr>\n",
       "    <tr>\n",
       "      <th>2017-03-26</th>\n",
       "      <td>5</td>\n",
       "      <td>56</td>\n",
       "    </tr>\n",
       "    <tr>\n",
       "      <th>2017-04-09</th>\n",
       "      <td>3</td>\n",
       "      <td>61</td>\n",
       "    </tr>\n",
       "    <tr>\n",
       "      <th>2017-04-23</th>\n",
       "      <td>0</td>\n",
       "      <td>71</td>\n",
       "    </tr>\n",
       "    <tr>\n",
       "      <th>2017-05-07</th>\n",
       "      <td>4</td>\n",
       "      <td>78</td>\n",
       "    </tr>\n",
       "    <tr>\n",
       "      <th>2017-05-21</th>\n",
       "      <td>2</td>\n",
       "      <td>58</td>\n",
       "    </tr>\n",
       "    <tr>\n",
       "      <th>2017-06-04</th>\n",
       "      <td>5</td>\n",
       "      <td>67</td>\n",
       "    </tr>\n",
       "    <tr>\n",
       "      <th>2017-06-18</th>\n",
       "      <td>4</td>\n",
       "      <td>78</td>\n",
       "    </tr>\n",
       "    <tr>\n",
       "      <th>2017-07-02</th>\n",
       "      <td>8</td>\n",
       "      <td>111</td>\n",
       "    </tr>\n",
       "    <tr>\n",
       "      <th>2017-07-16</th>\n",
       "      <td>7</td>\n",
       "      <td>103</td>\n",
       "    </tr>\n",
       "    <tr>\n",
       "      <th>2017-07-30</th>\n",
       "      <td>9</td>\n",
       "      <td>104</td>\n",
       "    </tr>\n",
       "    <tr>\n",
       "      <th>2017-08-13</th>\n",
       "      <td>8</td>\n",
       "      <td>104</td>\n",
       "    </tr>\n",
       "    <tr>\n",
       "      <th>2017-08-27</th>\n",
       "      <td>9</td>\n",
       "      <td>119</td>\n",
       "    </tr>\n",
       "    <tr>\n",
       "      <th>2017-09-10</th>\n",
       "      <td>0</td>\n",
       "      <td>92</td>\n",
       "    </tr>\n",
       "    <tr>\n",
       "      <th>2017-09-24</th>\n",
       "      <td>2</td>\n",
       "      <td>135</td>\n",
       "    </tr>\n",
       "    <tr>\n",
       "      <th>2017-10-08</th>\n",
       "      <td>1</td>\n",
       "      <td>53</td>\n",
       "    </tr>\n",
       "  </tbody>\n",
       "</table>\n",
       "</div>"
      ],
      "text/plain": [
       "           fake_news  total\n",
       "time                       \n",
       "2016-07-31         0     16\n",
       "2016-08-14         0    143\n",
       "2016-08-28         0    118\n",
       "2016-09-11         0    121\n",
       "2016-09-25         0    111\n",
       "2016-10-09         0    202\n",
       "2016-10-23         0    316\n",
       "2016-11-06         0    168\n",
       "2016-11-20         0     68\n",
       "2016-12-04         0     76\n",
       "2016-12-18         1     68\n",
       "2017-01-01         0     52\n",
       "2017-01-15         6     97\n",
       "2017-01-29         5     88\n",
       "2017-02-12         9     82\n",
       "2017-02-26         8     55\n",
       "2017-03-12         1     53\n",
       "2017-03-26         5     56\n",
       "2017-04-09         3     61\n",
       "2017-04-23         0     71\n",
       "2017-05-07         4     78\n",
       "2017-05-21         2     58\n",
       "2017-06-04         5     67\n",
       "2017-06-18         4     78\n",
       "2017-07-02         8    111\n",
       "2017-07-16         7    103\n",
       "2017-07-30         9    104\n",
       "2017-08-13         8    104\n",
       "2017-08-27         9    119\n",
       "2017-09-10         0     92\n",
       "2017-09-24         2    135\n",
       "2017-10-08         1     53"
      ]
     },
     "execution_count": 863,
     "metadata": {},
     "output_type": "execute_result"
    }
   ],
   "source": [
    "fake_re = r'(\\b(fake news)\\b)'\n",
    "copy_tr = trump.reset_index()\n",
    "fake_c = copy_tr.loc[:, ['id', 'time', 'text']]\n",
    "fake_c['fake_news'] = fake_c['text'].str.contains(fake_re)\n",
    "fake_table = (fake_c.loc[:, ['id', 'time', 'fake_news']].set_index('time')\n",
    "               .groupby('fake_news').resample('2W').size().reset_index(name='total'))\n",
    "            \n",
    "fake_table = fake_table.loc[:, ['time', 'total']]\n",
    "\n",
    "sum_counts = (fake_c.loc[:, ['id', 'time', 'fake_news']].set_index('time').resample('2W').sum().reset_index())\n",
    "\n",
    "result_df = pd.merge(fake_table, sum_counts)\n",
    "result_df = result_df.set_index('time').loc[:, ['fake_news', 'total']]\n",
    "result_df"
   ]
  },
  {
   "cell_type": "code",
   "execution_count": 864,
   "metadata": {
    "collapsed": true,
    "tags": [
     "student"
    ]
   },
   "outputs": [],
   "source": [
    "fake_counts = result_df"
   ]
  },
  {
   "cell_type": "code",
   "execution_count": 865,
   "metadata": {
    "tags": [
     "test",
     "q08a"
    ]
   },
   "outputs": [
    {
     "name": "stdout",
     "output_type": "stream",
     "text": [
      "~~~~~~~~~~~~~~~~~~~~~~~~~~~~~~~~~~~~~~~~~~~~~~~~~~~~~~~~~~~~~~~~~~~~~\n",
      "Running tests\n",
      "\n",
      "---------------------------------------------------------------------\n",
      "Test summary\n",
      "    Passed: 1\n",
      "    Failed: 0\n",
      "[ooooooooook] 100.0% passed\n",
      "\n"
     ]
    },
    {
     "data": {
      "application/javascript": [
       "IPython.notebook.save_checkpoint();"
      ],
      "text/plain": [
       "<IPython.core.display.Javascript object>"
      ]
     },
     "metadata": {},
     "output_type": "display_data"
    },
    {
     "data": {
      "application/javascript": [
       "IPython.notebook.save_notebook();"
      ],
      "text/plain": [
       "<IPython.core.display.Javascript object>"
      ]
     },
     "metadata": {},
     "output_type": "display_data"
    },
    {
     "name": "stdout",
     "output_type": "stream",
     "text": [
      "Saving notebook... Saved 'proj1.ipynb'.\n",
      "Submit... 100% complete\n",
      "Submission successful for user: melissakly@berkeley.edu\n",
      "URL: https://okpy.org/cal/ds100/fa17/proj1_part1/submissions/NkwZRK\n",
      "NOTE: this is only a backup. To submit your assignment, use:\n",
      "\tpython3 ok --submit\n",
      "\n"
     ]
    }
   ],
   "source": [
    "_ = ok.grade('q08a')\n",
    "_ = ok.backup()"
   ]
  },
  {
   "cell_type": "markdown",
   "metadata": {},
   "source": [
    "--- \n",
    "<br></br>\n",
    "\n",
    "## Question 8b\n",
    "\n",
    "Now, create a line plot showing the proportion of tweets containing the term \"fake news\" over time. Then, draw two vertical lines corresponding to the election and inauguration dates.\n",
    "\n",
    "What do you notice? Write your conclusions in `fake_news_answer`."
   ]
  },
  {
   "cell_type": "code",
   "execution_count": 866,
   "metadata": {
    "tags": [
     "student",
     "written"
    ]
   },
   "outputs": [
    {
     "data": {
      "text/markdown": [
       "\n",
       "\n",
       "Fake news did not appear at all before the election date. But a little while afterwards, when there was talk about Russia's involvements \n",
       "in the election, the term \"fake news\" appeared much more often. And since then 'fake news' has made more appearances in his tweets.\n",
       "There is an especially high peek in fake news tweets around March. \n",
       "\n",
       "\n"
      ],
      "text/plain": [
       "<IPython.core.display.Markdown object>"
      ]
     },
     "metadata": {},
     "output_type": "display_data"
    },
    {
     "data": {
      "image/png": "[encoded data removed]",
      "text/plain": [
       "<matplotlib.figure.Figure at 0x135640668>"
      ]
     },
     "metadata": {},
     "output_type": "display_data"
    }
   ],
   "source": [
    "# Create your plot here...\n",
    "getfake = fake_counts.copy()\n",
    "x = getfake['fake_news']/getfake['total']\n",
    "getfake['prop'] = x\n",
    "getfake = getfake.drop(['total', 'fake_news'], axis=1)\n",
    "getfake.plot()\n",
    "plt.axvline(ELEC_DATE, color = 'r', linestyle='--')\n",
    "plt.axvline(INAUG_DATE, color = 'r', linestyle='--')\n",
    "\n",
    "# ...then write your takeaways here.\n",
    "fake_news_answer = '''\n",
    "\n",
    "Fake news did not appear at all before the election date. But a little while afterwards, when there was talk about Russia's involvements \n",
    "in the election, the term \"fake news\" appeared much more often. And since then 'fake news' has made more appearances in his tweets.\n",
    "There is an especially high peek in fake news tweets around March. \n",
    "\n",
    "\n",
    "'''\n",
    "display(Markdown(fake_news_answer))"
   ]
  },
  {
   "cell_type": "markdown",
   "metadata": {},
   "source": [
    "## Submission\n",
    "\n",
    "Congrats, you just finished Project 1!\n",
    "\n",
    "Run the cell below to run all the OkPy tests at once:"
   ]
  },
  {
   "cell_type": "code",
   "execution_count": 871,
   "metadata": {},
   "outputs": [
    {
     "name": "stdout",
     "output_type": "stream",
     "text": [
      "Running all tests...\n",
      "~~~~~~~~~~~~~~~~~~~~~~~~~~~~~~~~~~~~~~~~~~~~~~~~~~~~~~~~~~~~~~~~~~~~~\n",
      "Running tests\n",
      "\n",
      "---------------------------------------------------------------------\n",
      "Test summary\n",
      "    Passed: 1\n",
      "    Failed: 0\n",
      "[ooooooooook] 100.0% passed\n",
      "\n",
      "~~~~~~~~~~~~~~~~~~~~~~~~~~~~~~~~~~~~~~~~~~~~~~~~~~~~~~~~~~~~~~~~~~~~~\n",
      "Running tests\n",
      "\n",
      "---------------------------------------------------------------------\n",
      "Test summary\n",
      "    Passed: 1\n",
      "    Failed: 0\n",
      "[ooooooooook] 100.0% passed\n",
      "\n",
      "~~~~~~~~~~~~~~~~~~~~~~~~~~~~~~~~~~~~~~~~~~~~~~~~~~~~~~~~~~~~~~~~~~~~~\n",
      "Running tests\n",
      "\n",
      "---------------------------------------------------------------------\n",
      "Test summary\n",
      "    Passed: 1\n",
      "    Failed: 0\n",
      "[ooooooooook] 100.0% passed\n",
      "\n",
      "~~~~~~~~~~~~~~~~~~~~~~~~~~~~~~~~~~~~~~~~~~~~~~~~~~~~~~~~~~~~~~~~~~~~~\n",
      "Running tests\n",
      "\n",
      "---------------------------------------------------------------------\n",
      "Test summary\n",
      "    Passed: 1\n",
      "    Failed: 0\n",
      "[ooooooooook] 100.0% passed\n",
      "\n",
      "~~~~~~~~~~~~~~~~~~~~~~~~~~~~~~~~~~~~~~~~~~~~~~~~~~~~~~~~~~~~~~~~~~~~~\n",
      "Running tests\n",
      "\n",
      "---------------------------------------------------------------------\n",
      "Test summary\n",
      "    Passed: 1\n",
      "    Failed: 0\n",
      "[ooooooooook] 100.0% passed\n",
      "\n",
      "~~~~~~~~~~~~~~~~~~~~~~~~~~~~~~~~~~~~~~~~~~~~~~~~~~~~~~~~~~~~~~~~~~~~~\n",
      "Running tests\n",
      "\n",
      "---------------------------------------------------------------------\n",
      "Test summary\n",
      "    Passed: 1\n",
      "    Failed: 0\n",
      "[ooooooooook] 100.0% passed\n",
      "\n",
      "~~~~~~~~~~~~~~~~~~~~~~~~~~~~~~~~~~~~~~~~~~~~~~~~~~~~~~~~~~~~~~~~~~~~~\n",
      "Running tests\n",
      "\n",
      "---------------------------------------------------------------------\n",
      "Test summary\n",
      "    Passed: 1\n",
      "    Failed: 0\n",
      "[ooooooooook] 100.0% passed\n",
      "\n",
      "~~~~~~~~~~~~~~~~~~~~~~~~~~~~~~~~~~~~~~~~~~~~~~~~~~~~~~~~~~~~~~~~~~~~~\n",
      "Running tests\n",
      "\n",
      "---------------------------------------------------------------------\n",
      "Test summary\n",
      "    Passed: 1\n",
      "    Failed: 0\n",
      "[ooooooooook] 100.0% passed\n",
      "\n",
      "~~~~~~~~~~~~~~~~~~~~~~~~~~~~~~~~~~~~~~~~~~~~~~~~~~~~~~~~~~~~~~~~~~~~~\n",
      "Running tests\n",
      "\n",
      "---------------------------------------------------------------------\n",
      "Test summary\n",
      "    Passed: 1\n",
      "    Failed: 0\n",
      "[ooooooooook] 100.0% passed\n",
      "\n",
      "~~~~~~~~~~~~~~~~~~~~~~~~~~~~~~~~~~~~~~~~~~~~~~~~~~~~~~~~~~~~~~~~~~~~~\n",
      "Running tests\n",
      "\n",
      "---------------------------------------------------------------------\n",
      "Test summary\n",
      "    Passed: 1\n",
      "    Failed: 0\n",
      "[ooooooooook] 100.0% passed\n",
      "\n",
      "~~~~~~~~~~~~~~~~~~~~~~~~~~~~~~~~~~~~~~~~~~~~~~~~~~~~~~~~~~~~~~~~~~~~~\n",
      "Running tests\n",
      "\n",
      "---------------------------------------------------------------------\n",
      "Test summary\n",
      "    Passed: 1\n",
      "    Failed: 0\n",
      "[ooooooooook] 100.0% passed\n",
      "\n"
     ]
    }
   ],
   "source": [
    "import os\n",
    "print(\"Running all tests...\")\n",
    "_ = [ok.grade(q[:-3]) for q in os.listdir(\"ok_tests\") if q.startswith('q')]"
   ]
  },
  {
   "cell_type": "markdown",
   "metadata": {},
   "source": [
    "Now, run the cell below to submit your assignment to OkPy. The autograder should email you shortly with your autograded score. The autograder will only run once every 30 minutes.\n",
    "\n",
    "**If you're failing tests on the autograder but pass them locally**, you should simulate the autograder by doing the following:\n",
    "\n",
    "1. In the top menu, click Kernel -> Restart and Run all.\n",
    "2. Run the cell above to run each OkPy test.\n",
    "\n",
    "**You must make sure that you pass all the tests when running steps 1 and 2 in order.** If you are still failing autograder tests, you should double check your results."
   ]
  },
  {
   "cell_type": "code",
   "execution_count": null,
   "metadata": {},
   "outputs": [
    {
     "data": {
      "application/javascript": [
       "IPython.notebook.save_checkpoint();"
      ],
      "text/plain": [
       "<IPython.core.display.Javascript object>"
      ]
     },
     "metadata": {},
     "output_type": "display_data"
    }
   ],
   "source": [
    "_ = ok.submit()"
   ]
  },
  {
   "cell_type": "code",
   "execution_count": null,
   "metadata": {
    "collapsed": true
   },
   "outputs": [],
   "source": []
  }
 ],
 "metadata": {
  "kernelspec": {
   "display_name": "Python 3",
   "language": "python",
   "name": "python3"
  },
  "language_info": {
   "codemirror_mode": {
    "name": "ipython",
    "version": 3
   },
   "file_extension": ".py",
   "mimetype": "text/x-python",
   "name": "python",
   "nbconvert_exporter": "python",
   "pygments_lexer": "ipython3",
   "version": "3.6.1"
  }
 },
 "nbformat": 4,
 "nbformat_minor": 2
}
